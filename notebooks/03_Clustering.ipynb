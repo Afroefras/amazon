{
 "cells": [
  {
   "cell_type": "markdown",
   "id": "bacterial-designation",
   "metadata": {},
   "source": [
    "# Amazon, modelo no supervisado"
   ]
  },
  {
   "cell_type": "markdown",
   "id": "brilliant-railway",
   "metadata": {
    "heading_collapsed": true
   },
   "source": [
    "## Importar"
   ]
  },
  {
   "cell_type": "code",
   "execution_count": 1,
   "id": "accurate-pioneer",
   "metadata": {
    "ExecuteTime": {
     "end_time": "2021-02-15T22:13:24.096409Z",
     "start_time": "2021-02-15T22:13:23.205520Z"
    },
    "hidden": true
   },
   "outputs": [
    {
     "data": {
      "text/plain": [
       "['sentim.csv', 'df.csv']"
      ]
     },
     "execution_count": 1,
     "metadata": {},
     "output_type": "execute_result"
    }
   ],
   "source": [
    "# %load basic\n",
    "import os\n",
    "import numpy as np\n",
    "import pandas as pd\n",
    "import matplotlib.pyplot as plt\n",
    "pd.set_option('display.max_columns',200)\n",
    "pd.options.display.float_format = '{:.2f}'.format\n",
    "liga = '/Users/efraflores/Desktop/EF/diplo/AZ/data/'\n",
    "os.listdir(liga)"
   ]
  },
  {
   "cell_type": "code",
   "execution_count": 2,
   "id": "heated-italy",
   "metadata": {
    "ExecuteTime": {
     "end_time": "2021-02-15T22:13:24.101362Z",
     "start_time": "2021-02-15T22:13:24.099018Z"
    },
    "hidden": true
   },
   "outputs": [],
   "source": [
    "import time\n",
    "start = time.time()"
   ]
  },
  {
   "cell_type": "code",
   "execution_count": 3,
   "id": "vital-siemens",
   "metadata": {
    "ExecuteTime": {
     "end_time": "2021-02-15T22:13:36.932869Z",
     "start_time": "2021-02-15T22:13:24.105426Z"
    },
    "hidden": true
   },
   "outputs": [
    {
     "name": "stderr",
     "output_type": "stream",
     "text": [
      "/Users/efraflores/Desktop/corner/corner/lib/python3.9/site-packages/IPython/core/interactiveshell.py:3155: DtypeWarning: Columns (9) have mixed types.Specify dtype option on import or set low_memory=False.\n",
      "  has_raised = await self.run_ast_nodes(code_ast.body, cell_name,\n"
     ]
    },
    {
     "data": {
      "text/html": [
       "<div>\n",
       "<style scoped>\n",
       "    .dataframe tbody tr th:only-of-type {\n",
       "        vertical-align: middle;\n",
       "    }\n",
       "\n",
       "    .dataframe tbody tr th {\n",
       "        vertical-align: top;\n",
       "    }\n",
       "\n",
       "    .dataframe thead th {\n",
       "        text-align: right;\n",
       "    }\n",
       "</style>\n",
       "<table border=\"1\" class=\"dataframe\">\n",
       "  <thead>\n",
       "    <tr style=\"text-align: right;\">\n",
       "      <th></th>\n",
       "      <th>overall</th>\n",
       "      <th>verified</th>\n",
       "      <th>reviewTime</th>\n",
       "      <th>reviewerID</th>\n",
       "      <th>asin</th>\n",
       "      <th>reviewerName</th>\n",
       "      <th>reviewText</th>\n",
       "      <th>summary</th>\n",
       "      <th>unixReviewTime</th>\n",
       "      <th>vote</th>\n",
       "      <th>style</th>\n",
       "      <th>image</th>\n",
       "      <th>category</th>\n",
       "      <th>Anio</th>\n",
       "      <th>Mes</th>\n",
       "      <th>Sem</th>\n",
       "      <th>DiaSem</th>\n",
       "      <th>reviewText_limpio</th>\n",
       "      <th>reviewText_long</th>\n",
       "      <th>reviewText_n_words</th>\n",
       "      <th>reviewText_relevant</th>\n",
       "      <th>neg</th>\n",
       "      <th>neu</th>\n",
       "      <th>pos</th>\n",
       "      <th>compound</th>\n",
       "    </tr>\n",
       "  </thead>\n",
       "  <tbody>\n",
       "    <tr>\n",
       "      <th>689264</th>\n",
       "      <td>5.00</td>\n",
       "      <td>True</td>\n",
       "      <td>2014-12-29</td>\n",
       "      <td>A151DP6LWWI8LC</td>\n",
       "      <td>B009972D5U</td>\n",
       "      <td>Aleksandr</td>\n",
       "      <td>great Five Stars</td>\n",
       "      <td>Five Stars</td>\n",
       "      <td>0 days</td>\n",
       "      <td>NaN</td>\n",
       "      <td>Sí</td>\n",
       "      <td>NaN</td>\n",
       "      <td>cell_phones_and_accessories</td>\n",
       "      <td>2014</td>\n",
       "      <td>dic</td>\n",
       "      <td>1</td>\n",
       "      <td>lun</td>\n",
       "      <td>great five star</td>\n",
       "      <td>16.00</td>\n",
       "      <td>3.00</td>\n",
       "      <td>0.94</td>\n",
       "      <td>0.00</td>\n",
       "      <td>0.33</td>\n",
       "      <td>0.67</td>\n",
       "      <td>0.62</td>\n",
       "    </tr>\n",
       "    <tr>\n",
       "      <th>315528</th>\n",
       "      <td>5.00</td>\n",
       "      <td>True</td>\n",
       "      <td>2015-05-18</td>\n",
       "      <td>A1W49O3LYZ8GI5</td>\n",
       "      <td>B007EZM98U</td>\n",
       "      <td>Marilyn Burrows</td>\n",
       "      <td>Two sets of orphaned children. One set were ta...</td>\n",
       "      <td>He came to America to build a mansion for his ...</td>\n",
       "      <td>0 days</td>\n",
       "      <td>NaN</td>\n",
       "      <td>No_especifica</td>\n",
       "      <td>NaN</td>\n",
       "      <td>kindle_store</td>\n",
       "      <td>2015</td>\n",
       "      <td>may</td>\n",
       "      <td>21</td>\n",
       "      <td>lun</td>\n",
       "      <td>two set orphaned child one set taken relative ...</td>\n",
       "      <td>330.00</td>\n",
       "      <td>63.00</td>\n",
       "      <td>0.59</td>\n",
       "      <td>0.23</td>\n",
       "      <td>0.57</td>\n",
       "      <td>0.21</td>\n",
       "      <td>-0.20</td>\n",
       "    </tr>\n",
       "    <tr>\n",
       "      <th>336924</th>\n",
       "      <td>1.00</td>\n",
       "      <td>True</td>\n",
       "      <td>2013-03-24</td>\n",
       "      <td>A14LE8RUXR8OAF</td>\n",
       "      <td>B0085L1GD6</td>\n",
       "      <td>Sarah Mendez</td>\n",
       "      <td>I don't what to say um I kinda expected more o...</td>\n",
       "      <td>Real Lies (the shortest book of all time)</td>\n",
       "      <td>0 days</td>\n",
       "      <td>2.0</td>\n",
       "      <td>No_especifica</td>\n",
       "      <td>NaN</td>\n",
       "      <td>kindle_store</td>\n",
       "      <td>2013</td>\n",
       "      <td>mar</td>\n",
       "      <td>12</td>\n",
       "      <td>dom</td>\n",
       "      <td>say um kinda expected book understand like fou...</td>\n",
       "      <td>204.00</td>\n",
       "      <td>41.00</td>\n",
       "      <td>0.55</td>\n",
       "      <td>0.00</td>\n",
       "      <td>0.88</td>\n",
       "      <td>0.12</td>\n",
       "      <td>0.36</td>\n",
       "    </tr>\n",
       "    <tr>\n",
       "      <th>77800</th>\n",
       "      <td>3.00</td>\n",
       "      <td>False</td>\n",
       "      <td>2006-12-18</td>\n",
       "      <td>A3HHJQ7ZZ084I9</td>\n",
       "      <td>B000E0XX9Q</td>\n",
       "      <td>C. R. Nelson</td>\n",
       "      <td>I just received this game from myself as an ea...</td>\n",
       "      <td>I Think I Can I Think I Can I Think I...Can't?</td>\n",
       "      <td>0 days</td>\n",
       "      <td>5</td>\n",
       "      <td>No_especifica</td>\n",
       "      <td>NaN</td>\n",
       "      <td>video_games</td>\n",
       "      <td>2006</td>\n",
       "      <td>dic</td>\n",
       "      <td>51</td>\n",
       "      <td>lun</td>\n",
       "      <td>received game early christmas present hardly k...</td>\n",
       "      <td>2400.00</td>\n",
       "      <td>440.00</td>\n",
       "      <td>0.57</td>\n",
       "      <td>0.12</td>\n",
       "      <td>0.61</td>\n",
       "      <td>0.27</td>\n",
       "      <td>0.99</td>\n",
       "    </tr>\n",
       "  </tbody>\n",
       "</table>\n",
       "</div>"
      ],
      "text/plain": [
       "        overall  verified  reviewTime      reviewerID        asin  \\\n",
       "689264     5.00      True  2014-12-29  A151DP6LWWI8LC  B009972D5U   \n",
       "315528     5.00      True  2015-05-18  A1W49O3LYZ8GI5  B007EZM98U   \n",
       "336924     1.00      True  2013-03-24  A14LE8RUXR8OAF  B0085L1GD6   \n",
       "77800      3.00     False  2006-12-18  A3HHJQ7ZZ084I9  B000E0XX9Q   \n",
       "\n",
       "           reviewerName                                         reviewText  \\\n",
       "689264        Aleksandr                                   great Five Stars   \n",
       "315528  Marilyn Burrows  Two sets of orphaned children. One set were ta...   \n",
       "336924     Sarah Mendez  I don't what to say um I kinda expected more o...   \n",
       "77800      C. R. Nelson  I just received this game from myself as an ea...   \n",
       "\n",
       "                                                  summary unixReviewTime vote  \\\n",
       "689264                                         Five Stars         0 days  NaN   \n",
       "315528  He came to America to build a mansion for his ...         0 days  NaN   \n",
       "336924          Real Lies (the shortest book of all time)         0 days  2.0   \n",
       "77800      I Think I Can I Think I Can I Think I...Can't?         0 days    5   \n",
       "\n",
       "                style  image                     category  Anio  Mes  Sem  \\\n",
       "689264             Sí    NaN  cell_phones_and_accessories  2014  dic    1   \n",
       "315528  No_especifica    NaN                 kindle_store  2015  may   21   \n",
       "336924  No_especifica    NaN                 kindle_store  2013  mar   12   \n",
       "77800   No_especifica    NaN                  video_games  2006  dic   51   \n",
       "\n",
       "       DiaSem                                  reviewText_limpio  \\\n",
       "689264    lun                                    great five star   \n",
       "315528    lun  two set orphaned child one set taken relative ...   \n",
       "336924    dom  say um kinda expected book understand like fou...   \n",
       "77800     lun  received game early christmas present hardly k...   \n",
       "\n",
       "        reviewText_long  reviewText_n_words  reviewText_relevant  neg  neu  \\\n",
       "689264            16.00                3.00                 0.94 0.00 0.33   \n",
       "315528           330.00               63.00                 0.59 0.23 0.57   \n",
       "336924           204.00               41.00                 0.55 0.00 0.88   \n",
       "77800           2400.00              440.00                 0.57 0.12 0.61   \n",
       "\n",
       "        pos  compound  \n",
       "689264 0.67      0.62  \n",
       "315528 0.21     -0.20  \n",
       "336924 0.12      0.36  \n",
       "77800  0.27      0.99  "
      ]
     },
     "execution_count": 3,
     "metadata": {},
     "output_type": "execute_result"
    }
   ],
   "source": [
    "df = pd.read_csv(liga + 'df.csv').join(pd.read_csv(liga + 'sentim.csv'))\n",
    "backup = df.copy()\n",
    "df.sample(4)"
   ]
  },
  {
   "cell_type": "markdown",
   "id": "maritime-standard",
   "metadata": {
    "heading_collapsed": true
   },
   "source": [
    "## Funciones"
   ]
  },
  {
   "cell_type": "code",
   "execution_count": 4,
   "id": "olympic-result",
   "metadata": {
    "ExecuteTime": {
     "end_time": "2021-02-15T22:13:36.942237Z",
     "start_time": "2021-02-15T22:13:36.937585Z"
    },
    "hidden": true
   },
   "outputs": [],
   "source": [
    "import time\n",
    "import math\n",
    "\n",
    "start = time.time()\n",
    "\n",
    "def time_exp(x):\n",
    "    print(str(int(math.floor(x/60))\n",
    "             ) + \" minutos con \" + '{:.2f}'.format(60*(x/60 - math.floor(x/60))\n",
    "                                                  ) + \" segundos\")"
   ]
  },
  {
   "cell_type": "code",
   "execution_count": 5,
   "id": "prompt-lightning",
   "metadata": {
    "ExecuteTime": {
     "end_time": "2021-02-15T22:13:36.948589Z",
     "start_time": "2021-02-15T22:13:36.944682Z"
    },
    "hidden": true
   },
   "outputs": [],
   "source": [
    "#Tono para cuando termina el script\n",
    "from IPython.lib.display import Audio\n",
    "import numpy as np\n",
    "\n",
    "def tono(a = 1000, b = 700, play_time_seconds = 1, framerate = 4410,):\n",
    "    t = np.linspace(0, play_time_seconds, framerate*play_time_seconds)*np.pi\n",
    "    return Audio(np.sin(a*t) + np.sin(b*t), rate = framerate, autoplay=True)"
   ]
  },
  {
   "cell_type": "code",
   "execution_count": 6,
   "id": "prepared-thumbnail",
   "metadata": {
    "ExecuteTime": {
     "end_time": "2021-02-15T22:13:36.957552Z",
     "start_time": "2021-02-15T22:13:36.951069Z"
    },
    "hidden": true
   },
   "outputs": [],
   "source": [
    "def outlier(df, x , p = 0.5):\n",
    "    var = df[x]\n",
    "    q1 = var.quantile(p/2)\n",
    "    q3 = var.quantile(1 - p/2)\n",
    "    iqr = q3 - q1\n",
    "    df = df[(var.isnull()) | ((var >= q1 - 1.5*iqr) & (var <= q3 + 1.5*iqr))].copy()\n",
    "    return df"
   ]
  },
  {
   "cell_type": "code",
   "execution_count": 7,
   "id": "characteristic-truth",
   "metadata": {
    "ExecuteTime": {
     "end_time": "2021-02-15T22:13:36.965481Z",
     "start_time": "2021-02-15T22:13:36.961060Z"
    },
    "hidden": true
   },
   "outputs": [],
   "source": [
    "def perc25(x):\n",
    "    return np.percentile(x, 25)\n",
    "def perc50(x):\n",
    "    return np.percentile(x, 50) \n",
    "def perc75(x):\n",
    "    return np.percentile(x, 75)\n",
    "\n",
    "def funciones_varias(var_list, funciones = ['mean', perc25, perc50, perc75], contar = True):\n",
    "    dict_func = {}\n",
    "    for i,var in enumerate(var_list):\n",
    "        aux = ['count'] if i==0 and contar else []\n",
    "        dict_func[var] = aux + funciones\n",
    "    return dict_func"
   ]
  },
  {
   "cell_type": "markdown",
   "id": "other-green",
   "metadata": {
    "heading_collapsed": true
   },
   "source": [
    "## TAD"
   ]
  },
  {
   "cell_type": "code",
   "execution_count": 8,
   "id": "central-fishing",
   "metadata": {
    "ExecuteTime": {
     "end_time": "2021-02-15T22:13:37.762444Z",
     "start_time": "2021-02-15T22:13:36.972061Z"
    },
    "hidden": true
   },
   "outputs": [
    {
     "data": {
      "text/plain": [
       "1   0.28\n",
       "4   0.25\n",
       "3   0.24\n",
       "2   0.22\n",
       "Name: quarter, dtype: float64"
      ]
     },
     "execution_count": 8,
     "metadata": {},
     "output_type": "execute_result"
    }
   ],
   "source": [
    "#Trimestre\n",
    "df['quarter'] = pd.to_datetime(df['reviewTime']).dt.quarter.astype(str)\n",
    "df['quarter'].value_counts(1)"
   ]
  },
  {
   "cell_type": "code",
   "execution_count": 9,
   "id": "fabulous-privacy",
   "metadata": {
    "ExecuteTime": {
     "end_time": "2021-02-15T22:13:37.830777Z",
     "start_time": "2021-02-15T22:13:37.765862Z"
    },
    "hidden": true
   },
   "outputs": [
    {
     "data": {
      "text/plain": [
       "count   719705.00\n",
       "mean         5.24\n",
       "std          0.60\n",
       "min          1.33\n",
       "5%           4.25\n",
       "50%          5.26\n",
       "95%          6.07\n",
       "max         59.50\n",
       "Name: long_p_word, dtype: float64"
      ]
     },
     "execution_count": 9,
     "metadata": {},
     "output_type": "execute_result"
    }
   ],
   "source": [
    "#Longitud promedio por palabra\n",
    "df['long_p_word'] = (df['reviewText_long'] + 1) / (df['reviewText_n_words'] + 1)\n",
    "df['long_p_word'].describe([.05,.95])"
   ]
  },
  {
   "cell_type": "code",
   "execution_count": 10,
   "id": "central-teach",
   "metadata": {
    "ExecuteTime": {
     "end_time": "2021-02-15T22:13:39.595720Z",
     "start_time": "2021-02-15T22:13:37.832761Z"
    },
    "hidden": true
   },
   "outputs": [
    {
     "name": "stdout",
     "output_type": "stream",
     "text": [
      "0.9702160223772184\n"
     ]
    },
    {
     "data": {
      "text/plain": [
       "count   698260.00\n",
       "mean         5.23\n",
       "std          0.48\n",
       "min          3.95\n",
       "5%           4.36\n",
       "50%          5.26\n",
       "95%          6.00\n",
       "max          6.53\n",
       "Name: long_p_word, dtype: float64"
      ]
     },
     "execution_count": 10,
     "metadata": {},
     "output_type": "execute_result"
    }
   ],
   "source": [
    "#Omitir outliers\n",
    "dim_antes = len(df)\n",
    "df = outlier(df,'long_p_word').reset_index(drop = True)\n",
    "print(len(df) / dim_antes)\n",
    "df['long_p_word'].describe([.05,.95])"
   ]
  },
  {
   "cell_type": "code",
   "execution_count": 11,
   "id": "revised-mystery",
   "metadata": {
    "ExecuteTime": {
     "end_time": "2021-02-15T22:13:41.461985Z",
     "start_time": "2021-02-15T22:13:39.600331Z"
    },
    "hidden": true
   },
   "outputs": [],
   "source": [
    "#Vida del producto, año máximo de venta menos año de comentario\n",
    "df = df.merge(df.pivot_table(index = 'asin',\n",
    "                             values = 'Anio',\n",
    "                             aggfunc = 'max').rename(columns = {'Anio':'Vida'}).reset_index(), \n",
    "              on = 'asin', \n",
    "              how = 'left')\n",
    "\n",
    "df['Vida'] -= df['Anio']"
   ]
  },
  {
   "cell_type": "code",
   "execution_count": 12,
   "id": "collect-shelf",
   "metadata": {
    "ExecuteTime": {
     "end_time": "2021-02-15T22:13:42.084656Z",
     "start_time": "2021-02-15T22:13:41.464164Z"
    },
    "hidden": true
   },
   "outputs": [
    {
     "data": {
      "text/plain": [
       "1   0.57\n",
       "0   0.43\n",
       "Name: Vida, dtype: float64"
      ]
     },
     "execution_count": 12,
     "metadata": {},
     "output_type": "execute_result"
    }
   ],
   "source": [
    "#Sólo mantener el año de vida 0 y 1\n",
    "df = df[df['Vida'].isin([0,1])]\n",
    "df['Vida'].value_counts(1)"
   ]
  },
  {
   "cell_type": "code",
   "execution_count": 13,
   "id": "obvious-moore",
   "metadata": {
    "ExecuteTime": {
     "end_time": "2021-02-15T22:16:37.582911Z",
     "start_time": "2021-02-15T22:13:42.088207Z"
    },
    "hidden": true
   },
   "outputs": [
    {
     "data": {
      "text/html": [
       "<div>\n",
       "<style scoped>\n",
       "    .dataframe tbody tr th:only-of-type {\n",
       "        vertical-align: middle;\n",
       "    }\n",
       "\n",
       "    .dataframe tbody tr th {\n",
       "        vertical-align: top;\n",
       "    }\n",
       "\n",
       "    .dataframe thead th {\n",
       "        text-align: right;\n",
       "    }\n",
       "</style>\n",
       "<table border=\"1\" class=\"dataframe\">\n",
       "  <thead>\n",
       "    <tr style=\"text-align: right;\">\n",
       "      <th></th>\n",
       "      <th>0_compound_mean</th>\n",
       "      <th>0_compound_perc25</th>\n",
       "      <th>0_compound_perc50</th>\n",
       "      <th>0_compound_perc75</th>\n",
       "      <th>0_long_p_word_mean</th>\n",
       "      <th>0_long_p_word_perc25</th>\n",
       "      <th>0_long_p_word_perc50</th>\n",
       "      <th>0_long_p_word_perc75</th>\n",
       "      <th>0_neg_mean</th>\n",
       "      <th>0_neg_perc25</th>\n",
       "      <th>0_neg_perc50</th>\n",
       "      <th>0_neg_perc75</th>\n",
       "      <th>0_neu_mean</th>\n",
       "      <th>0_neu_perc25</th>\n",
       "      <th>0_neu_perc50</th>\n",
       "      <th>0_neu_perc75</th>\n",
       "      <th>0_overall_count</th>\n",
       "      <th>0_overall_mean</th>\n",
       "      <th>0_overall_perc25</th>\n",
       "      <th>0_overall_perc50</th>\n",
       "      <th>0_overall_perc75</th>\n",
       "      <th>0_pos_mean</th>\n",
       "      <th>0_pos_perc25</th>\n",
       "      <th>0_pos_perc50</th>\n",
       "      <th>0_pos_perc75</th>\n",
       "      <th>0_reviewText_n_words_mean</th>\n",
       "      <th>0_reviewText_n_words_perc25</th>\n",
       "      <th>0_reviewText_n_words_perc50</th>\n",
       "      <th>0_reviewText_n_words_perc75</th>\n",
       "      <th>0_reviewText_relevant_mean</th>\n",
       "      <th>0_reviewText_relevant_perc25</th>\n",
       "      <th>0_reviewText_relevant_perc50</th>\n",
       "      <th>0_reviewText_relevant_perc75</th>\n",
       "      <th>1_compound_mean</th>\n",
       "      <th>1_compound_perc25</th>\n",
       "      <th>1_compound_perc50</th>\n",
       "      <th>1_compound_perc75</th>\n",
       "      <th>1_long_p_word_mean</th>\n",
       "      <th>1_long_p_word_perc25</th>\n",
       "      <th>1_long_p_word_perc50</th>\n",
       "      <th>1_long_p_word_perc75</th>\n",
       "      <th>1_neg_mean</th>\n",
       "      <th>1_neg_perc25</th>\n",
       "      <th>1_neg_perc50</th>\n",
       "      <th>1_neg_perc75</th>\n",
       "      <th>1_neu_mean</th>\n",
       "      <th>1_neu_perc25</th>\n",
       "      <th>1_neu_perc50</th>\n",
       "      <th>1_neu_perc75</th>\n",
       "      <th>1_overall_count</th>\n",
       "      <th>1_overall_mean</th>\n",
       "      <th>1_overall_perc25</th>\n",
       "      <th>1_overall_perc50</th>\n",
       "      <th>1_overall_perc75</th>\n",
       "      <th>1_pos_mean</th>\n",
       "      <th>1_pos_perc25</th>\n",
       "      <th>1_pos_perc50</th>\n",
       "      <th>1_pos_perc75</th>\n",
       "      <th>1_reviewText_n_words_mean</th>\n",
       "      <th>1_reviewText_n_words_perc25</th>\n",
       "      <th>1_reviewText_n_words_perc50</th>\n",
       "      <th>1_reviewText_n_words_perc75</th>\n",
       "      <th>1_reviewText_relevant_mean</th>\n",
       "      <th>1_reviewText_relevant_perc25</th>\n",
       "      <th>1_reviewText_relevant_perc50</th>\n",
       "      <th>1_reviewText_relevant_perc75</th>\n",
       "    </tr>\n",
       "    <tr>\n",
       "      <th>asin</th>\n",
       "      <th></th>\n",
       "      <th></th>\n",
       "      <th></th>\n",
       "      <th></th>\n",
       "      <th></th>\n",
       "      <th></th>\n",
       "      <th></th>\n",
       "      <th></th>\n",
       "      <th></th>\n",
       "      <th></th>\n",
       "      <th></th>\n",
       "      <th></th>\n",
       "      <th></th>\n",
       "      <th></th>\n",
       "      <th></th>\n",
       "      <th></th>\n",
       "      <th></th>\n",
       "      <th></th>\n",
       "      <th></th>\n",
       "      <th></th>\n",
       "      <th></th>\n",
       "      <th></th>\n",
       "      <th></th>\n",
       "      <th></th>\n",
       "      <th></th>\n",
       "      <th></th>\n",
       "      <th></th>\n",
       "      <th></th>\n",
       "      <th></th>\n",
       "      <th></th>\n",
       "      <th></th>\n",
       "      <th></th>\n",
       "      <th></th>\n",
       "      <th></th>\n",
       "      <th></th>\n",
       "      <th></th>\n",
       "      <th></th>\n",
       "      <th></th>\n",
       "      <th></th>\n",
       "      <th></th>\n",
       "      <th></th>\n",
       "      <th></th>\n",
       "      <th></th>\n",
       "      <th></th>\n",
       "      <th></th>\n",
       "      <th></th>\n",
       "      <th></th>\n",
       "      <th></th>\n",
       "      <th></th>\n",
       "      <th></th>\n",
       "      <th></th>\n",
       "      <th></th>\n",
       "      <th></th>\n",
       "      <th></th>\n",
       "      <th></th>\n",
       "      <th></th>\n",
       "      <th></th>\n",
       "      <th></th>\n",
       "      <th></th>\n",
       "      <th></th>\n",
       "      <th></th>\n",
       "      <th></th>\n",
       "      <th></th>\n",
       "      <th></th>\n",
       "      <th></th>\n",
       "      <th></th>\n",
       "    </tr>\n",
       "  </thead>\n",
       "  <tbody>\n",
       "    <tr>\n",
       "      <th>B00005ME6E</th>\n",
       "      <td>0.56</td>\n",
       "      <td>0.36</td>\n",
       "      <td>0.56</td>\n",
       "      <td>0.77</td>\n",
       "      <td>4.96</td>\n",
       "      <td>4.69</td>\n",
       "      <td>4.96</td>\n",
       "      <td>5.24</td>\n",
       "      <td>0.16</td>\n",
       "      <td>0.15</td>\n",
       "      <td>0.16</td>\n",
       "      <td>0.18</td>\n",
       "      <td>0.52</td>\n",
       "      <td>0.50</td>\n",
       "      <td>0.52</td>\n",
       "      <td>0.54</td>\n",
       "      <td>2</td>\n",
       "      <td>5.00</td>\n",
       "      <td>5.00</td>\n",
       "      <td>5.00</td>\n",
       "      <td>5.00</td>\n",
       "      <td>0.32</td>\n",
       "      <td>0.27</td>\n",
       "      <td>0.32</td>\n",
       "      <td>0.36</td>\n",
       "      <td>75.50</td>\n",
       "      <td>52.75</td>\n",
       "      <td>75.50</td>\n",
       "      <td>98.25</td>\n",
       "      <td>0.54</td>\n",
       "      <td>0.51</td>\n",
       "      <td>0.54</td>\n",
       "      <td>0.56</td>\n",
       "      <td>0.73</td>\n",
       "      <td>0.63</td>\n",
       "      <td>0.85</td>\n",
       "      <td>0.95</td>\n",
       "      <td>5.60</td>\n",
       "      <td>5.44</td>\n",
       "      <td>5.68</td>\n",
       "      <td>5.85</td>\n",
       "      <td>0.10</td>\n",
       "      <td>0.07</td>\n",
       "      <td>0.11</td>\n",
       "      <td>0.14</td>\n",
       "      <td>0.65</td>\n",
       "      <td>0.58</td>\n",
       "      <td>0.64</td>\n",
       "      <td>0.70</td>\n",
       "      <td>4</td>\n",
       "      <td>4.25</td>\n",
       "      <td>3.75</td>\n",
       "      <td>4.50</td>\n",
       "      <td>5.00</td>\n",
       "      <td>0.25</td>\n",
       "      <td>0.22</td>\n",
       "      <td>0.28</td>\n",
       "      <td>0.31</td>\n",
       "      <td>102.50</td>\n",
       "      <td>71.50</td>\n",
       "      <td>84.00</td>\n",
       "      <td>115.00</td>\n",
       "      <td>0.66</td>\n",
       "      <td>0.61</td>\n",
       "      <td>0.69</td>\n",
       "      <td>0.73</td>\n",
       "    </tr>\n",
       "    <tr>\n",
       "      <th>6300151360</th>\n",
       "      <td>0.83</td>\n",
       "      <td>0.82</td>\n",
       "      <td>0.85</td>\n",
       "      <td>0.86</td>\n",
       "      <td>5.15</td>\n",
       "      <td>4.97</td>\n",
       "      <td>5.42</td>\n",
       "      <td>5.47</td>\n",
       "      <td>0.04</td>\n",
       "      <td>0.00</td>\n",
       "      <td>0.00</td>\n",
       "      <td>0.06</td>\n",
       "      <td>0.65</td>\n",
       "      <td>0.62</td>\n",
       "      <td>0.67</td>\n",
       "      <td>0.70</td>\n",
       "      <td>3</td>\n",
       "      <td>4.33</td>\n",
       "      <td>4.00</td>\n",
       "      <td>5.00</td>\n",
       "      <td>5.00</td>\n",
       "      <td>0.31</td>\n",
       "      <td>0.24</td>\n",
       "      <td>0.33</td>\n",
       "      <td>0.38</td>\n",
       "      <td>97.67</td>\n",
       "      <td>40.50</td>\n",
       "      <td>51.00</td>\n",
       "      <td>131.50</td>\n",
       "      <td>0.65</td>\n",
       "      <td>0.61</td>\n",
       "      <td>0.66</td>\n",
       "      <td>0.69</td>\n",
       "      <td>0.15</td>\n",
       "      <td>-0.19</td>\n",
       "      <td>0.15</td>\n",
       "      <td>0.49</td>\n",
       "      <td>5.03</td>\n",
       "      <td>4.98</td>\n",
       "      <td>5.03</td>\n",
       "      <td>5.08</td>\n",
       "      <td>0.15</td>\n",
       "      <td>0.11</td>\n",
       "      <td>0.15</td>\n",
       "      <td>0.20</td>\n",
       "      <td>0.66</td>\n",
       "      <td>0.63</td>\n",
       "      <td>0.66</td>\n",
       "      <td>0.68</td>\n",
       "      <td>2</td>\n",
       "      <td>3.50</td>\n",
       "      <td>3.25</td>\n",
       "      <td>3.50</td>\n",
       "      <td>3.75</td>\n",
       "      <td>0.19</td>\n",
       "      <td>0.17</td>\n",
       "      <td>0.19</td>\n",
       "      <td>0.21</td>\n",
       "      <td>92.00</td>\n",
       "      <td>84.50</td>\n",
       "      <td>92.00</td>\n",
       "      <td>99.50</td>\n",
       "      <td>0.58</td>\n",
       "      <td>0.56</td>\n",
       "      <td>0.58</td>\n",
       "      <td>0.61</td>\n",
       "    </tr>\n",
       "    <tr>\n",
       "      <th>B0065GKZEY</th>\n",
       "      <td>0.24</td>\n",
       "      <td>-0.02</td>\n",
       "      <td>0.72</td>\n",
       "      <td>0.74</td>\n",
       "      <td>4.88</td>\n",
       "      <td>4.65</td>\n",
       "      <td>4.66</td>\n",
       "      <td>5.01</td>\n",
       "      <td>0.17</td>\n",
       "      <td>0.05</td>\n",
       "      <td>0.11</td>\n",
       "      <td>0.26</td>\n",
       "      <td>0.59</td>\n",
       "      <td>0.57</td>\n",
       "      <td>0.59</td>\n",
       "      <td>0.62</td>\n",
       "      <td>3</td>\n",
       "      <td>3.33</td>\n",
       "      <td>2.50</td>\n",
       "      <td>4.00</td>\n",
       "      <td>4.50</td>\n",
       "      <td>0.23</td>\n",
       "      <td>0.12</td>\n",
       "      <td>0.24</td>\n",
       "      <td>0.35</td>\n",
       "      <td>44.00</td>\n",
       "      <td>21.00</td>\n",
       "      <td>29.00</td>\n",
       "      <td>59.50</td>\n",
       "      <td>0.62</td>\n",
       "      <td>0.55</td>\n",
       "      <td>0.59</td>\n",
       "      <td>0.67</td>\n",
       "      <td>0.73</td>\n",
       "      <td>0.61</td>\n",
       "      <td>0.80</td>\n",
       "      <td>0.92</td>\n",
       "      <td>4.96</td>\n",
       "      <td>4.84</td>\n",
       "      <td>4.99</td>\n",
       "      <td>5.24</td>\n",
       "      <td>0.04</td>\n",
       "      <td>0.01</td>\n",
       "      <td>0.06</td>\n",
       "      <td>0.07</td>\n",
       "      <td>0.65</td>\n",
       "      <td>0.52</td>\n",
       "      <td>0.68</td>\n",
       "      <td>0.79</td>\n",
       "      <td>8</td>\n",
       "      <td>4.50</td>\n",
       "      <td>4.00</td>\n",
       "      <td>5.00</td>\n",
       "      <td>5.00</td>\n",
       "      <td>0.30</td>\n",
       "      <td>0.15</td>\n",
       "      <td>0.25</td>\n",
       "      <td>0.42</td>\n",
       "      <td>74.00</td>\n",
       "      <td>45.00</td>\n",
       "      <td>55.50</td>\n",
       "      <td>78.50</td>\n",
       "      <td>0.56</td>\n",
       "      <td>0.52</td>\n",
       "      <td>0.57</td>\n",
       "      <td>0.59</td>\n",
       "    </tr>\n",
       "    <tr>\n",
       "      <th>B00979M0LW</th>\n",
       "      <td>0.24</td>\n",
       "      <td>0.00</td>\n",
       "      <td>0.44</td>\n",
       "      <td>0.51</td>\n",
       "      <td>4.87</td>\n",
       "      <td>4.40</td>\n",
       "      <td>5.16</td>\n",
       "      <td>5.33</td>\n",
       "      <td>0.09</td>\n",
       "      <td>0.00</td>\n",
       "      <td>0.00</td>\n",
       "      <td>0.00</td>\n",
       "      <td>0.61</td>\n",
       "      <td>0.39</td>\n",
       "      <td>0.51</td>\n",
       "      <td>0.81</td>\n",
       "      <td>7</td>\n",
       "      <td>4.00</td>\n",
       "      <td>3.50</td>\n",
       "      <td>5.00</td>\n",
       "      <td>5.00</td>\n",
       "      <td>0.30</td>\n",
       "      <td>0.00</td>\n",
       "      <td>0.39</td>\n",
       "      <td>0.54</td>\n",
       "      <td>8.71</td>\n",
       "      <td>3.00</td>\n",
       "      <td>5.00</td>\n",
       "      <td>11.50</td>\n",
       "      <td>0.77</td>\n",
       "      <td>0.61</td>\n",
       "      <td>0.77</td>\n",
       "      <td>0.92</td>\n",
       "      <td>0.54</td>\n",
       "      <td>0.44</td>\n",
       "      <td>0.62</td>\n",
       "      <td>0.63</td>\n",
       "      <td>4.84</td>\n",
       "      <td>4.56</td>\n",
       "      <td>4.73</td>\n",
       "      <td>5.00</td>\n",
       "      <td>0.00</td>\n",
       "      <td>0.00</td>\n",
       "      <td>0.00</td>\n",
       "      <td>0.00</td>\n",
       "      <td>0.53</td>\n",
       "      <td>0.35</td>\n",
       "      <td>0.50</td>\n",
       "      <td>0.59</td>\n",
       "      <td>10</td>\n",
       "      <td>4.70</td>\n",
       "      <td>5.00</td>\n",
       "      <td>5.00</td>\n",
       "      <td>5.00</td>\n",
       "      <td>0.47</td>\n",
       "      <td>0.41</td>\n",
       "      <td>0.50</td>\n",
       "      <td>0.65</td>\n",
       "      <td>9.90</td>\n",
       "      <td>3.00</td>\n",
       "      <td>5.00</td>\n",
       "      <td>9.00</td>\n",
       "      <td>0.84</td>\n",
       "      <td>0.74</td>\n",
       "      <td>0.89</td>\n",
       "      <td>0.94</td>\n",
       "    </tr>\n",
       "  </tbody>\n",
       "</table>\n",
       "</div>"
      ],
      "text/plain": [
       "            0_compound_mean  0_compound_perc25  0_compound_perc50  \\\n",
       "asin                                                                \n",
       "B00005ME6E             0.56               0.36               0.56   \n",
       "6300151360             0.83               0.82               0.85   \n",
       "B0065GKZEY             0.24              -0.02               0.72   \n",
       "B00979M0LW             0.24               0.00               0.44   \n",
       "\n",
       "            0_compound_perc75  0_long_p_word_mean  0_long_p_word_perc25  \\\n",
       "asin                                                                      \n",
       "B00005ME6E               0.77                4.96                  4.69   \n",
       "6300151360               0.86                5.15                  4.97   \n",
       "B0065GKZEY               0.74                4.88                  4.65   \n",
       "B00979M0LW               0.51                4.87                  4.40   \n",
       "\n",
       "            0_long_p_word_perc50  0_long_p_word_perc75  0_neg_mean  \\\n",
       "asin                                                                 \n",
       "B00005ME6E                  4.96                  5.24        0.16   \n",
       "6300151360                  5.42                  5.47        0.04   \n",
       "B0065GKZEY                  4.66                  5.01        0.17   \n",
       "B00979M0LW                  5.16                  5.33        0.09   \n",
       "\n",
       "            0_neg_perc25  0_neg_perc50  0_neg_perc75  0_neu_mean  \\\n",
       "asin                                                               \n",
       "B00005ME6E          0.15          0.16          0.18        0.52   \n",
       "6300151360          0.00          0.00          0.06        0.65   \n",
       "B0065GKZEY          0.05          0.11          0.26        0.59   \n",
       "B00979M0LW          0.00          0.00          0.00        0.61   \n",
       "\n",
       "            0_neu_perc25  0_neu_perc50  0_neu_perc75  0_overall_count  \\\n",
       "asin                                                                    \n",
       "B00005ME6E          0.50          0.52          0.54                2   \n",
       "6300151360          0.62          0.67          0.70                3   \n",
       "B0065GKZEY          0.57          0.59          0.62                3   \n",
       "B00979M0LW          0.39          0.51          0.81                7   \n",
       "\n",
       "            0_overall_mean  0_overall_perc25  0_overall_perc50  \\\n",
       "asin                                                             \n",
       "B00005ME6E            5.00              5.00              5.00   \n",
       "6300151360            4.33              4.00              5.00   \n",
       "B0065GKZEY            3.33              2.50              4.00   \n",
       "B00979M0LW            4.00              3.50              5.00   \n",
       "\n",
       "            0_overall_perc75  0_pos_mean  0_pos_perc25  0_pos_perc50  \\\n",
       "asin                                                                   \n",
       "B00005ME6E              5.00        0.32          0.27          0.32   \n",
       "6300151360              5.00        0.31          0.24          0.33   \n",
       "B0065GKZEY              4.50        0.23          0.12          0.24   \n",
       "B00979M0LW              5.00        0.30          0.00          0.39   \n",
       "\n",
       "            0_pos_perc75  0_reviewText_n_words_mean  \\\n",
       "asin                                                  \n",
       "B00005ME6E          0.36                      75.50   \n",
       "6300151360          0.38                      97.67   \n",
       "B0065GKZEY          0.35                      44.00   \n",
       "B00979M0LW          0.54                       8.71   \n",
       "\n",
       "            0_reviewText_n_words_perc25  0_reviewText_n_words_perc50  \\\n",
       "asin                                                                   \n",
       "B00005ME6E                        52.75                        75.50   \n",
       "6300151360                        40.50                        51.00   \n",
       "B0065GKZEY                        21.00                        29.00   \n",
       "B00979M0LW                         3.00                         5.00   \n",
       "\n",
       "            0_reviewText_n_words_perc75  0_reviewText_relevant_mean  \\\n",
       "asin                                                                  \n",
       "B00005ME6E                        98.25                        0.54   \n",
       "6300151360                       131.50                        0.65   \n",
       "B0065GKZEY                        59.50                        0.62   \n",
       "B00979M0LW                        11.50                        0.77   \n",
       "\n",
       "            0_reviewText_relevant_perc25  0_reviewText_relevant_perc50  \\\n",
       "asin                                                                     \n",
       "B00005ME6E                          0.51                          0.54   \n",
       "6300151360                          0.61                          0.66   \n",
       "B0065GKZEY                          0.55                          0.59   \n",
       "B00979M0LW                          0.61                          0.77   \n",
       "\n",
       "            0_reviewText_relevant_perc75  1_compound_mean  1_compound_perc25  \\\n",
       "asin                                                                           \n",
       "B00005ME6E                          0.56             0.73               0.63   \n",
       "6300151360                          0.69             0.15              -0.19   \n",
       "B0065GKZEY                          0.67             0.73               0.61   \n",
       "B00979M0LW                          0.92             0.54               0.44   \n",
       "\n",
       "            1_compound_perc50  1_compound_perc75  1_long_p_word_mean  \\\n",
       "asin                                                                   \n",
       "B00005ME6E               0.85               0.95                5.60   \n",
       "6300151360               0.15               0.49                5.03   \n",
       "B0065GKZEY               0.80               0.92                4.96   \n",
       "B00979M0LW               0.62               0.63                4.84   \n",
       "\n",
       "            1_long_p_word_perc25  1_long_p_word_perc50  1_long_p_word_perc75  \\\n",
       "asin                                                                           \n",
       "B00005ME6E                  5.44                  5.68                  5.85   \n",
       "6300151360                  4.98                  5.03                  5.08   \n",
       "B0065GKZEY                  4.84                  4.99                  5.24   \n",
       "B00979M0LW                  4.56                  4.73                  5.00   \n",
       "\n",
       "            1_neg_mean  1_neg_perc25  1_neg_perc50  1_neg_perc75  1_neu_mean  \\\n",
       "asin                                                                           \n",
       "B00005ME6E        0.10          0.07          0.11          0.14        0.65   \n",
       "6300151360        0.15          0.11          0.15          0.20        0.66   \n",
       "B0065GKZEY        0.04          0.01          0.06          0.07        0.65   \n",
       "B00979M0LW        0.00          0.00          0.00          0.00        0.53   \n",
       "\n",
       "            1_neu_perc25  1_neu_perc50  1_neu_perc75  1_overall_count  \\\n",
       "asin                                                                    \n",
       "B00005ME6E          0.58          0.64          0.70                4   \n",
       "6300151360          0.63          0.66          0.68                2   \n",
       "B0065GKZEY          0.52          0.68          0.79                8   \n",
       "B00979M0LW          0.35          0.50          0.59               10   \n",
       "\n",
       "            1_overall_mean  1_overall_perc25  1_overall_perc50  \\\n",
       "asin                                                             \n",
       "B00005ME6E            4.25              3.75              4.50   \n",
       "6300151360            3.50              3.25              3.50   \n",
       "B0065GKZEY            4.50              4.00              5.00   \n",
       "B00979M0LW            4.70              5.00              5.00   \n",
       "\n",
       "            1_overall_perc75  1_pos_mean  1_pos_perc25  1_pos_perc50  \\\n",
       "asin                                                                   \n",
       "B00005ME6E              5.00        0.25          0.22          0.28   \n",
       "6300151360              3.75        0.19          0.17          0.19   \n",
       "B0065GKZEY              5.00        0.30          0.15          0.25   \n",
       "B00979M0LW              5.00        0.47          0.41          0.50   \n",
       "\n",
       "            1_pos_perc75  1_reviewText_n_words_mean  \\\n",
       "asin                                                  \n",
       "B00005ME6E          0.31                     102.50   \n",
       "6300151360          0.21                      92.00   \n",
       "B0065GKZEY          0.42                      74.00   \n",
       "B00979M0LW          0.65                       9.90   \n",
       "\n",
       "            1_reviewText_n_words_perc25  1_reviewText_n_words_perc50  \\\n",
       "asin                                                                   \n",
       "B00005ME6E                        71.50                        84.00   \n",
       "6300151360                        84.50                        92.00   \n",
       "B0065GKZEY                        45.00                        55.50   \n",
       "B00979M0LW                         3.00                         5.00   \n",
       "\n",
       "            1_reviewText_n_words_perc75  1_reviewText_relevant_mean  \\\n",
       "asin                                                                  \n",
       "B00005ME6E                       115.00                        0.66   \n",
       "6300151360                        99.50                        0.58   \n",
       "B0065GKZEY                        78.50                        0.56   \n",
       "B00979M0LW                         9.00                        0.84   \n",
       "\n",
       "            1_reviewText_relevant_perc25  1_reviewText_relevant_perc50  \\\n",
       "asin                                                                     \n",
       "B00005ME6E                          0.61                          0.69   \n",
       "6300151360                          0.56                          0.58   \n",
       "B0065GKZEY                          0.52                          0.57   \n",
       "B00979M0LW                          0.74                          0.89   \n",
       "\n",
       "            1_reviewText_relevant_perc75  \n",
       "asin                                      \n",
       "B00005ME6E                          0.73  \n",
       "6300151360                          0.61  \n",
       "B0065GKZEY                          0.59  \n",
       "B00979M0LW                          0.94  "
      ]
     },
     "execution_count": 13,
     "metadata": {},
     "output_type": "execute_result"
    }
   ],
   "source": [
    "#Cambio de estructura\n",
    "variables = ['overall','reviewText_n_words','reviewText_relevant',\n",
    "             'neg', 'neu', 'pos', 'compound','long_p_word']\n",
    "\n",
    "df[variables] = df[variables].astype(float)\n",
    "\n",
    "df = df.pivot_table(index = 'asin', \n",
    "                    columns = ['Vida'],\n",
    "                    values = variables, \n",
    "                    aggfunc = funciones_varias(variables), \n",
    "                    fill_value = 0)\n",
    "\n",
    "df.columns = [str(vida)+\"_\"+var+\"_\"+func for var,func,vida in df.columns]\n",
    "df = df[sorted(df.columns)].copy()\n",
    "\n",
    "df.sample(4)"
   ]
  },
  {
   "cell_type": "markdown",
   "id": "optional-airport",
   "metadata": {
    "heading_collapsed": true
   },
   "source": [
    "## K-óptimo"
   ]
  },
  {
   "cell_type": "code",
   "execution_count": 14,
   "id": "inside-wonder",
   "metadata": {
    "ExecuteTime": {
     "end_time": "2021-02-15T22:20:18.933322Z",
     "start_time": "2021-02-15T22:16:37.585874Z"
    },
    "hidden": true
   },
   "outputs": [],
   "source": [
    "from sklearn.cluster import KMeans\n",
    "from sklearn.metrics import davies_bouldin_score, silhouette_score, silhouette_samples\n",
    "\n",
    "sse,db,slc = {}, {}, {}\n",
    "for k in range(2, 16):\n",
    "    kmeans = KMeans(n_clusters = k, max_iter= 100, random_state = 22).fit(df)\n",
    "    if k == 3: labels = kmeans.labels_\n",
    "    clusters = kmeans.labels_\n",
    "    sse[k] = kmeans.inertia_ \n",
    "    db[k] = davies_bouldin_score(df, clusters)\n",
    "    slc[k] = silhouette_score(df, clusters)\n",
    "\n",
    "dicts = [sse,db,slc]\n",
    "\n",
    "for dicc in dicts:\n",
    "    min_value = min(list(dicc.values()))\n",
    "    max_value = max(list(dicc.values()))\n",
    "    for k in dicc.keys():\n",
    "        dicc[k] = (dicc[k] - min_value + 1) / (max_value - min_value + 1)"
   ]
  },
  {
   "cell_type": "code",
   "execution_count": 15,
   "id": "leading-angel",
   "metadata": {
    "ExecuteTime": {
     "end_time": "2021-02-15T22:20:19.811809Z",
     "start_time": "2021-02-15T22:20:18.935762Z"
    },
    "hidden": true
   },
   "outputs": [
    {
     "ename": "ModuleNotFoundError",
     "evalue": "No module named 'cairosvg'",
     "output_type": "error",
     "traceback": [
      "\u001b[0;31m---------------------------------------------------------------------------\u001b[0m",
      "\u001b[0;31mModuleNotFoundError\u001b[0m                       Traceback (most recent call last)",
      "\u001b[0;32m~/Desktop/corner/corner/lib/python3.9/site-packages/IPython/core/formatters.py\u001b[0m in \u001b[0;36m__call__\u001b[0;34m(self, obj)\u001b[0m\n\u001b[1;32m    343\u001b[0m             \u001b[0mmethod\u001b[0m \u001b[0;34m=\u001b[0m \u001b[0mget_real_method\u001b[0m\u001b[0;34m(\u001b[0m\u001b[0mobj\u001b[0m\u001b[0;34m,\u001b[0m \u001b[0mself\u001b[0m\u001b[0;34m.\u001b[0m\u001b[0mprint_method\u001b[0m\u001b[0;34m)\u001b[0m\u001b[0;34m\u001b[0m\u001b[0;34m\u001b[0m\u001b[0m\n\u001b[1;32m    344\u001b[0m             \u001b[0;32mif\u001b[0m \u001b[0mmethod\u001b[0m \u001b[0;32mis\u001b[0m \u001b[0;32mnot\u001b[0m \u001b[0;32mNone\u001b[0m\u001b[0;34m:\u001b[0m\u001b[0;34m\u001b[0m\u001b[0;34m\u001b[0m\u001b[0m\n\u001b[0;32m--> 345\u001b[0;31m                 \u001b[0;32mreturn\u001b[0m \u001b[0mmethod\u001b[0m\u001b[0;34m(\u001b[0m\u001b[0;34m)\u001b[0m\u001b[0;34m\u001b[0m\u001b[0;34m\u001b[0m\u001b[0m\n\u001b[0m\u001b[1;32m    346\u001b[0m             \u001b[0;32mreturn\u001b[0m \u001b[0;32mNone\u001b[0m\u001b[0;34m\u001b[0m\u001b[0;34m\u001b[0m\u001b[0m\n\u001b[1;32m    347\u001b[0m         \u001b[0;32melse\u001b[0m\u001b[0;34m:\u001b[0m\u001b[0;34m\u001b[0m\u001b[0;34m\u001b[0m\u001b[0m\n",
      "\u001b[0;32m~/Desktop/corner/corner/lib/python3.9/site-packages/pygal/graph/base.py\u001b[0m in \u001b[0;36m_repr_png_\u001b[0;34m(self)\u001b[0m\n\u001b[1;32m    232\u001b[0m     \u001b[0;32mdef\u001b[0m \u001b[0m_repr_png_\u001b[0m\u001b[0;34m(\u001b[0m\u001b[0mself\u001b[0m\u001b[0;34m)\u001b[0m\u001b[0;34m:\u001b[0m\u001b[0;34m\u001b[0m\u001b[0;34m\u001b[0m\u001b[0m\n\u001b[1;32m    233\u001b[0m         \u001b[0;34m\"\"\"Display png in IPython notebook\"\"\"\u001b[0m\u001b[0;34m\u001b[0m\u001b[0;34m\u001b[0m\u001b[0m\n\u001b[0;32m--> 234\u001b[0;31m         \u001b[0;32mreturn\u001b[0m \u001b[0mself\u001b[0m\u001b[0;34m.\u001b[0m\u001b[0mrender_to_png\u001b[0m\u001b[0;34m(\u001b[0m\u001b[0;34m)\u001b[0m\u001b[0;34m\u001b[0m\u001b[0;34m\u001b[0m\u001b[0m\n\u001b[0m",
      "\u001b[0;32m~/Desktop/corner/corner/lib/python3.9/site-packages/pygal/graph/public.py\u001b[0m in \u001b[0;36mrender_to_png\u001b[0;34m(self, filename, dpi, **kwargs)\u001b[0m\n\u001b[1;32m    116\u001b[0m     \u001b[0;32mdef\u001b[0m \u001b[0mrender_to_png\u001b[0m\u001b[0;34m(\u001b[0m\u001b[0mself\u001b[0m\u001b[0;34m,\u001b[0m \u001b[0mfilename\u001b[0m\u001b[0;34m=\u001b[0m\u001b[0;32mNone\u001b[0m\u001b[0;34m,\u001b[0m \u001b[0mdpi\u001b[0m\u001b[0;34m=\u001b[0m\u001b[0;36m72\u001b[0m\u001b[0;34m,\u001b[0m \u001b[0;34m**\u001b[0m\u001b[0mkwargs\u001b[0m\u001b[0;34m)\u001b[0m\u001b[0;34m:\u001b[0m\u001b[0;34m\u001b[0m\u001b[0;34m\u001b[0m\u001b[0m\n\u001b[1;32m    117\u001b[0m         \u001b[0;34m\"\"\"Render the graph, convert it to png and write it to filename\"\"\"\u001b[0m\u001b[0;34m\u001b[0m\u001b[0;34m\u001b[0m\u001b[0m\n\u001b[0;32m--> 118\u001b[0;31m         \u001b[0;32mimport\u001b[0m \u001b[0mcairosvg\u001b[0m\u001b[0;34m\u001b[0m\u001b[0;34m\u001b[0m\u001b[0m\n\u001b[0m\u001b[1;32m    119\u001b[0m         return cairosvg.svg2png(\n\u001b[1;32m    120\u001b[0m             bytestring=self.render(**kwargs), write_to=filename, dpi=dpi)\n",
      "\u001b[0;31mModuleNotFoundError\u001b[0m: No module named 'cairosvg'"
     ]
    },
    {
     "data": {
      "image/svg+xml": [
       "<svg xmlns=\"http://www.w3.org/2000/svg\" xmlns:xlink=\"http://www.w3.org/1999/xlink\" id=\"chart-757d23d8-3d9f-419c-b463-03541df0b57e\" class=\"pygal-chart\" viewBox=\"0 0 800 600\"><!--Generated with pygal 2.4.0 (lxml) ©Kozea 2012-2016 on 2021-02-15--><!--http://pygal.org--><!--http://github.com/Kozea/pygal--><defs><style type=\"text/css\">#chart-757d23d8-3d9f-419c-b463-03541df0b57e{-webkit-user-select:none;-webkit-font-smoothing:antialiased;font-family:Consolas,\"Liberation Mono\",Menlo,Courier,monospace}#chart-757d23d8-3d9f-419c-b463-03541df0b57e .title{font-family:Consolas,\"Liberation Mono\",Menlo,Courier,monospace;font-size:16px}#chart-757d23d8-3d9f-419c-b463-03541df0b57e .legends .legend text{font-family:Consolas,\"Liberation Mono\",Menlo,Courier,monospace;font-size:14px}#chart-757d23d8-3d9f-419c-b463-03541df0b57e .axis text{font-family:Consolas,\"Liberation Mono\",Menlo,Courier,monospace;font-size:10px}#chart-757d23d8-3d9f-419c-b463-03541df0b57e .axis text.major{font-family:Consolas,\"Liberation Mono\",Menlo,Courier,monospace;font-size:10px}#chart-757d23d8-3d9f-419c-b463-03541df0b57e .text-overlay text.value{font-family:Consolas,\"Liberation Mono\",Menlo,Courier,monospace;font-size:16px}#chart-757d23d8-3d9f-419c-b463-03541df0b57e .text-overlay text.label{font-family:Consolas,\"Liberation Mono\",Menlo,Courier,monospace;font-size:10px}#chart-757d23d8-3d9f-419c-b463-03541df0b57e .tooltip{font-family:Consolas,\"Liberation Mono\",Menlo,Courier,monospace;font-size:14px}#chart-757d23d8-3d9f-419c-b463-03541df0b57e text.no_data{font-family:Consolas,\"Liberation Mono\",Menlo,Courier,monospace;font-size:64px}\n",
       "#chart-757d23d8-3d9f-419c-b463-03541df0b57e{background-color:rgba(249,249,249,1)}#chart-757d23d8-3d9f-419c-b463-03541df0b57e path,#chart-757d23d8-3d9f-419c-b463-03541df0b57e line,#chart-757d23d8-3d9f-419c-b463-03541df0b57e rect,#chart-757d23d8-3d9f-419c-b463-03541df0b57e circle{-webkit-transition:150ms;-moz-transition:150ms;transition:150ms}#chart-757d23d8-3d9f-419c-b463-03541df0b57e .graph &gt; .background{fill:rgba(249,249,249,1)}#chart-757d23d8-3d9f-419c-b463-03541df0b57e .plot &gt; .background{fill:rgba(255,255,255,1)}#chart-757d23d8-3d9f-419c-b463-03541df0b57e .graph{fill:rgba(0,0,0,.87)}#chart-757d23d8-3d9f-419c-b463-03541df0b57e text.no_data{fill:rgba(0,0,0,1)}#chart-757d23d8-3d9f-419c-b463-03541df0b57e .title{fill:rgba(0,0,0,1)}#chart-757d23d8-3d9f-419c-b463-03541df0b57e .legends .legend text{fill:rgba(0,0,0,.87)}#chart-757d23d8-3d9f-419c-b463-03541df0b57e .legends .legend:hover text{fill:rgba(0,0,0,1)}#chart-757d23d8-3d9f-419c-b463-03541df0b57e .axis .line{stroke:rgba(0,0,0,1)}#chart-757d23d8-3d9f-419c-b463-03541df0b57e .axis .guide.line{stroke:rgba(0,0,0,.54)}#chart-757d23d8-3d9f-419c-b463-03541df0b57e .axis .major.line{stroke:rgba(0,0,0,.87)}#chart-757d23d8-3d9f-419c-b463-03541df0b57e .axis text.major{fill:rgba(0,0,0,1)}#chart-757d23d8-3d9f-419c-b463-03541df0b57e .axis.y .guides:hover .guide.line,#chart-757d23d8-3d9f-419c-b463-03541df0b57e .line-graph .axis.x .guides:hover .guide.line,#chart-757d23d8-3d9f-419c-b463-03541df0b57e .stackedline-graph .axis.x .guides:hover .guide.line,#chart-757d23d8-3d9f-419c-b463-03541df0b57e .xy-graph .axis.x .guides:hover .guide.line{stroke:rgba(0,0,0,1)}#chart-757d23d8-3d9f-419c-b463-03541df0b57e .axis .guides:hover text{fill:rgba(0,0,0,1)}#chart-757d23d8-3d9f-419c-b463-03541df0b57e .reactive{fill-opacity:.7;stroke-opacity:.8}#chart-757d23d8-3d9f-419c-b463-03541df0b57e .ci{stroke:rgba(0,0,0,.87)}#chart-757d23d8-3d9f-419c-b463-03541df0b57e .reactive.active,#chart-757d23d8-3d9f-419c-b463-03541df0b57e .active .reactive{fill-opacity:.8;stroke-opacity:.9;stroke-width:4}#chart-757d23d8-3d9f-419c-b463-03541df0b57e .ci .reactive.active{stroke-width:1.5}#chart-757d23d8-3d9f-419c-b463-03541df0b57e .series text{fill:rgba(0,0,0,1)}#chart-757d23d8-3d9f-419c-b463-03541df0b57e .tooltip rect{fill:rgba(255,255,255,1);stroke:rgba(0,0,0,1);-webkit-transition:opacity 150ms;-moz-transition:opacity 150ms;transition:opacity 150ms}#chart-757d23d8-3d9f-419c-b463-03541df0b57e .tooltip .label{fill:rgba(0,0,0,.87)}#chart-757d23d8-3d9f-419c-b463-03541df0b57e .tooltip .label{fill:rgba(0,0,0,.87)}#chart-757d23d8-3d9f-419c-b463-03541df0b57e .tooltip .legend{font-size:.8em;fill:rgba(0,0,0,.54)}#chart-757d23d8-3d9f-419c-b463-03541df0b57e .tooltip .x_label{font-size:.6em;fill:rgba(0,0,0,1)}#chart-757d23d8-3d9f-419c-b463-03541df0b57e .tooltip .xlink{font-size:.5em;text-decoration:underline}#chart-757d23d8-3d9f-419c-b463-03541df0b57e .tooltip .value{font-size:1.5em}#chart-757d23d8-3d9f-419c-b463-03541df0b57e .bound{font-size:.5em}#chart-757d23d8-3d9f-419c-b463-03541df0b57e .max-value{font-size:.75em;fill:rgba(0,0,0,.54)}#chart-757d23d8-3d9f-419c-b463-03541df0b57e .map-element{fill:rgba(255,255,255,1);stroke:rgba(0,0,0,.54) !important}#chart-757d23d8-3d9f-419c-b463-03541df0b57e .map-element .reactive{fill-opacity:inherit;stroke-opacity:inherit}#chart-757d23d8-3d9f-419c-b463-03541df0b57e .color-0,#chart-757d23d8-3d9f-419c-b463-03541df0b57e .color-0 a:visited{stroke:#F44336;fill:#F44336}#chart-757d23d8-3d9f-419c-b463-03541df0b57e .color-1,#chart-757d23d8-3d9f-419c-b463-03541df0b57e .color-1 a:visited{stroke:#3F51B5;fill:#3F51B5}#chart-757d23d8-3d9f-419c-b463-03541df0b57e .color-2,#chart-757d23d8-3d9f-419c-b463-03541df0b57e .color-2 a:visited{stroke:#009688;fill:#009688}#chart-757d23d8-3d9f-419c-b463-03541df0b57e .text-overlay .color-0 text{fill:black}#chart-757d23d8-3d9f-419c-b463-03541df0b57e .text-overlay .color-1 text{fill:black}#chart-757d23d8-3d9f-419c-b463-03541df0b57e .text-overlay .color-2 text{fill:black}\n",
       "#chart-757d23d8-3d9f-419c-b463-03541df0b57e text.no_data{text-anchor:middle}#chart-757d23d8-3d9f-419c-b463-03541df0b57e .guide.line{fill:none}#chart-757d23d8-3d9f-419c-b463-03541df0b57e .centered{text-anchor:middle}#chart-757d23d8-3d9f-419c-b463-03541df0b57e .title{text-anchor:middle}#chart-757d23d8-3d9f-419c-b463-03541df0b57e .legends .legend text{fill-opacity:1}#chart-757d23d8-3d9f-419c-b463-03541df0b57e .axis.x text{text-anchor:middle}#chart-757d23d8-3d9f-419c-b463-03541df0b57e .axis.x:not(.web) text[transform]{text-anchor:start}#chart-757d23d8-3d9f-419c-b463-03541df0b57e .axis.x:not(.web) text[transform].backwards{text-anchor:end}#chart-757d23d8-3d9f-419c-b463-03541df0b57e .axis.y text{text-anchor:end}#chart-757d23d8-3d9f-419c-b463-03541df0b57e .axis.y text[transform].backwards{text-anchor:start}#chart-757d23d8-3d9f-419c-b463-03541df0b57e .axis.y2 text{text-anchor:start}#chart-757d23d8-3d9f-419c-b463-03541df0b57e .axis.y2 text[transform].backwards{text-anchor:end}#chart-757d23d8-3d9f-419c-b463-03541df0b57e .axis .guide.line{stroke-dasharray:4,4}#chart-757d23d8-3d9f-419c-b463-03541df0b57e .axis .major.guide.line{stroke-dasharray:6,6}#chart-757d23d8-3d9f-419c-b463-03541df0b57e .horizontal .axis.y .guide.line,#chart-757d23d8-3d9f-419c-b463-03541df0b57e .horizontal .axis.y2 .guide.line,#chart-757d23d8-3d9f-419c-b463-03541df0b57e .vertical .axis.x .guide.line{opacity:0}#chart-757d23d8-3d9f-419c-b463-03541df0b57e .horizontal .axis.always_show .guide.line,#chart-757d23d8-3d9f-419c-b463-03541df0b57e .vertical .axis.always_show .guide.line{opacity:1 !important}#chart-757d23d8-3d9f-419c-b463-03541df0b57e .axis.y .guides:hover .guide.line,#chart-757d23d8-3d9f-419c-b463-03541df0b57e .axis.y2 .guides:hover .guide.line,#chart-757d23d8-3d9f-419c-b463-03541df0b57e .axis.x .guides:hover .guide.line{opacity:1}#chart-757d23d8-3d9f-419c-b463-03541df0b57e .axis .guides:hover text{opacity:1}#chart-757d23d8-3d9f-419c-b463-03541df0b57e .nofill{fill:none}#chart-757d23d8-3d9f-419c-b463-03541df0b57e .subtle-fill{fill-opacity:.2}#chart-757d23d8-3d9f-419c-b463-03541df0b57e .dot{stroke-width:1px;fill-opacity:1}#chart-757d23d8-3d9f-419c-b463-03541df0b57e .dot.active{stroke-width:5px}#chart-757d23d8-3d9f-419c-b463-03541df0b57e .dot.negative{fill:transparent}#chart-757d23d8-3d9f-419c-b463-03541df0b57e text,#chart-757d23d8-3d9f-419c-b463-03541df0b57e tspan{stroke:none !important}#chart-757d23d8-3d9f-419c-b463-03541df0b57e .series text.active{opacity:1}#chart-757d23d8-3d9f-419c-b463-03541df0b57e .tooltip rect{fill-opacity:.95;stroke-width:.5}#chart-757d23d8-3d9f-419c-b463-03541df0b57e .tooltip text{fill-opacity:1}#chart-757d23d8-3d9f-419c-b463-03541df0b57e .showable{visibility:hidden}#chart-757d23d8-3d9f-419c-b463-03541df0b57e .showable.shown{visibility:visible}#chart-757d23d8-3d9f-419c-b463-03541df0b57e .gauge-background{fill:rgba(229,229,229,1);stroke:none}#chart-757d23d8-3d9f-419c-b463-03541df0b57e .bg-lines{stroke:rgba(249,249,249,1);stroke-width:2px}</style><script type=\"text/javascript\">window.pygal = window.pygal || {};window.pygal.config = window.pygal.config || {};window.pygal.config['757d23d8-3d9f-419c-b463-03541df0b57e'] = {\"allow_interruptions\": false, \"box_mode\": \"extremes\", \"classes\": [\"pygal-chart\"], \"css\": [\"file://style.css\", \"file://graph.css\"], \"defs\": [], \"disable_xml_declaration\": true, \"dots_size\": 2.5, \"dynamic_print_values\": false, \"explicit_size\": false, \"fill\": false, \"force_uri_protocol\": \"https\", \"formatter\": null, \"half_pie\": false, \"height\": 600, \"include_x_axis\": false, \"inner_radius\": 0, \"interpolate\": null, \"interpolation_parameters\": {}, \"interpolation_precision\": 250, \"inverse_y_axis\": false, \"js\": [\"//kozea.github.io/pygal.js/2.0.x/pygal-tooltips.min.js\"], \"legend_at_bottom\": false, \"legend_at_bottom_columns\": null, \"legend_box_size\": 12, \"logarithmic\": false, \"margin\": 20, \"margin_bottom\": null, \"margin_left\": null, \"margin_right\": null, \"margin_top\": null, \"max_scale\": 16, \"min_scale\": 4, \"missing_value_fill_truncation\": \"x\", \"no_data_text\": \"No data\", \"no_prefix\": false, \"order_min\": null, \"pretty_print\": false, \"print_labels\": false, \"print_values\": false, \"print_values_position\": \"center\", \"print_zeroes\": true, \"range\": null, \"rounded_bars\": null, \"secondary_range\": null, \"show_dots\": true, \"show_legend\": true, \"show_minor_x_labels\": true, \"show_minor_y_labels\": true, \"show_only_major_dots\": false, \"show_x_guides\": false, \"show_x_labels\": true, \"show_y_guides\": true, \"show_y_labels\": true, \"spacing\": 10, \"stack_from_top\": false, \"strict\": false, \"stroke\": true, \"stroke_style\": null, \"style\": {\"background\": \"rgba(249, 249, 249, 1)\", \"ci_colors\": [], \"colors\": [\"#F44336\", \"#3F51B5\", \"#009688\", \"#FFC107\", \"#FF5722\", \"#9C27B0\", \"#03A9F4\", \"#8BC34A\", \"#FF9800\", \"#E91E63\", \"#2196F3\", \"#4CAF50\", \"#FFEB3B\", \"#673AB7\", \"#00BCD4\", \"#CDDC39\", \"#9E9E9E\", \"#607D8B\"], \"font_family\": \"Consolas, \\\"Liberation Mono\\\", Menlo, Courier, monospace\", \"foreground\": \"rgba(0, 0, 0, .87)\", \"foreground_strong\": \"rgba(0, 0, 0, 1)\", \"foreground_subtle\": \"rgba(0, 0, 0, .54)\", \"guide_stroke_dasharray\": \"4,4\", \"label_font_family\": \"Consolas, \\\"Liberation Mono\\\", Menlo, Courier, monospace\", \"label_font_size\": 10, \"legend_font_family\": \"Consolas, \\\"Liberation Mono\\\", Menlo, Courier, monospace\", \"legend_font_size\": 14, \"major_guide_stroke_dasharray\": \"6,6\", \"major_label_font_family\": \"Consolas, \\\"Liberation Mono\\\", Menlo, Courier, monospace\", \"major_label_font_size\": 10, \"no_data_font_family\": \"Consolas, \\\"Liberation Mono\\\", Menlo, Courier, monospace\", \"no_data_font_size\": 64, \"opacity\": \".7\", \"opacity_hover\": \".8\", \"plot_background\": \"rgba(255, 255, 255, 1)\", \"stroke_opacity\": \".8\", \"stroke_opacity_hover\": \".9\", \"title_font_family\": \"Consolas, \\\"Liberation Mono\\\", Menlo, Courier, monospace\", \"title_font_size\": 16, \"tooltip_font_family\": \"Consolas, \\\"Liberation Mono\\\", Menlo, Courier, monospace\", \"tooltip_font_size\": 14, \"transition\": \"150ms\", \"value_background\": \"rgba(229, 229, 229, 1)\", \"value_colors\": [], \"value_font_family\": \"Consolas, \\\"Liberation Mono\\\", Menlo, Courier, monospace\", \"value_font_size\": 16, \"value_label_font_family\": \"Consolas, \\\"Liberation Mono\\\", Menlo, Courier, monospace\", \"value_label_font_size\": 10}, \"title\": \"K-\\u00f3ptimo\", \"tooltip_border_radius\": 0, \"tooltip_fancy_mode\": true, \"truncate_label\": null, \"truncate_legend\": null, \"width\": 800, \"x_label_rotation\": 0, \"x_labels\": [\"2\", \"3\", \"4\", \"5\", \"6\", \"7\", \"8\", \"9\", \"10\", \"11\", \"12\", \"13\", \"14\", \"15\"], \"x_labels_major\": null, \"x_labels_major_count\": null, \"x_labels_major_every\": null, \"x_title\": null, \"xrange\": null, \"y_label_rotation\": 0, \"y_labels\": null, \"y_labels_major\": null, \"y_labels_major_count\": null, \"y_labels_major_every\": null, \"y_title\": null, \"zero\": 0, \"legends\": [\"Inertia\", \"DB\", \"Silhouette\"]}</script><script type=\"text/javascript\" xlink:href=\"https://kozea.github.io/pygal.js/2.0.x/pygal-tooltips.min.js\"/></defs><title>K-óptimo</title><g class=\"graph line-graph vertical\"><rect x=\"0\" y=\"0\" width=\"800\" height=\"600\" class=\"background\"/><g transform=\"translate(154, 46)\" class=\"plot\"><rect x=\"0\" y=\"0\" width=\"626.0\" height=\"514\" class=\"background\"/><g class=\"axis y always_show\"><g class=\"guides\"><path d=\"M0.000000 504.115385 h626.000000\" class=\"axis major line\"/><text x=\"-5\" y=\"507.61538461538464\" class=\"major\">0</text><title>0</title></g><g class=\"guides\"><path d=\"M0.000000 454.692308 h626.000000\" class=\"guide line\"/><text x=\"-5\" y=\"458.1923076923077\" class=\"\">0.1</text><title>0.1</title></g><g class=\"guides\"><path d=\"M0.000000 405.269231 h626.000000\" class=\"guide line\"/><text x=\"-5\" y=\"408.7692307692308\" class=\"\">0.2</text><title>0.2</title></g><g class=\"guides\"><path d=\"M0.000000 355.846154 h626.000000\" class=\"guide line\"/><text x=\"-5\" y=\"359.34615384615387\" class=\"\">0.3</text><title>0.3</title></g><g class=\"guides\"><path d=\"M0.000000 306.423077 h626.000000\" class=\"guide line\"/><text x=\"-5\" y=\"309.9230769230769\" class=\"\">0.4</text><title>0.4</title></g><g class=\"guides\"><path d=\"M0.000000 257.000000 h626.000000\" class=\"major guide line\"/><text x=\"-5\" y=\"260.5\" class=\"major\">0.5</text><title>0.5</title></g><g class=\"guides\"><path d=\"M0.000000 207.576923 h626.000000\" class=\"guide line\"/><text x=\"-5\" y=\"211.0769230769231\" class=\"\">0.6</text><title>0.6</title></g><g class=\"guides\"><path d=\"M0.000000 158.153846 h626.000000\" class=\"guide line\"/><text x=\"-5\" y=\"161.6538461538462\" class=\"\">0.7</text><title>0.7</title></g><g class=\"guides\"><path d=\"M0.000000 108.730769 h626.000000\" class=\"guide line\"/><text x=\"-5\" y=\"112.23076923076923\" class=\"\">0.8</text><title>0.8</title></g><g class=\"guides\"><path d=\"M0.000000 59.307692 h626.000000\" class=\"guide line\"/><text x=\"-5\" y=\"62.80769230769232\" class=\"\">0.9</text><title>0.9</title></g><g class=\"guides\"><path d=\"M0.000000 9.884615 h626.000000\" class=\"major guide line\"/><text x=\"-5\" y=\"13.384615384615415\" class=\"major\">1</text><title>1</title></g></g><g class=\"axis x\"><g class=\"guides\"><path d=\"M12.038462 0.000000 v514.000000\" class=\"line\"/><text x=\"12.038461538461538\" y=\"529.0\" class=\"\">2</text></g><g class=\"guides\"><path d=\"M58.340237 0.000000 v514.000000\" class=\"guide line\"/><text x=\"58.34023668639053\" y=\"529.0\" class=\"\">3</text></g><g class=\"guides\"><path d=\"M104.642012 0.000000 v514.000000\" class=\"guide line\"/><text x=\"104.64201183431952\" y=\"529.0\" class=\"\">4</text></g><g class=\"guides\"><path d=\"M150.943787 0.000000 v514.000000\" class=\"guide line\"/><text x=\"150.94378698224855\" y=\"529.0\" class=\"\">5</text></g><g class=\"guides\"><path d=\"M197.245562 0.000000 v514.000000\" class=\"guide line\"/><text x=\"197.24556213017752\" y=\"529.0\" class=\"\">6</text></g><g class=\"guides\"><path d=\"M243.547337 0.000000 v514.000000\" class=\"guide line\"/><text x=\"243.5473372781065\" y=\"529.0\" class=\"\">7</text></g><g class=\"guides\"><path d=\"M289.849112 0.000000 v514.000000\" class=\"guide line\"/><text x=\"289.8491124260355\" y=\"529.0\" class=\"\">8</text></g><g class=\"guides\"><path d=\"M336.150888 0.000000 v514.000000\" class=\"guide line\"/><text x=\"336.1508875739645\" y=\"529.0\" class=\"\">9</text></g><g class=\"guides\"><path d=\"M382.452663 0.000000 v514.000000\" class=\"guide line\"/><text x=\"382.4526627218935\" y=\"529.0\" class=\"\">10</text></g><g class=\"guides\"><path d=\"M428.754438 0.000000 v514.000000\" class=\"guide line\"/><text x=\"428.7544378698225\" y=\"529.0\" class=\"\">11</text></g><g class=\"guides\"><path d=\"M475.056213 0.000000 v514.000000\" class=\"guide line\"/><text x=\"475.05621301775153\" y=\"529.0\" class=\"\">12</text></g><g class=\"guides\"><path d=\"M521.357988 0.000000 v514.000000\" class=\"guide line\"/><text x=\"521.3579881656805\" y=\"529.0\" class=\"\">13</text></g><g class=\"guides\"><path d=\"M567.659763 0.000000 v514.000000\" class=\"guide line\"/><text x=\"567.6597633136095\" y=\"529.0\" class=\"\">14</text></g><g class=\"guides\"><path d=\"M613.961538 0.000000 v514.000000\" class=\"guide line\"/><text x=\"613.9615384615385\" y=\"529.0\" class=\"\">15</text></g></g><g class=\"series serie-0 color-0\"><path d=\"M12.038462 9.884615 L58.340237 182.865385 104.642012 276.769231 150.943787 331.134615 197.245562 375.615385 243.547337 405.269231 289.849112 429.980769 336.150888 444.807692 382.452663 459.634615 428.754438 474.461538 475.056213 484.346154 521.357988 489.288462 567.659763 499.173077 613.961538 504.115385\" class=\"line reactive nofill\"/></g><g class=\"series serie-1 color-1\"><path d=\"M12.038462 9.884615 L58.340237 79.076923 104.642012 103.788462 150.943787 88.961538 197.245562 93.903846 243.547337 113.673077 289.849112 93.903846 336.150888 84.019231 382.452663 84.019231 428.754438 84.019231 475.056213 74.134615 521.357988 64.250000 567.659763 74.134615 613.961538 64.250000\" class=\"line reactive nofill\"/></g><g class=\"series serie-2 color-2\"><path d=\"M12.038462 9.884615 L58.340237 9.884615 104.642012 39.538462 150.943787 49.423077 197.245562 64.250000 243.547337 79.076923 289.849112 84.019231 336.150888 98.846154 382.452663 93.903846 428.754438 113.673077 475.056213 118.615385 521.357988 133.442308 567.659763 138.384615 613.961538 138.384615\" class=\"line reactive nofill\"/></g></g><g class=\"titles\"><text x=\"400.0\" y=\"26\" class=\"title plot_title\">K-óptimo</text></g><g transform=\"translate(154, 46)\" class=\"plot overlay\"><g class=\"series serie-0 color-0\"><g class=\"dots\"><circle cx=\"12.038461538461538\" cy=\"9.884615384615415\" r=\"2.5\" class=\"dot reactive tooltip-trigger\"/><desc class=\"value\">1</desc><desc class=\"x \">12.038461538461538</desc><desc class=\"y \">9.884615384615415</desc><desc class=\"x_label\">2</desc></g><g class=\"dots\"><circle cx=\"58.34023668639053\" cy=\"182.86538461538464\" r=\"2.5\" class=\"dot reactive tooltip-trigger\"/><desc class=\"value\">0.65</desc><desc class=\"x \">58.34023668639053</desc><desc class=\"y \">182.86538461538464</desc><desc class=\"x_label\">3</desc></g><g class=\"dots\"><circle cx=\"104.64201183431952\" cy=\"276.7692307692307\" r=\"2.5\" class=\"dot reactive tooltip-trigger\"/><desc class=\"value\">0.46</desc><desc class=\"x top\">104.64201183431952</desc><desc class=\"y top\">276.7692307692307</desc><desc class=\"x_label\">4</desc></g><g class=\"dots\"><circle cx=\"150.94378698224855\" cy=\"331.13461538461536\" r=\"2.5\" class=\"dot reactive tooltip-trigger\"/><desc class=\"value\">0.35</desc><desc class=\"x top\">150.94378698224855</desc><desc class=\"y top\">331.13461538461536</desc><desc class=\"x_label\">5</desc></g><g class=\"dots\"><circle cx=\"197.24556213017752\" cy=\"375.61538461538464\" r=\"2.5\" class=\"dot reactive tooltip-trigger\"/><desc class=\"value\">0.26</desc><desc class=\"x top\">197.24556213017752</desc><desc class=\"y top\">375.61538461538464</desc><desc class=\"x_label\">6</desc></g><g class=\"dots\"><circle cx=\"243.5473372781065\" cy=\"405.2692307692308\" r=\"2.5\" class=\"dot reactive tooltip-trigger\"/><desc class=\"value\">0.2</desc><desc class=\"x top\">243.5473372781065</desc><desc class=\"y top\">405.2692307692308</desc><desc class=\"x_label\">7</desc></g><g class=\"dots\"><circle cx=\"289.8491124260355\" cy=\"429.9807692307692\" r=\"2.5\" class=\"dot reactive tooltip-trigger\"/><desc class=\"value\">0.15</desc><desc class=\"x top\">289.8491124260355</desc><desc class=\"y top\">429.9807692307692</desc><desc class=\"x_label\">8</desc></g><g class=\"dots\"><circle cx=\"336.1508875739645\" cy=\"444.8076923076923\" r=\"2.5\" class=\"dot reactive tooltip-trigger\"/><desc class=\"value\">0.12</desc><desc class=\"x left top\">336.1508875739645</desc><desc class=\"y left top\">444.8076923076923</desc><desc class=\"x_label\">9</desc></g><g class=\"dots\"><circle cx=\"382.4526627218935\" cy=\"459.63461538461536\" r=\"2.5\" class=\"dot reactive tooltip-trigger\"/><desc class=\"value\">0.09</desc><desc class=\"x left top\">382.4526627218935</desc><desc class=\"y left top\">459.63461538461536</desc><desc class=\"x_label\">10</desc></g><g class=\"dots\"><circle cx=\"428.7544378698225\" cy=\"474.46153846153845\" r=\"2.5\" class=\"dot reactive tooltip-trigger\"/><desc class=\"value\">0.06</desc><desc class=\"x left top\">428.7544378698225</desc><desc class=\"y left top\">474.46153846153845</desc><desc class=\"x_label\">11</desc></g><g class=\"dots\"><circle cx=\"475.05621301775153\" cy=\"484.34615384615387\" r=\"2.5\" class=\"dot reactive tooltip-trigger\"/><desc class=\"value\">0.04</desc><desc class=\"x left top\">475.05621301775153</desc><desc class=\"y left top\">484.34615384615387</desc><desc class=\"x_label\">12</desc></g><g class=\"dots\"><circle cx=\"521.3579881656805\" cy=\"489.28846153846155\" r=\"2.5\" class=\"dot reactive tooltip-trigger\"/><desc class=\"value\">0.03</desc><desc class=\"x left top\">521.3579881656805</desc><desc class=\"y left top\">489.28846153846155</desc><desc class=\"x_label\">13</desc></g><g class=\"dots\"><circle cx=\"567.6597633136095\" cy=\"499.1730769230769\" r=\"2.5\" class=\"dot reactive tooltip-trigger\"/><desc class=\"value\">0.01</desc><desc class=\"x left top\">567.6597633136095</desc><desc class=\"y left top\">499.1730769230769</desc><desc class=\"x_label\">14</desc></g><g class=\"dots\"><circle cx=\"613.9615384615385\" cy=\"504.11538461538464\" r=\"2.5\" class=\"dot reactive tooltip-trigger\"/><desc class=\"value\">0</desc><desc class=\"x left top\">613.9615384615385</desc><desc class=\"y left top\">504.11538461538464</desc><desc class=\"x_label\">15</desc></g></g><g class=\"series serie-1 color-1\"><g class=\"dots\"><circle cx=\"12.038461538461538\" cy=\"9.884615384615415\" r=\"2.5\" class=\"dot reactive tooltip-trigger\"/><desc class=\"value\">1</desc><desc class=\"x \">12.038461538461538</desc><desc class=\"y \">9.884615384615415</desc><desc class=\"x_label\">2</desc></g><g class=\"dots\"><circle cx=\"58.34023668639053\" cy=\"79.0769230769231\" r=\"2.5\" class=\"dot reactive tooltip-trigger\"/><desc class=\"value\">0.86</desc><desc class=\"x \">58.34023668639053</desc><desc class=\"y \">79.0769230769231</desc><desc class=\"x_label\">3</desc></g><g class=\"dots\"><circle cx=\"104.64201183431952\" cy=\"103.78846153846149\" r=\"2.5\" class=\"dot reactive tooltip-trigger\"/><desc class=\"value\">0.81</desc><desc class=\"x \">104.64201183431952</desc><desc class=\"y \">103.78846153846149</desc><desc class=\"x_label\">4</desc></g><g class=\"dots\"><circle cx=\"150.94378698224855\" cy=\"88.96153846153845\" r=\"2.5\" class=\"dot reactive tooltip-trigger\"/><desc class=\"value\">0.84</desc><desc class=\"x \">150.94378698224855</desc><desc class=\"y \">88.96153846153845</desc><desc class=\"x_label\">5</desc></g><g class=\"dots\"><circle cx=\"197.24556213017752\" cy=\"93.90384615384619\" r=\"2.5\" class=\"dot reactive tooltip-trigger\"/><desc class=\"value\">0.83</desc><desc class=\"x \">197.24556213017752</desc><desc class=\"y \">93.90384615384619</desc><desc class=\"x_label\">6</desc></g><g class=\"dots\"><circle cx=\"243.5473372781065\" cy=\"113.6730769230769\" r=\"2.5\" class=\"dot reactive tooltip-trigger\"/><desc class=\"value\">0.79</desc><desc class=\"x \">243.5473372781065</desc><desc class=\"y \">113.6730769230769</desc><desc class=\"x_label\">7</desc></g><g class=\"dots\"><circle cx=\"289.8491124260355\" cy=\"93.90384615384619\" r=\"2.5\" class=\"dot reactive tooltip-trigger\"/><desc class=\"value\">0.83</desc><desc class=\"x \">289.8491124260355</desc><desc class=\"y \">93.90384615384619</desc><desc class=\"x_label\">8</desc></g><g class=\"dots\"><circle cx=\"336.1508875739645\" cy=\"84.01923076923077\" r=\"2.5\" class=\"dot reactive tooltip-trigger\"/><desc class=\"value\">0.85</desc><desc class=\"x left\">336.1508875739645</desc><desc class=\"y left\">84.01923076923077</desc><desc class=\"x_label\">9</desc></g><g class=\"dots\"><circle cx=\"382.4526627218935\" cy=\"84.01923076923077\" r=\"2.5\" class=\"dot reactive tooltip-trigger\"/><desc class=\"value\">0.85</desc><desc class=\"x left\">382.4526627218935</desc><desc class=\"y left\">84.01923076923077</desc><desc class=\"x_label\">10</desc></g><g class=\"dots\"><circle cx=\"428.7544378698225\" cy=\"84.01923076923077\" r=\"2.5\" class=\"dot reactive tooltip-trigger\"/><desc class=\"value\">0.85</desc><desc class=\"x left\">428.7544378698225</desc><desc class=\"y left\">84.01923076923077</desc><desc class=\"x_label\">11</desc></g><g class=\"dots\"><circle cx=\"475.05621301775153\" cy=\"74.13461538461542\" r=\"2.5\" class=\"dot reactive tooltip-trigger\"/><desc class=\"value\">0.87</desc><desc class=\"x left\">475.05621301775153</desc><desc class=\"y left\">74.13461538461542</desc><desc class=\"x_label\">12</desc></g><g class=\"dots\"><circle cx=\"521.3579881656805\" cy=\"64.25\" r=\"2.5\" class=\"dot reactive tooltip-trigger\"/><desc class=\"value\">0.89</desc><desc class=\"x left\">521.3579881656805</desc><desc class=\"y left\">64.25</desc><desc class=\"x_label\">13</desc></g><g class=\"dots\"><circle cx=\"567.6597633136095\" cy=\"74.13461538461542\" r=\"2.5\" class=\"dot reactive tooltip-trigger\"/><desc class=\"value\">0.87</desc><desc class=\"x left\">567.6597633136095</desc><desc class=\"y left\">74.13461538461542</desc><desc class=\"x_label\">14</desc></g><g class=\"dots\"><circle cx=\"613.9615384615385\" cy=\"64.25\" r=\"2.5\" class=\"dot reactive tooltip-trigger\"/><desc class=\"value\">0.89</desc><desc class=\"x left\">613.9615384615385</desc><desc class=\"y left\">64.25</desc><desc class=\"x_label\">15</desc></g></g><g class=\"series serie-2 color-2\"><g class=\"dots\"><circle cx=\"12.038461538461538\" cy=\"9.884615384615415\" r=\"2.5\" class=\"dot reactive tooltip-trigger\"/><desc class=\"value\">1</desc><desc class=\"x \">12.038461538461538</desc><desc class=\"y \">9.884615384615415</desc><desc class=\"x_label\">2</desc></g><g class=\"dots\"><circle cx=\"58.34023668639053\" cy=\"9.884615384615415\" r=\"2.5\" class=\"dot reactive tooltip-trigger\"/><desc class=\"value\">1</desc><desc class=\"x \">58.34023668639053</desc><desc class=\"y \">9.884615384615415</desc><desc class=\"x_label\">3</desc></g><g class=\"dots\"><circle cx=\"104.64201183431952\" cy=\"39.53846153846155\" r=\"2.5\" class=\"dot reactive tooltip-trigger\"/><desc class=\"value\">0.94</desc><desc class=\"x \">104.64201183431952</desc><desc class=\"y \">39.53846153846155</desc><desc class=\"x_label\">4</desc></g><g class=\"dots\"><circle cx=\"150.94378698224855\" cy=\"49.423076923076906\" r=\"2.5\" class=\"dot reactive tooltip-trigger\"/><desc class=\"value\">0.92</desc><desc class=\"x \">150.94378698224855</desc><desc class=\"y \">49.423076923076906</desc><desc class=\"x_label\">5</desc></g><g class=\"dots\"><circle cx=\"197.24556213017752\" cy=\"64.25\" r=\"2.5\" class=\"dot reactive tooltip-trigger\"/><desc class=\"value\">0.89</desc><desc class=\"x \">197.24556213017752</desc><desc class=\"y \">64.25</desc><desc class=\"x_label\">6</desc></g><g class=\"dots\"><circle cx=\"243.5473372781065\" cy=\"79.0769230769231\" r=\"2.5\" class=\"dot reactive tooltip-trigger\"/><desc class=\"value\">0.86</desc><desc class=\"x \">243.5473372781065</desc><desc class=\"y \">79.0769230769231</desc><desc class=\"x_label\">7</desc></g><g class=\"dots\"><circle cx=\"289.8491124260355\" cy=\"84.01923076923077\" r=\"2.5\" class=\"dot reactive tooltip-trigger\"/><desc class=\"value\">0.85</desc><desc class=\"x \">289.8491124260355</desc><desc class=\"y \">84.01923076923077</desc><desc class=\"x_label\">8</desc></g><g class=\"dots\"><circle cx=\"336.1508875739645\" cy=\"98.84615384615387\" r=\"2.5\" class=\"dot reactive tooltip-trigger\"/><desc class=\"value\">0.82</desc><desc class=\"x left\">336.1508875739645</desc><desc class=\"y left\">98.84615384615387</desc><desc class=\"x_label\">9</desc></g><g class=\"dots\"><circle cx=\"382.4526627218935\" cy=\"93.90384615384619\" r=\"2.5\" class=\"dot reactive tooltip-trigger\"/><desc class=\"value\">0.83</desc><desc class=\"x left\">382.4526627218935</desc><desc class=\"y left\">93.90384615384619</desc><desc class=\"x_label\">10</desc></g><g class=\"dots\"><circle cx=\"428.7544378698225\" cy=\"113.6730769230769\" r=\"2.5\" class=\"dot reactive tooltip-trigger\"/><desc class=\"value\">0.79</desc><desc class=\"x left\">428.7544378698225</desc><desc class=\"y left\">113.6730769230769</desc><desc class=\"x_label\">11</desc></g><g class=\"dots\"><circle cx=\"475.05621301775153\" cy=\"118.61538461538458\" r=\"2.5\" class=\"dot reactive tooltip-trigger\"/><desc class=\"value\">0.78</desc><desc class=\"x left\">475.05621301775153</desc><desc class=\"y left\">118.61538461538458</desc><desc class=\"x_label\">12</desc></g><g class=\"dots\"><circle cx=\"521.3579881656805\" cy=\"133.44230769230768\" r=\"2.5\" class=\"dot reactive tooltip-trigger\"/><desc class=\"value\">0.75</desc><desc class=\"x left\">521.3579881656805</desc><desc class=\"y left\">133.44230769230768</desc><desc class=\"x_label\">13</desc></g><g class=\"dots\"><circle cx=\"567.6597633136095\" cy=\"138.38461538461542\" r=\"2.5\" class=\"dot reactive tooltip-trigger\"/><desc class=\"value\">0.74</desc><desc class=\"x left\">567.6597633136095</desc><desc class=\"y left\">138.38461538461542</desc><desc class=\"x_label\">14</desc></g><g class=\"dots\"><circle cx=\"613.9615384615385\" cy=\"138.38461538461542\" r=\"2.5\" class=\"dot reactive tooltip-trigger\"/><desc class=\"value\">0.74</desc><desc class=\"x left\">613.9615384615385</desc><desc class=\"y left\">138.38461538461542</desc><desc class=\"x_label\">15</desc></g></g></g><g transform=\"translate(154, 46)\" class=\"plot text-overlay\"><g class=\"series serie-0 color-0\"/><g class=\"series serie-1 color-1\"/><g class=\"series serie-2 color-2\"/></g><g transform=\"translate(154, 46)\" class=\"plot tooltip-overlay\"><g transform=\"translate(0 0)\" style=\"opacity: 0\" class=\"tooltip\"><rect rx=\"0\" ry=\"0\" width=\"0\" height=\"0\" class=\"tooltip-box\"/><g class=\"text\"/></g></g><g transform=\"translate(10, 56)\" class=\"legends\"><g id=\"activate-serie-0\" class=\"legend reactive activate-serie\"><rect x=\"0.0\" y=\"1.0\" width=\"12\" height=\"12\" class=\"color-0 reactive\"/><text x=\"17.0\" y=\"11.2\">Inertia</text></g><g id=\"activate-serie-1\" class=\"legend reactive activate-serie\"><rect x=\"0.0\" y=\"22.0\" width=\"12\" height=\"12\" class=\"color-1 reactive\"/><text x=\"17.0\" y=\"32.2\">DB</text></g><g id=\"activate-serie-2\" class=\"legend reactive activate-serie\"><rect x=\"0.0\" y=\"43.0\" width=\"12\" height=\"12\" class=\"color-2 reactive\"/><text x=\"17.0\" y=\"53.2\">Silhouette</text></g></g><g transform=\"translate(790, 56)\" class=\"legends\"/></g></svg>"
      ],
      "text/plain": [
       "<pygal.graph.line.Line at 0x7f97738e39a0>"
      ]
     },
     "execution_count": 15,
     "metadata": {},
     "output_type": "execute_result"
    }
   ],
   "source": [
    "import pygal\n",
    "line_chart = pygal.Line()\n",
    "line_chart.title = 'K-óptimo'\n",
    "line_chart.x_labels = map(str, sse.keys())\n",
    "for name, dicc in zip(['Inertia','DB','Silhouette'],dicts):\n",
    "    line_chart.add(name, list(map(lambda x: round(x,2), dicc.values())))\n",
    "line_chart"
   ]
  },
  {
   "cell_type": "code",
   "execution_count": 16,
   "id": "verified-reference",
   "metadata": {
    "ExecuteTime": {
     "end_time": "2021-02-15T22:20:20.087030Z",
     "start_time": "2021-02-15T22:20:19.814716Z"
    },
    "hidden": true
   },
   "outputs": [
    {
     "name": "stdout",
     "output_type": "stream",
     "text": [
      "file:///var/folders/j4/1p33_bh96yn8pdz3b_5t80hm0000gn/T/tmpkavo0xfw.html\n"
     ]
    }
   ],
   "source": [
    "line_chart.render_in_browser()"
   ]
  },
  {
   "cell_type": "markdown",
   "id": "suburban-reality",
   "metadata": {
    "heading_collapsed": true
   },
   "source": [
    "## Cluster"
   ]
  },
  {
   "cell_type": "code",
   "execution_count": 17,
   "id": "atomic-cooperative",
   "metadata": {
    "ExecuteTime": {
     "end_time": "2021-02-15T22:20:29.100335Z",
     "start_time": "2021-02-15T22:20:20.091550Z"
    },
    "hidden": true
   },
   "outputs": [
    {
     "data": {
      "text/plain": [
       "C   0.30\n",
       "F   0.28\n",
       "B   0.13\n",
       "E   0.10\n",
       "A   0.09\n",
       "G   0.06\n",
       "D   0.04\n",
       "Name: df_cluster, dtype: float64"
      ]
     },
     "metadata": {},
     "output_type": "display_data"
    },
    {
     "data": {
      "text/plain": [
       "0.7886632896324912"
      ]
     },
     "metadata": {},
     "output_type": "display_data"
    },
    {
     "data": {
      "text/plain": [
       "<seaborn.axisgrid.FacetGrid at 0x7f965ca14b20>"
      ]
     },
     "execution_count": 17,
     "metadata": {},
     "output_type": "execute_result"
    },
    {
     "data": {
      "image/png": "[encoded data removed]",
      "text/plain": [
       "<Figure size 417.125x360 with 1 Axes>"
      ]
     },
     "metadata": {
      "needs_background": "light"
     },
     "output_type": "display_data"
    }
   ],
   "source": [
    "import string\n",
    "import seaborn as sns\n",
    "from sklearn.pipeline import Pipeline\n",
    "from sklearn.decomposition import PCA\n",
    "from sklearn.mixture import GaussianMixture\n",
    "from sklearn.preprocessing import MinMaxScaler\n",
    "\n",
    "mm_df = MinMaxScaler()\n",
    "\n",
    "#Aplicar MinMax y PCA al mismo tiempo\n",
    "Xs = pd.DataFrame(mm_df.fit_transform(df[[x for x in df.columns if not x.endswith('luster')]]), \n",
    "                  index = df.index,\n",
    "                  columns = df.columns)\n",
    "\n",
    "#Clusterizar\n",
    "n_clusters = 7\n",
    "cluster = GaussianMixture(n_components = n_clusters, random_state = 22)\n",
    "df['df_cluster'] = Xs['df_cluster'] = cluster.fit_predict(Xs)\n",
    "\n",
    "#Diccionario de letras mayúsculas\n",
    "dict_cluster_df = dict(zip(range(n_clusters),string.ascii_uppercase[:n_clusters]))\n",
    "\n",
    "#Reemplazar número de clúster por letra\n",
    "Xs['df_cluster'] = Xs[['df_cluster']].replace(dict_cluster_df)\n",
    "df['df_cluster'] = Xs['df_cluster'].copy()\n",
    "\n",
    "#Porcentaje de registros por clúster\n",
    "display(df['df_cluster'].value_counts(1))\n",
    "\n",
    "#Ahora, con sólo dos componentes en PCA para poder apreciar gráficamente\n",
    "pca_df = PCA(2)\n",
    "pipe_df = Pipeline(steps=[('MinMax', mm_df),\n",
    "                          ('PCA', pca_df)])\n",
    "#Aplicar MinMax y PCA al mismo tiempo\n",
    "Xg = pd.DataFrame(pipe_df.fit_transform(df[[x for x in df.columns if not x.endswith('luster')]]), \n",
    "                  index = df.index,\n",
    "                  columns = ['p1','p2'])\n",
    "\n",
    "#Varianza explicada\n",
    "display(pca_df.explained_variance_ratio_.sum())\n",
    "\n",
    "#Reemplazar número de clúster por letra\n",
    "Xg['df_cluster'] = Xs['df_cluster'].copy()\n",
    "#Scatterplot de las dos dimensiones de PCA separando por color cada clúster\n",
    "sns.lmplot(data = Xg.sample(frac = .1).sort_values(by = 'df_cluster'),\n",
    "           x = 'p1',\n",
    "           y = 'p2',\n",
    "           fit_reg = False, \n",
    "           hue = 'df_cluster', \n",
    "           palette = 'Paired')"
   ]
  },
  {
   "cell_type": "markdown",
   "id": "square-saskatchewan",
   "metadata": {
    "heading_collapsed": true
   },
   "source": [
    "## Perfilamiento"
   ]
  },
  {
   "cell_type": "code",
   "execution_count": 18,
   "id": "hairy-animal",
   "metadata": {
    "ExecuteTime": {
     "end_time": "2021-02-15T22:20:29.413594Z",
     "start_time": "2021-02-15T22:20:29.102523Z"
    },
    "hidden": true,
    "scrolled": true
   },
   "outputs": [
    {
     "data": {
      "text/plain": [
       "<AxesSubplot:xlabel='df_cluster'>"
      ]
     },
     "execution_count": 18,
     "metadata": {},
     "output_type": "execute_result"
    },
    {
     "data": {
      "text/plain": [
       "<Figure size 432x288 with 0 Axes>"
      ]
     },
     "metadata": {},
     "output_type": "display_data"
    },
    {
     "data": {
      "image/png": "[encoded data removed]",
      "text/plain": [
       "<Figure size 288x288 with 2 Axes>"
      ]
     },
     "metadata": {},
     "output_type": "display_data"
    }
   ],
   "source": [
    "import seaborn as sns\n",
    "#Perfilamiento\n",
    "aux = df[[x for x in df.columns \n",
    "          if x.endswith('mean')] + ['df_cluster']].groupby('df_cluster').mean()\n",
    "#Porcentaje respecto a la suma por columna\n",
    "for col in aux.columns:\n",
    "    aux[col] = aux[col]/aux[col].sum()\n",
    "\n",
    "fig = plt.figure()\n",
    "fig, ax = plt.subplots(figsize=(4,4)) \n",
    "fig.patch.set_facecolor('white')\n",
    "fig.patch.set_alpha(0.9)\n",
    "\n",
    "#Heatmap\n",
    "sns.heatmap(aux.transpose(), cmap = 'Blues')"
   ]
  },
  {
   "cell_type": "code",
   "execution_count": 19,
   "id": "higher-muscle",
   "metadata": {
    "ExecuteTime": {
     "end_time": "2021-02-15T22:20:29.711267Z",
     "start_time": "2021-02-15T22:20:29.415515Z"
    },
    "hidden": true,
    "scrolled": true
   },
   "outputs": [
    {
     "data": {
      "text/plain": [
       "<AxesSubplot:xlabel='df_cluster'>"
      ]
     },
     "execution_count": 19,
     "metadata": {},
     "output_type": "execute_result"
    },
    {
     "data": {
      "text/plain": [
       "<Figure size 432x288 with 0 Axes>"
      ]
     },
     "metadata": {},
     "output_type": "display_data"
    },
    {
     "data": {
      "image/png": "[encoded data removed]",
      "text/plain": [
       "<Figure size 288x288 with 2 Axes>"
      ]
     },
     "metadata": {},
     "output_type": "display_data"
    }
   ],
   "source": [
    "import seaborn as sns\n",
    "#Perfilamiento\n",
    "aux = df[[x for x in df.columns \n",
    "          if x.endswith('perc75')] + ['df_cluster']].groupby('df_cluster').mean()\n",
    "#Porcentaje respecto a la suma por columna\n",
    "for col in aux.columns:\n",
    "    aux[col] = aux[col]/aux[col].sum()\n",
    "\n",
    "fig = plt.figure()\n",
    "fig, ax = plt.subplots(figsize=(4,4)) \n",
    "fig.patch.set_facecolor('white')\n",
    "fig.patch.set_alpha(0.9)\n",
    "\n",
    "#Heatmap\n",
    "sns.heatmap(aux.transpose(), cmap = 'Blues')"
   ]
  },
  {
   "cell_type": "code",
   "execution_count": 27,
   "id": "civil-bedroom",
   "metadata": {
    "ExecuteTime": {
     "end_time": "2021-02-15T22:22:31.209674Z",
     "start_time": "2021-02-15T22:22:31.012485Z"
    },
    "hidden": true
   },
   "outputs": [
    {
     "data": {
      "text/plain": [
       "<AxesSubplot:xlabel='df_cluster'>"
      ]
     },
     "execution_count": 27,
     "metadata": {},
     "output_type": "execute_result"
    },
    {
     "data": {
      "text/plain": [
       "<Figure size 432x288 with 0 Axes>"
      ]
     },
     "metadata": {},
     "output_type": "display_data"
    },
    {
     "data": {
      "image/png": "[encoded data removed]",
      "text/plain": [
       "<Figure size 216x144 with 2 Axes>"
      ]
     },
     "metadata": {},
     "output_type": "display_data"
    }
   ],
   "source": [
    "import seaborn as sns\n",
    "#Perfilamiento\n",
    "aux = df[[x for x in df.columns \n",
    "          if x.endswith('count')] + ['df_cluster']].groupby('df_cluster').mean()\n",
    "#Porcentaje respecto a la suma por columna\n",
    "for col in aux.columns:\n",
    "    aux[col] = aux[col]/aux[col].sum()\n",
    "\n",
    "fig = plt.figure()\n",
    "fig, ax = plt.subplots(figsize=(3,2)) \n",
    "fig.patch.set_facecolor('white')\n",
    "fig.patch.set_alpha(0.9)\n",
    "\n",
    "#Heatmap\n",
    "sns.heatmap(aux.transpose(), cmap = 'Blues')"
   ]
  },
  {
   "cell_type": "markdown",
   "id": "interstate-dutch",
   "metadata": {
    "heading_collapsed": true
   },
   "source": [
    "## Conservación del modelo"
   ]
  },
  {
   "cell_type": "code",
   "execution_count": null,
   "id": "responsible-equilibrium",
   "metadata": {
    "ExecuteTime": {
     "end_time": "2021-02-16T01:07:50.561769Z",
     "start_time": "2021-02-16T01:07:50.541518Z"
    },
    "hidden": true
   },
   "outputs": [],
   "source": [
    "import pickle\n",
    "with open('AZ_modelo_nosup_product.pkl', \"wb\") as f:\n",
    "    pickle.dump(cluster, f)"
   ]
  },
  {
   "cell_type": "code",
   "execution_count": 28,
   "id": "supreme-mechanism",
   "metadata": {
    "ExecuteTime": {
     "end_time": "2021-02-16T01:07:50.561769Z",
     "start_time": "2021-02-16T01:07:50.541518Z"
    },
    "hidden": true
   },
   "outputs": [
    {
     "data": {
      "text/plain": [
       "GaussianMixture(n_components=7, random_state=22)"
      ]
     },
     "execution_count": 28,
     "metadata": {},
     "output_type": "execute_result"
    }
   ],
   "source": [
    "import pickle    \n",
    "with open('AZ_modelo_nosup_product.pkl', \"rb\") as f:\n",
    "    cluster = pickle.load(f)\n",
    "    \n",
    "cluster"
   ]
  },
  {
   "cell_type": "code",
   "execution_count": 36,
   "id": "finnish-patio",
   "metadata": {
    "ExecuteTime": {
     "end_time": "2021-02-16T01:14:42.493568Z",
     "start_time": "2021-02-16T01:14:19.131814Z"
    },
    "hidden": true
   },
   "outputs": [],
   "source": [
    "export = backup.merge(df['df_cluster'].reset_index(), on = 'asin', how = 'left')\n",
    "export.to_csv(liga + 'df_cluster.csv', index = False)"
   ]
  },
  {
   "cell_type": "markdown",
   "id": "attractive-brown",
   "metadata": {},
   "source": [
    "## Fin"
   ]
  },
  {
   "cell_type": "code",
   "execution_count": 21,
   "id": "supreme-charity",
   "metadata": {
    "ExecuteTime": {
     "end_time": "2021-02-15T22:20:32.214743Z",
     "start_time": "2021-02-15T22:20:32.194758Z"
    }
   },
   "outputs": [
    {
     "name": "stdout",
     "output_type": "stream",
     "text": [
      "6 minutos con 55.26 segundos\n"
     ]
    },
    {
     "data": {
      "text/html": [
       "\n",
       "                <audio  controls=\"controls\" autoplay=\"autoplay\">\n",
       "                    <source src=\"data:audio/wav;base64,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\" type=\"audio/wav\" />\n",
       "                    Your browser does not support the audio element.\n",
       "                </audio>\n",
       "              "
      ],
      "text/plain": [
       "<IPython.lib.display.Audio object>"
      ]
     },
     "execution_count": 21,
     "metadata": {},
     "output_type": "execute_result"
    }
   ],
   "source": [
    "#Tiempo total para correr el notebook\n",
    "end = time.time()\n",
    "time_exp(end - start)\n",
    "tono()"
   ]
  }
 ],
 "metadata": {
  "kernelspec": {
   "display_name": "Python 3",
   "language": "python",
   "name": "python3"
  },
  "language_info": {
   "codemirror_mode": {
    "name": "ipython",
    "version": 3
   },
   "file_extension": ".py",
   "mimetype": "text/x-python",
   "name": "python",
   "nbconvert_exporter": "python",
   "pygments_lexer": "ipython3",
   "version": "3.9.1"
  },
  "toc": {
   "base_numbering": 1,
   "nav_menu": {},
   "number_sections": true,
   "sideBar": true,
   "skip_h1_title": true,
   "title_cell": "Table of Contents",
   "title_sidebar": "Contents",
   "toc_cell": false,
   "toc_position": {},
   "toc_section_display": true,
   "toc_window_display": true
  },
  "varInspector": {
   "cols": {
    "lenName": 16,
    "lenType": 16,
    "lenVar": 40
   },
   "kernels_config": {
    "python": {
     "delete_cmd_postfix": "",
     "delete_cmd_prefix": "del ",
     "library": "var_list.py",
     "varRefreshCmd": "print(var_dic_list())"
    },
    "r": {
     "delete_cmd_postfix": ") ",
     "delete_cmd_prefix": "rm(",
     "library": "var_list.r",
     "varRefreshCmd": "cat(var_dic_list()) "
    }
   },
   "types_to_exclude": [
    "module",
    "function",
    "builtin_function_or_method",
    "instance",
    "_Feature"
   ],
   "window_display": false
  }
 },
 "nbformat": 4,
 "nbformat_minor": 5
}
