{
 "cells": [
  {
   "cell_type": "markdown",
   "metadata": {},
   "source": [
    "# Amazon, from web to csv"
   ]
  },
  {
   "cell_type": "code",
   "execution_count": 1,
   "metadata": {
    "ExecuteTime": {
     "end_time": "2021-01-27T23:16:33.934084Z",
     "start_time": "2021-01-27T23:16:30.895810Z"
    }
   },
   "outputs": [],
   "source": [
    "# %load basic\n",
    "import pandas as pd\n",
    "import numpy as np\n",
    "import matplotlib.pyplot as plt\n",
    "pd.set_option('display.max_columns',200)\n",
    "pd.options.display.float_format = '{:.2f}'.format\n",
    "liga = '/home/ef/Documents/Diplomado/Amazon/data/'"
   ]
  },
  {
   "cell_type": "code",
   "execution_count": 2,
   "metadata": {
    "ExecuteTime": {
     "end_time": "2021-01-27T23:16:33.965892Z",
     "start_time": "2021-01-27T23:16:33.939898Z"
    }
   },
   "outputs": [],
   "source": [
    "import time\n",
    "start = time.time()"
   ]
  },
  {
   "cell_type": "markdown",
   "metadata": {},
   "source": [
    "Source:\n",
    "\n",
    "<https://nijianmo.github.io/amazon/index.html#subsets>"
   ]
  },
  {
   "cell_type": "code",
   "execution_count": 3,
   "metadata": {
    "ExecuteTime": {
     "end_time": "2021-01-27T23:16:37.429659Z",
     "start_time": "2021-01-27T23:16:33.976769Z"
    }
   },
   "outputs": [],
   "source": [
    "#Importar el código html de la url en cuestión\n",
    "import requests\n",
    "import bs4\n",
    "url_base = 'https://nijianmo.github.io/amazon/index.html#subsets'\n",
    "res = requests.get(url_base)\n",
    "soup = bs4.BeautifulSoup(res.text,'lxml')"
   ]
  },
  {
   "cell_type": "code",
   "execution_count": 4,
   "metadata": {
    "ExecuteTime": {
     "end_time": "2021-01-27T23:16:37.469850Z",
     "start_time": "2021-01-27T23:16:37.434091Z"
    }
   },
   "outputs": [
    {
     "name": "stdout",
     "output_type": "stream",
     "text": [
      "29\n"
     ]
    },
    {
     "data": {
      "text/plain": [
       "['http://deepyeti.ucsd.edu/jianmo/amazon/categoryFilesSmall/AMAZON_FASHION_5.json.gz',\n",
       " 'http://deepyeti.ucsd.edu/jianmo/amazon/categoryFilesSmall/All_Beauty_5.json.gz',\n",
       " 'http://deepyeti.ucsd.edu/jianmo/amazon/categoryFilesSmall/Appliances_5.json.gz',\n",
       " 'http://deepyeti.ucsd.edu/jianmo/amazon/categoryFilesSmall/Arts_Crafts_and_Sewing_5.json.gz']"
      ]
     },
     "execution_count": 4,
     "metadata": {},
     "output_type": "execute_result"
    }
   ],
   "source": [
    "import re \n",
    "#Obtener lista con links que terminen en .json.gz\n",
    "urls = [re.findall(r'http[\\s\\S]+\\.json\\.gz', str(x)) for x in soup.find_all('a')]\n",
    "#Sólo nos quedamos con el string de los elementos con algún link\n",
    "urls = [x[0] for x in filter(lambda x:len(x)>0, urls)]\n",
    "print(len(urls))\n",
    "urls[:4]"
   ]
  },
  {
   "cell_type": "code",
   "execution_count": 5,
   "metadata": {
    "ExecuteTime": {
     "end_time": "2021-01-27T23:16:37.497299Z",
     "start_time": "2021-01-27T23:16:37.473887Z"
    }
   },
   "outputs": [
    {
     "data": {
      "text/plain": [
       "['http://deepyeti.ucsd.edu/jianmo/amazon/categoryFilesSmall/Cell_Phones_and_Accessories_5.json.gz',\n",
       " 'http://deepyeti.ucsd.edu/jianmo/amazon/categoryFilesSmall/Kindle_Store_5.json.gz',\n",
       " 'http://deepyeti.ucsd.edu/jianmo/amazon/categoryFilesSmall/Movies_and_TV_5.json.gz',\n",
       " 'http://deepyeti.ucsd.edu/jianmo/amazon/categoryFilesSmall/Video_Games_5.json.gz']"
      ]
     },
     "execution_count": 5,
     "metadata": {},
     "output_type": "execute_result"
    }
   ],
   "source": [
    "#Sólo se trabajará con productos de entretenimiento\n",
    "entertainment =['Movies and TV','Kindle Store', \n",
    "                'Cell Phones and Accessories', 'Video Games'] \n",
    "\n",
    "urls = [x for x in urls if \n",
    "        re.findall(r'[\\w]+(?=_5\\.json.gz)',x)[-1].replace('_',' ') in \n",
    "        entertainment]\n",
    "\n",
    "urls"
   ]
  },
  {
   "cell_type": "code",
   "execution_count": 6,
   "metadata": {
    "ExecuteTime": {
     "end_time": "2021-01-27T23:16:37.523710Z",
     "start_time": "2021-01-27T23:16:37.501749Z"
    }
   },
   "outputs": [],
   "source": [
    "import urllib.request\n",
    "import json\n",
    "import gzip\n",
    "\n",
    "def webjson_to_df(url, local_dir = liga, n = 180500):\n",
    "    #Obtener el nombre de la categoría en minúsculas\n",
    "    file_name = re.findall(r'[\\w]+(?=_5\\.json.gz)',url)[-1].lower()\n",
    "    #Definir dirección para..\n",
    "    file_dir = f'{local_dir}/raw/{file_name}.json.gz'\n",
    "    #..descargar el archivo de url y posicionarlo en ella\n",
    "    urllib.request.urlretrieve(url,file_dir)\n",
    "    data = []\n",
    "    #Llamar archivo para cargarlo\n",
    "    with gzip.open(file_dir) as f:\n",
    "        for i,l in enumerate(f):\n",
    "            #Al exceder el número de renglones..\n",
    "            if i+1 > n:\n",
    "                #..termina el ciclo\n",
    "                break\n",
    "            #De otro modo, sigue compilando los datos\n",
    "            data.append(json.loads(l.strip()))\n",
    "    #Finalmente lo convierte a DataFrame\n",
    "    df = pd.DataFrame.from_dict(data)\n",
    "    #Crea una columna con la categoría rcorrespondiente\n",
    "    df['category'] = file_name\n",
    "    #Y lo exporta como csv\n",
    "    df.to_csv(f'{local_dir}/csv/{file_name}.csv', index = False)\n",
    "    #Borra objetos para siguiente iteración\n",
    "    del file_name, file_dir, data, df"
   ]
  },
  {
   "cell_type": "code",
   "execution_count": 7,
   "metadata": {
    "ExecuteTime": {
     "end_time": "2021-01-27T23:42:07.651612Z",
     "start_time": "2021-01-27T23:16:37.537349Z"
    }
   },
   "outputs": [],
   "source": [
    "import concurrent.futures\n",
    "\n",
    "#Ejecuta la función a través de la lista urls (iterable) con todo el power de todos los núcleos\n",
    "with concurrent.futures.ThreadPoolExecutor() as executor:\n",
    "    executor.map(webjson_to_df, urls)"
   ]
  },
  {
   "cell_type": "code",
   "execution_count": 8,
   "metadata": {
    "ExecuteTime": {
     "end_time": "2021-01-27T23:42:07.680354Z",
     "start_time": "2021-01-27T23:42:07.659856Z"
    }
   },
   "outputs": [],
   "source": [
    "import math\n",
    "def time_exp(x):\n",
    "    print(str(int(math.floor(x/60))\n",
    "             ) + \" minutos con \" + '{:.2f}'.format(60*(x/60 - math.floor(x/60))\n",
    "                                                  ) + \" segundos\")"
   ]
  },
  {
   "cell_type": "code",
   "execution_count": 9,
   "metadata": {
    "ExecuteTime": {
     "end_time": "2021-01-27T23:42:07.780662Z",
     "start_time": "2021-01-27T23:42:07.691243Z"
    }
   },
   "outputs": [
    {
     "name": "stdout",
     "output_type": "stream",
     "text": [
      "25 minutos con 33.83 segundos\n"
     ]
    }
   ],
   "source": [
    "#Tiempo total para correr el notebook\n",
    "end = time.time()\n",
    "time_exp(end - start)"
   ]
  },
  {
   "cell_type": "code",
   "execution_count": 10,
   "metadata": {
    "ExecuteTime": {
     "end_time": "2021-01-27T23:42:07.839670Z",
     "start_time": "2021-01-27T23:42:07.784285Z"
    }
   },
   "outputs": [
    {
     "data": {
      "text/html": [
       "\n",
       "                <audio  controls=\"controls\" autoplay=\"autoplay\">\n",
       "                    <source src=\"data:audio/wav;base64,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\" type=\"audio/wav\" />\n",
       "                    Your browser does not support the audio element.\n",
       "                </audio>\n",
       "              "
      ],
      "text/plain": [
       "<IPython.lib.display.Audio object>"
      ]
     },
     "execution_count": 10,
     "metadata": {},
     "output_type": "execute_result"
    }
   ],
   "source": [
    "#Tono para cuando termina el script\n",
    "from IPython.lib.display import Audio\n",
    "import numpy as np\n",
    "\n",
    "framerate = 4410\n",
    "play_time_seconds = 1\n",
    "\n",
    "t = np.linspace(0, play_time_seconds, framerate*play_time_seconds)\n",
    "audio_data = np.sin(5*np.pi*300*t) + np.sin(2*np.pi*240*t)\n",
    "\n",
    "#La siguiente línea suena!\n",
    "Audio(audio_data, rate=framerate, autoplay=True)"
   ]
  },
  {
   "cell_type": "markdown",
   "metadata": {
    "ExecuteTime": {
     "end_time": "2021-01-27T21:28:35.699056Z",
     "start_time": "2021-01-27T21:28:35.691207Z"
    }
   },
   "source": [
    "##FUNCIÓN SIN CONTADOR, TRAE TODO\n",
    "\n",
    "import urllib.request\n",
    "import json\n",
    "import gzip\n",
    "\n",
    "def webjson_to_df(url, liga = liga):\n",
    "    #Obtener el nombre de la categoría en minúsculas\n",
    "    file_name = re.findall(r'[\\w]+(?=_5\\.json.gz)',url)[-1].lower()\n",
    "    #Definir dirección para..\n",
    "    file_dir = f'{liga}/raw/{file_name}.json.gz'\n",
    "    #..descargar el archivo de url y posicionarlo en file_dir\n",
    "    urllib.request.urlretrieve(url,file_dir)\n",
    "    #Llamar archivo para cargarlo\n",
    "    with gzip.open(file_dir) as f:\n",
    "        data = map(lambda l:json.loads(l.strip()),f)\n",
    "    #Y convertirlo a DataFrame\n",
    "    df = pd.DataFrame.from_dict(data)\n",
    "    df['category'] = file_name\n",
    "    #Y exportarlo\n",
    "    df.to_csv(liga + file_name + '.csv', index = False)\n",
    "    #Borrar objetos para siguiente iteración\n",
    "    del file_name, file_dir, data, df"
   ]
  }
 ],
 "metadata": {
  "kernelspec": {
   "display_name": "Python 3",
   "language": "python",
   "name": "python3"
  },
  "language_info": {
   "codemirror_mode": {
    "name": "ipython",
    "version": 3
   },
   "file_extension": ".py",
   "mimetype": "text/x-python",
   "name": "python",
   "nbconvert_exporter": "python",
   "pygments_lexer": "ipython3",
   "version": "3.8.5"
  },
  "toc": {
   "base_numbering": 1,
   "nav_menu": {},
   "number_sections": true,
   "sideBar": true,
   "skip_h1_title": true,
   "title_cell": "Table of Contents",
   "title_sidebar": "Contents",
   "toc_cell": false,
   "toc_position": {},
   "toc_section_display": true,
   "toc_window_display": true
  },
  "varInspector": {
   "cols": {
    "lenName": 16,
    "lenType": 16,
    "lenVar": 40
   },
   "kernels_config": {
    "python": {
     "delete_cmd_postfix": "",
     "delete_cmd_prefix": "del ",
     "library": "var_list.py",
     "varRefreshCmd": "print(var_dic_list())"
    },
    "r": {
     "delete_cmd_postfix": ") ",
     "delete_cmd_prefix": "rm(",
     "library": "var_list.r",
     "varRefreshCmd": "cat(var_dic_list()) "
    }
   },
   "types_to_exclude": [
    "module",
    "function",
    "builtin_function_or_method",
    "instance",
    "_Feature"
   ],
   "window_display": false
  }
 },
 "nbformat": 4,
 "nbformat_minor": 4
}
