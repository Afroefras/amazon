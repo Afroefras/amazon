{
 "cells": [
  {
   "cell_type": "markdown",
   "id": "7496cb34",
   "metadata": {},
   "source": [
    "# ANN"
   ]
  },
  {
   "cell_type": "markdown",
   "id": "d19df0f6",
   "metadata": {},
   "source": [
    "## Import"
   ]
  },
  {
   "cell_type": "code",
   "execution_count": 1,
   "id": "d2893fb7",
   "metadata": {
    "ExecuteTime": {
     "end_time": "2021-05-08T21:53:34.939461Z",
     "start_time": "2021-05-08T21:53:34.931808Z"
    }
   },
   "outputs": [],
   "source": [
    "import sys\n",
    "sys.path.append('/Users/efraflores/Desktop/hub/diplo/venv/lib/python3.9/site-packages')"
   ]
  },
  {
   "cell_type": "code",
   "execution_count": 2,
   "id": "d3cf92df",
   "metadata": {
    "ExecuteTime": {
     "end_time": "2021-05-08T21:53:34.945674Z",
     "start_time": "2021-05-08T21:53:34.941952Z"
    }
   },
   "outputs": [
    {
     "name": "stdout",
     "output_type": "stream",
     "text": [
      "['resultado_modelo_cont_v1.csv', 'sentim.csv', 'df_cluster.csv', 'df.csv']\n"
     ]
    }
   ],
   "source": [
    "import os\n",
    "\n",
    "BASE_DIR = '/Users/efraflores/Desktop/EF/Diplo/AZ/data'\n",
    "print(os.listdir(BASE_DIR))"
   ]
  },
  {
   "cell_type": "code",
   "execution_count": 4,
   "id": "ab9f74f8",
   "metadata": {
    "ExecuteTime": {
     "end_time": "2021-05-08T21:55:11.805108Z",
     "start_time": "2021-05-08T21:54:59.914013Z"
    }
   },
   "outputs": [
    {
     "name": "stdout",
     "output_type": "stream",
     "text": [
      "Index(['overall', 'verified', 'reviewTime', 'reviewerID', 'asin',\n",
      "       'reviewerName', 'reviewText', 'summary', 'unixReviewTime', 'vote',\n",
      "       'style', 'image', 'category', 'Anio', 'Mes', 'Sem', 'DiaSem',\n",
      "       'reviewText_limpio', 'reviewText_long', 'reviewText_n_words',\n",
      "       'reviewText_relevant', 'neg', 'neu', 'pos', 'compound'],\n",
      "      dtype='object')\n"
     ]
    },
    {
     "data": {
      "text/html": [
       "<div>\n",
       "<style scoped>\n",
       "    .dataframe tbody tr th:only-of-type {\n",
       "        vertical-align: middle;\n",
       "    }\n",
       "\n",
       "    .dataframe tbody tr th {\n",
       "        vertical-align: top;\n",
       "    }\n",
       "\n",
       "    .dataframe thead th {\n",
       "        text-align: right;\n",
       "    }\n",
       "</style>\n",
       "<table border=\"1\" class=\"dataframe\">\n",
       "  <thead>\n",
       "    <tr style=\"text-align: right;\">\n",
       "      <th></th>\n",
       "      <th>overall</th>\n",
       "      <th>verified</th>\n",
       "      <th>reviewTime</th>\n",
       "      <th>reviewerID</th>\n",
       "      <th>asin</th>\n",
       "      <th>reviewerName</th>\n",
       "      <th>reviewText</th>\n",
       "      <th>summary</th>\n",
       "      <th>unixReviewTime</th>\n",
       "      <th>vote</th>\n",
       "      <th>...</th>\n",
       "      <th>Sem</th>\n",
       "      <th>DiaSem</th>\n",
       "      <th>reviewText_limpio</th>\n",
       "      <th>reviewText_long</th>\n",
       "      <th>reviewText_n_words</th>\n",
       "      <th>reviewText_relevant</th>\n",
       "      <th>neg</th>\n",
       "      <th>neu</th>\n",
       "      <th>pos</th>\n",
       "      <th>compound</th>\n",
       "    </tr>\n",
       "  </thead>\n",
       "  <tbody>\n",
       "    <tr>\n",
       "      <th>287097</th>\n",
       "      <td>4.0</td>\n",
       "      <td>True</td>\n",
       "      <td>2015-06-04</td>\n",
       "      <td>A2VKGS8A7FBT4T</td>\n",
       "      <td>B006LAOIWY</td>\n",
       "      <td>Kindle Customer</td>\n",
       "      <td>I enjoyed this book quite a lot.  For most par...</td>\n",
       "      <td>Very good</td>\n",
       "      <td>0 days</td>\n",
       "      <td>NaN</td>\n",
       "      <td>...</td>\n",
       "      <td>23</td>\n",
       "      <td>jue</td>\n",
       "      <td>enjoyed book quite lot part well written good ...</td>\n",
       "      <td>297.0</td>\n",
       "      <td>56.0</td>\n",
       "      <td>0.597315</td>\n",
       "      <td>0.092</td>\n",
       "      <td>0.518</td>\n",
       "      <td>0.39</td>\n",
       "      <td>0.8927</td>\n",
       "    </tr>\n",
       "  </tbody>\n",
       "</table>\n",
       "<p>1 rows × 25 columns</p>\n",
       "</div>"
      ],
      "text/plain": [
       "        overall  verified  reviewTime      reviewerID        asin  \\\n",
       "287097      4.0      True  2015-06-04  A2VKGS8A7FBT4T  B006LAOIWY   \n",
       "\n",
       "           reviewerName                                         reviewText  \\\n",
       "287097  Kindle Customer  I enjoyed this book quite a lot.  For most par...   \n",
       "\n",
       "          summary unixReviewTime vote  ... Sem  DiaSem  \\\n",
       "287097  Very good         0 days  NaN  ...  23     jue   \n",
       "\n",
       "                                        reviewText_limpio  reviewText_long  \\\n",
       "287097  enjoyed book quite lot part well written good ...            297.0   \n",
       "\n",
       "       reviewText_n_words  reviewText_relevant    neg    neu   pos  compound  \n",
       "287097               56.0             0.597315  0.092  0.518  0.39    0.8927  \n",
       "\n",
       "[1 rows x 25 columns]"
      ]
     },
     "execution_count": 4,
     "metadata": {},
     "output_type": "execute_result"
    }
   ],
   "source": [
    "import pandas as pd\n",
    "\n",
    "df = pd.read_csv(os.path.join(BASE_DIR,'df.csv'),low_memory=False\n",
    "                ).join(pd.read_csv(os.path.join(BASE_DIR,'sentim.csv'),low_memory=False))\n",
    "print(df.columns)\n",
    "df.sample()"
   ]
  },
  {
   "cell_type": "code",
   "execution_count": 9,
   "id": "fbaee27a",
   "metadata": {
    "ExecuteTime": {
     "end_time": "2021-05-08T21:56:23.032173Z",
     "start_time": "2021-05-08T21:56:23.025422Z"
    }
   },
   "outputs": [
    {
     "data": {
      "text/plain": [
       "'This installment introduces some unusual elements to the series -- mainly the \"instinct\" gauge, which lets you look through walls and avoid raising suspicions, but I sort of miss the older approach where keeping your distance and hiding your face did the trick. (Plus you have to refill said gauge by disabling or killing enemies to be able to use it once it runs out). The visuals are vastly improved from Blood Money of course, and I appreciate their allowing me to play with my gamepad.\\n\\nSome have criticized the fact that this game has \"too much story\" in it. I may be biased (even if I play an anti-hero, I like him having some motivation to pursue a course of action), but I didn\\'t feel that the story took anything away from the gameplay. I like him having some motivation to pursue a course of ...'"
      ]
     },
     "execution_count": 9,
     "metadata": {},
     "output_type": "execute_result"
    }
   ],
   "source": [
    "df['reviewText'][22]"
   ]
  },
  {
   "cell_type": "code",
   "execution_count": 10,
   "id": "921c0b01",
   "metadata": {
    "ExecuteTime": {
     "end_time": "2021-05-08T21:56:35.256317Z",
     "start_time": "2021-05-08T21:56:35.252416Z"
    }
   },
   "outputs": [
    {
     "data": {
      "text/plain": [
       "'I like him having some motivation to pursue a course of ...'"
      ]
     },
     "execution_count": 10,
     "metadata": {},
     "output_type": "execute_result"
    }
   ],
   "source": [
    "df['summary'][22]"
   ]
  }
 ],
 "metadata": {
  "kernelspec": {
   "display_name": "Python 3",
   "language": "python",
   "name": "python3"
  },
  "language_info": {
   "codemirror_mode": {
    "name": "ipython",
    "version": 3
   },
   "file_extension": ".py",
   "mimetype": "text/x-python",
   "name": "python",
   "nbconvert_exporter": "python",
   "pygments_lexer": "ipython3",
   "version": "3.9.1"
  },
  "toc": {
   "base_numbering": 1,
   "nav_menu": {},
   "number_sections": true,
   "sideBar": true,
   "skip_h1_title": true,
   "title_cell": "Table of Contents",
   "title_sidebar": "Contents",
   "toc_cell": false,
   "toc_position": {},
   "toc_section_display": true,
   "toc_window_display": false
  },
  "varInspector": {
   "cols": {
    "lenName": 16,
    "lenType": 16,
    "lenVar": 40
   },
   "kernels_config": {
    "python": {
     "delete_cmd_postfix": "",
     "delete_cmd_prefix": "del ",
     "library": "var_list.py",
     "varRefreshCmd": "print(var_dic_list())"
    },
    "r": {
     "delete_cmd_postfix": ") ",
     "delete_cmd_prefix": "rm(",
     "library": "var_list.r",
     "varRefreshCmd": "cat(var_dic_list()) "
    }
   },
   "types_to_exclude": [
    "module",
    "function",
    "builtin_function_or_method",
    "instance",
    "_Feature"
   ],
   "window_display": false
  }
 },
 "nbformat": 4,
 "nbformat_minor": 5
}
