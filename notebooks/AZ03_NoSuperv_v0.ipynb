{
 "cells": [
  {
   "cell_type": "markdown",
   "metadata": {},
   "source": [
    "# Amazon, no supervisado"
   ]
  },
  {
   "cell_type": "markdown",
   "metadata": {},
   "source": [
    "## Importar"
   ]
  },
  {
   "cell_type": "code",
   "execution_count": 1,
   "metadata": {
    "ExecuteTime": {
     "end_time": "2021-02-01T22:13:22.166396Z",
     "start_time": "2021-02-01T22:13:21.351897Z"
    }
   },
   "outputs": [
    {
     "data": {
      "text/plain": [
       "['raw',\n",
       " 'df_sentim.csv',\n",
       " 'sentim.csv',\n",
       " 'df.csv',\n",
       " 'df_cluster.csv',\n",
       " 'csv',\n",
       " 'FitRec']"
      ]
     },
     "execution_count": 1,
     "metadata": {},
     "output_type": "execute_result"
    }
   ],
   "source": [
    "# %load basic\n",
    "import os\n",
    "import numpy as np\n",
    "import pandas as pd\n",
    "import matplotlib.pyplot as plt\n",
    "pd.set_option('display.max_columns',200)\n",
    "pd.options.display.float_format = '{:.2f}'.format\n",
    "liga = '/home/ef/Documents/Diplomado/Amazon/data/'\n",
    "os.listdir(liga)"
   ]
  },
  {
   "cell_type": "code",
   "execution_count": 2,
   "metadata": {
    "ExecuteTime": {
     "end_time": "2021-02-01T22:13:22.176520Z",
     "start_time": "2021-02-01T22:13:22.169917Z"
    }
   },
   "outputs": [],
   "source": [
    "import time\n",
    "start = time.time()"
   ]
  },
  {
   "cell_type": "code",
   "execution_count": 3,
   "metadata": {
    "ExecuteTime": {
     "end_time": "2021-02-01T22:13:44.727514Z",
     "start_time": "2021-02-01T22:13:22.181555Z"
    }
   },
   "outputs": [
    {
     "name": "stdout",
     "output_type": "stream",
     "text": [
      "582156\n"
     ]
    },
    {
     "data": {
      "text/html": [
       "<div>\n",
       "<style scoped>\n",
       "    .dataframe tbody tr th:only-of-type {\n",
       "        vertical-align: middle;\n",
       "    }\n",
       "\n",
       "    .dataframe tbody tr th {\n",
       "        vertical-align: top;\n",
       "    }\n",
       "\n",
       "    .dataframe thead th {\n",
       "        text-align: right;\n",
       "    }\n",
       "</style>\n",
       "<table border=\"1\" class=\"dataframe\">\n",
       "  <thead>\n",
       "    <tr style=\"text-align: right;\">\n",
       "      <th></th>\n",
       "      <th>overall</th>\n",
       "      <th>verified</th>\n",
       "      <th>reviewTime</th>\n",
       "      <th>reviewText</th>\n",
       "      <th>summary</th>\n",
       "      <th>style</th>\n",
       "      <th>category</th>\n",
       "      <th>Anio</th>\n",
       "      <th>Mes</th>\n",
       "      <th>Sem</th>\n",
       "      <th>DiaSem</th>\n",
       "      <th>reviewText_limpio</th>\n",
       "      <th>reviewText_long</th>\n",
       "      <th>reviewText_n_words</th>\n",
       "      <th>reviewText_relevant</th>\n",
       "      <th>neg</th>\n",
       "      <th>neu</th>\n",
       "      <th>pos</th>\n",
       "      <th>compound</th>\n",
       "    </tr>\n",
       "  </thead>\n",
       "  <tbody>\n",
       "    <tr>\n",
       "      <th>178690</th>\n",
       "      <td>5.00</td>\n",
       "      <td>True</td>\n",
       "      <td>2014-01-17</td>\n",
       "      <td>This game very quickly became my favorite ente...</td>\n",
       "      <td>Best Mah Jong Version.</td>\n",
       "      <td>Sí</td>\n",
       "      <td>video_games</td>\n",
       "      <td>2014</td>\n",
       "      <td>ene</td>\n",
       "      <td>3</td>\n",
       "      <td>vie</td>\n",
       "      <td>game quickly became favorite entertainment com...</td>\n",
       "      <td>393.00</td>\n",
       "      <td>70.00</td>\n",
       "      <td>0.66</td>\n",
       "      <td>0.00</td>\n",
       "      <td>0.46</td>\n",
       "      <td>0.54</td>\n",
       "      <td>0.99</td>\n",
       "    </tr>\n",
       "    <tr>\n",
       "      <th>633544</th>\n",
       "      <td>5.00</td>\n",
       "      <td>True</td>\n",
       "      <td>2012-10-09</td>\n",
       "      <td>is very nice, transparent, flexible, weighs no...</td>\n",
       "      <td>excellent product.</td>\n",
       "      <td>No_especifica</td>\n",
       "      <td>cell_phones_and_accessories</td>\n",
       "      <td>2012</td>\n",
       "      <td>oct</td>\n",
       "      <td>41</td>\n",
       "      <td>mar</td>\n",
       "      <td>nice transparent flexible weighs nothing usefu...</td>\n",
       "      <td>166.00</td>\n",
       "      <td>26.00</td>\n",
       "      <td>0.68</td>\n",
       "      <td>0.10</td>\n",
       "      <td>0.42</td>\n",
       "      <td>0.48</td>\n",
       "      <td>0.84</td>\n",
       "    </tr>\n",
       "  </tbody>\n",
       "</table>\n",
       "</div>"
      ],
      "text/plain": [
       "        overall  verified  reviewTime  \\\n",
       "178690     5.00      True  2014-01-17   \n",
       "633544     5.00      True  2012-10-09   \n",
       "\n",
       "                                               reviewText  \\\n",
       "178690  This game very quickly became my favorite ente...   \n",
       "633544  is very nice, transparent, flexible, weighs no...   \n",
       "\n",
       "                       summary          style                     category  \\\n",
       "178690  Best Mah Jong Version.             Sí                  video_games   \n",
       "633544      excellent product.  No_especifica  cell_phones_and_accessories   \n",
       "\n",
       "        Anio  Mes  Sem DiaSem  \\\n",
       "178690  2014  ene    3    vie   \n",
       "633544  2012  oct   41    mar   \n",
       "\n",
       "                                        reviewText_limpio  reviewText_long  \\\n",
       "178690  game quickly became favorite entertainment com...           393.00   \n",
       "633544  nice transparent flexible weighs nothing usefu...           166.00   \n",
       "\n",
       "        reviewText_n_words  reviewText_relevant  neg  neu  pos  compound  \n",
       "178690               70.00                 0.66 0.00 0.46 0.54      0.99  \n",
       "633544               26.00                 0.68 0.10 0.42 0.48      0.84  "
      ]
     },
     "execution_count": 3,
     "metadata": {},
     "output_type": "execute_result"
    }
   ],
   "source": [
    "df = pd.read_csv(liga + 'df_sentim.csv')\n",
    "df = df[df['Anio'] > 2009].copy()\n",
    "#df = df.sample(frac = .2, random_state = 22).reset_index(drop = True)\n",
    "\n",
    "print(len(df))\n",
    "df.sample(2)"
   ]
  },
  {
   "cell_type": "code",
   "execution_count": 4,
   "metadata": {
    "ExecuteTime": {
     "end_time": "2021-02-01T22:13:45.236853Z",
     "start_time": "2021-02-01T22:13:44.731597Z"
    }
   },
   "outputs": [
    {
     "data": {
      "text/plain": [
       "overall                 0\n",
       "verified                0\n",
       "reviewTime              0\n",
       "reviewText              0\n",
       "summary                 0\n",
       "style                   0\n",
       "category                0\n",
       "Anio                    0\n",
       "Mes                     0\n",
       "Sem                     0\n",
       "DiaSem                  0\n",
       "reviewText_limpio      61\n",
       "reviewText_long         0\n",
       "reviewText_n_words      0\n",
       "reviewText_relevant     0\n",
       "neg                     0\n",
       "neu                     0\n",
       "pos                     0\n",
       "compound                0\n",
       "dtype: int64"
      ]
     },
     "execution_count": 4,
     "metadata": {},
     "output_type": "execute_result"
    }
   ],
   "source": [
    "df.isnull().sum()"
   ]
  },
  {
   "cell_type": "code",
   "execution_count": 5,
   "metadata": {
    "ExecuteTime": {
     "end_time": "2021-02-01T22:13:47.197907Z",
     "start_time": "2021-02-01T22:13:45.240411Z"
    }
   },
   "outputs": [
    {
     "name": "stdout",
     "output_type": "stream",
     "text": [
      "582095\n"
     ]
    },
    {
     "data": {
      "text/html": [
       "<div>\n",
       "<style scoped>\n",
       "    .dataframe tbody tr th:only-of-type {\n",
       "        vertical-align: middle;\n",
       "    }\n",
       "\n",
       "    .dataframe tbody tr th {\n",
       "        vertical-align: top;\n",
       "    }\n",
       "\n",
       "    .dataframe thead th {\n",
       "        text-align: right;\n",
       "    }\n",
       "</style>\n",
       "<table border=\"1\" class=\"dataframe\">\n",
       "  <thead>\n",
       "    <tr style=\"text-align: right;\">\n",
       "      <th></th>\n",
       "      <th>verified</th>\n",
       "      <th>style</th>\n",
       "      <th>category</th>\n",
       "      <th>Mes</th>\n",
       "      <th>DiaSem</th>\n",
       "      <th>Anio</th>\n",
       "      <th>reviewText_long</th>\n",
       "      <th>reviewText_n_words</th>\n",
       "      <th>reviewText_relevant</th>\n",
       "      <th>neg</th>\n",
       "      <th>neu</th>\n",
       "      <th>pos</th>\n",
       "      <th>compound</th>\n",
       "      <th>reviewText_limpio</th>\n",
       "      <th>overall</th>\n",
       "    </tr>\n",
       "  </thead>\n",
       "  <tbody>\n",
       "    <tr>\n",
       "      <th>1031</th>\n",
       "      <td>True</td>\n",
       "      <td>No_especifica</td>\n",
       "      <td>video_games</td>\n",
       "      <td>jul</td>\n",
       "      <td>lun</td>\n",
       "      <td>2013</td>\n",
       "      <td>161.00</td>\n",
       "      <td>34.00</td>\n",
       "      <td>0.54</td>\n",
       "      <td>0.00</td>\n",
       "      <td>0.65</td>\n",
       "      <td>0.35</td>\n",
       "      <td>0.77</td>\n",
       "      <td>used play game time kid recently came n get ga...</td>\n",
       "      <td>5.00</td>\n",
       "    </tr>\n",
       "    <tr>\n",
       "      <th>79141</th>\n",
       "      <td>True</td>\n",
       "      <td>No_especifica</td>\n",
       "      <td>video_games</td>\n",
       "      <td>jun</td>\n",
       "      <td>jue</td>\n",
       "      <td>2011</td>\n",
       "      <td>119.00</td>\n",
       "      <td>23.00</td>\n",
       "      <td>0.52</td>\n",
       "      <td>0.00</td>\n",
       "      <td>0.60</td>\n",
       "      <td>0.40</td>\n",
       "      <td>0.65</td>\n",
       "      <td>finally able afford game kid love matter final...</td>\n",
       "      <td>4.00</td>\n",
       "    </tr>\n",
       "    <tr>\n",
       "      <th>284240</th>\n",
       "      <td>True</td>\n",
       "      <td>No_especifica</td>\n",
       "      <td>kindle_store</td>\n",
       "      <td>abr</td>\n",
       "      <td>mie</td>\n",
       "      <td>2017</td>\n",
       "      <td>26.00</td>\n",
       "      <td>5.00</td>\n",
       "      <td>0.78</td>\n",
       "      <td>0.00</td>\n",
       "      <td>0.51</td>\n",
       "      <td>0.49</td>\n",
       "      <td>0.44</td>\n",
       "      <td>good story five star</td>\n",
       "      <td>5.00</td>\n",
       "    </tr>\n",
       "    <tr>\n",
       "      <th>333543</th>\n",
       "      <td>True</td>\n",
       "      <td>No_especifica</td>\n",
       "      <td>kindle_store</td>\n",
       "      <td>oct</td>\n",
       "      <td>jue</td>\n",
       "      <td>2014</td>\n",
       "      <td>701.00</td>\n",
       "      <td>130.00</td>\n",
       "      <td>0.66</td>\n",
       "      <td>0.11</td>\n",
       "      <td>0.57</td>\n",
       "      <td>0.32</td>\n",
       "      <td>0.95</td>\n",
       "      <td>received book free author honest review recall...</td>\n",
       "      <td>4.00</td>\n",
       "    </tr>\n",
       "  </tbody>\n",
       "</table>\n",
       "</div>"
      ],
      "text/plain": [
       "        verified          style      category  Mes DiaSem  Anio  \\\n",
       "1031        True  No_especifica   video_games  jul    lun  2013   \n",
       "79141       True  No_especifica   video_games  jun    jue  2011   \n",
       "284240      True  No_especifica  kindle_store  abr    mie  2017   \n",
       "333543      True  No_especifica  kindle_store  oct    jue  2014   \n",
       "\n",
       "        reviewText_long  reviewText_n_words  reviewText_relevant  neg  neu  \\\n",
       "1031             161.00               34.00                 0.54 0.00 0.65   \n",
       "79141            119.00               23.00                 0.52 0.00 0.60   \n",
       "284240            26.00                5.00                 0.78 0.00 0.51   \n",
       "333543           701.00              130.00                 0.66 0.11 0.57   \n",
       "\n",
       "        pos  compound                                  reviewText_limpio  \\\n",
       "1031   0.35      0.77  used play game time kid recently came n get ga...   \n",
       "79141  0.40      0.65  finally able afford game kid love matter final...   \n",
       "284240 0.49      0.44                               good story five star   \n",
       "333543 0.32      0.95  received book free author honest review recall...   \n",
       "\n",
       "        overall  \n",
       "1031       5.00  \n",
       "79141      4.00  \n",
       "284240     5.00  \n",
       "333543     4.00  "
      ]
     },
     "execution_count": 5,
     "metadata": {},
     "output_type": "execute_result"
    }
   ],
   "source": [
    "df = df.dropna().drop(columns = ['reviewTime','reviewText','summary','Sem']).copy()\n",
    "target = 'overall'\n",
    "\n",
    "num = [x for x in df.describe().columns if x not in [target]]\n",
    "cat = [x for x in df.columns if x not in num + ['reviewText_limpio',target]]\n",
    "df = df[cat + num + ['reviewText_limpio',target]].copy()\n",
    "\n",
    "print(len(df))\n",
    "df.sample(4)"
   ]
  },
  {
   "cell_type": "markdown",
   "metadata": {},
   "source": [
    "## Funciones"
   ]
  },
  {
   "cell_type": "code",
   "execution_count": 6,
   "metadata": {
    "ExecuteTime": {
     "end_time": "2021-02-01T22:13:47.216152Z",
     "start_time": "2021-02-01T22:13:47.203226Z"
    }
   },
   "outputs": [],
   "source": [
    "def outlier(df, x, p = 0.22):\n",
    "    var = df[x]\n",
    "    q1 = var.quantile(p/2)\n",
    "    q3 = var.quantile(1 - p/2)\n",
    "    iqr = q3 - q1\n",
    "    df = df[(var.isnull()) | ((var >= q1 - 1.5*iqr) & (var <= q3 + 1.5*iqr))].copy()\n",
    "    return df"
   ]
  },
  {
   "cell_type": "code",
   "execution_count": 7,
   "metadata": {
    "ExecuteTime": {
     "end_time": "2021-02-01T22:13:48.291652Z",
     "start_time": "2021-02-01T22:13:47.221707Z"
    }
   },
   "outputs": [],
   "source": [
    "from sklearn.feature_extraction.text import CountVectorizer, TfidfVectorizer\n",
    "\n",
    "def text_vectorizer(df, \n",
    "                    texto, \n",
    "                    cv = True,\n",
    "                    tv = True,\n",
    "                    n_gram = (1,1),\n",
    "                    max_features = 100):\n",
    "    \n",
    "    params = {'ngram_range' : n_gram, \n",
    "              'min_df' : 1, \n",
    "              'max_features' : max_features}    \n",
    "    if cv:\n",
    "        cv = CountVectorizer(**params)\n",
    "        df = df.join(pd.DataFrame(data = cv.fit_transform(df[texto]).todense(),\n",
    "                                  columns = [x+\"_cv\" for x in cv.get_feature_names()]))\n",
    "    if tv:\n",
    "        tv = TfidfVectorizer(**params)\n",
    "        df = df.join(pd.DataFrame(data = tv.fit_transform(df[texto]).todense(),\n",
    "                                  columns = [x+\"_tv\" for x in tv.get_feature_names()]))\n",
    "    return df, [x+\"_cv\" for x in cv.get_feature_names()], [x+\"_cv\" for x in cv.get_feature_names()]"
   ]
  },
  {
   "cell_type": "code",
   "execution_count": 8,
   "metadata": {
    "ExecuteTime": {
     "end_time": "2021-02-01T22:13:48.310810Z",
     "start_time": "2021-02-01T22:13:48.302469Z"
    }
   },
   "outputs": [],
   "source": [
    "import math\n",
    "def time_exp(x):\n",
    "    print(str(int(math.floor(x/60))\n",
    "             ) + \" minutos con \" + '{:.2f}'.format(60*(x/60 - math.floor(x/60))\n",
    "                                                  ) + \" segundos\")"
   ]
  },
  {
   "cell_type": "markdown",
   "metadata": {},
   "source": [
    "## TAD"
   ]
  },
  {
   "cell_type": "code",
   "execution_count": 9,
   "metadata": {
    "ExecuteTime": {
     "end_time": "2021-02-01T22:13:50.438207Z",
     "start_time": "2021-02-01T22:13:48.320641Z"
    }
   },
   "outputs": [
    {
     "name": "stdout",
     "output_type": "stream",
     "text": [
      "0.9539868921739578\n"
     ]
    }
   ],
   "source": [
    "dim_antes = len(df)\n",
    "for col in num:\n",
    "    df = outlier(df,col)\n",
    "    \n",
    "df.reset_index(drop = True, inplace = True)\n",
    "print(len(df) / dim_antes)"
   ]
  },
  {
   "cell_type": "code",
   "execution_count": 10,
   "metadata": {
    "ExecuteTime": {
     "end_time": "2021-02-01T22:14:41.674908Z",
     "start_time": "2021-02-01T22:13:50.450473Z"
    }
   },
   "outputs": [
    {
     "data": {
      "text/html": [
       "<div>\n",
       "<style scoped>\n",
       "    .dataframe tbody tr th:only-of-type {\n",
       "        vertical-align: middle;\n",
       "    }\n",
       "\n",
       "    .dataframe tbody tr th {\n",
       "        vertical-align: top;\n",
       "    }\n",
       "\n",
       "    .dataframe thead th {\n",
       "        text-align: right;\n",
       "    }\n",
       "</style>\n",
       "<table border=\"1\" class=\"dataframe\">\n",
       "  <thead>\n",
       "    <tr style=\"text-align: right;\">\n",
       "      <th></th>\n",
       "      <th>verified</th>\n",
       "      <th>style</th>\n",
       "      <th>category</th>\n",
       "      <th>Mes</th>\n",
       "      <th>DiaSem</th>\n",
       "      <th>Anio</th>\n",
       "      <th>reviewText_long</th>\n",
       "      <th>reviewText_n_words</th>\n",
       "      <th>reviewText_relevant</th>\n",
       "      <th>neg</th>\n",
       "      <th>neu</th>\n",
       "      <th>pos</th>\n",
       "      <th>compound</th>\n",
       "      <th>overall</th>\n",
       "      <th>book_cv</th>\n",
       "      <th>case_cv</th>\n",
       "      <th>character_cv</th>\n",
       "      <th>five_cv</th>\n",
       "      <th>game_cv</th>\n",
       "      <th>get_cv</th>\n",
       "      <th>good_cv</th>\n",
       "      <th>great_cv</th>\n",
       "      <th>like_cv</th>\n",
       "      <th>love_cv</th>\n",
       "      <th>movie_cv</th>\n",
       "      <th>much_cv</th>\n",
       "      <th>one_cv</th>\n",
       "      <th>phone_cv</th>\n",
       "      <th>read_cv</th>\n",
       "      <th>really_cv</th>\n",
       "      <th>star_cv</th>\n",
       "      <th>story_cv</th>\n",
       "      <th>time_cv</th>\n",
       "      <th>well_cv</th>\n",
       "      <th>work_cv</th>\n",
       "      <th>would_cv</th>\n",
       "      <th>book_tv</th>\n",
       "      <th>case_tv</th>\n",
       "      <th>character_tv</th>\n",
       "      <th>five_tv</th>\n",
       "      <th>game_tv</th>\n",
       "      <th>get_tv</th>\n",
       "      <th>good_tv</th>\n",
       "      <th>great_tv</th>\n",
       "      <th>like_tv</th>\n",
       "      <th>love_tv</th>\n",
       "      <th>movie_tv</th>\n",
       "      <th>much_tv</th>\n",
       "      <th>one_tv</th>\n",
       "      <th>phone_tv</th>\n",
       "      <th>read_tv</th>\n",
       "      <th>really_tv</th>\n",
       "      <th>star_tv</th>\n",
       "      <th>story_tv</th>\n",
       "      <th>time_tv</th>\n",
       "      <th>well_tv</th>\n",
       "      <th>work_tv</th>\n",
       "      <th>would_tv</th>\n",
       "    </tr>\n",
       "  </thead>\n",
       "  <tbody>\n",
       "    <tr>\n",
       "      <th>51742</th>\n",
       "      <td>False</td>\n",
       "      <td>No_especifica</td>\n",
       "      <td>video_games</td>\n",
       "      <td>jul</td>\n",
       "      <td>mar</td>\n",
       "      <td>2014</td>\n",
       "      <td>225.00</td>\n",
       "      <td>43.00</td>\n",
       "      <td>0.57</td>\n",
       "      <td>0.14</td>\n",
       "      <td>0.39</td>\n",
       "      <td>0.47</td>\n",
       "      <td>0.85</td>\n",
       "      <td>1.00</td>\n",
       "      <td>0</td>\n",
       "      <td>0</td>\n",
       "      <td>0</td>\n",
       "      <td>0</td>\n",
       "      <td>1</td>\n",
       "      <td>0</td>\n",
       "      <td>0</td>\n",
       "      <td>1</td>\n",
       "      <td>0</td>\n",
       "      <td>0</td>\n",
       "      <td>0</td>\n",
       "      <td>0</td>\n",
       "      <td>0</td>\n",
       "      <td>0</td>\n",
       "      <td>0</td>\n",
       "      <td>0</td>\n",
       "      <td>0</td>\n",
       "      <td>0</td>\n",
       "      <td>0</td>\n",
       "      <td>0</td>\n",
       "      <td>0</td>\n",
       "      <td>0</td>\n",
       "      <td>0.00</td>\n",
       "      <td>0.00</td>\n",
       "      <td>0.00</td>\n",
       "      <td>0.00</td>\n",
       "      <td>0.82</td>\n",
       "      <td>0.00</td>\n",
       "      <td>0.00</td>\n",
       "      <td>0.57</td>\n",
       "      <td>0.00</td>\n",
       "      <td>0.00</td>\n",
       "      <td>0.00</td>\n",
       "      <td>0.00</td>\n",
       "      <td>0.00</td>\n",
       "      <td>0.00</td>\n",
       "      <td>0.00</td>\n",
       "      <td>0.00</td>\n",
       "      <td>0.00</td>\n",
       "      <td>0.00</td>\n",
       "      <td>0.00</td>\n",
       "      <td>0.00</td>\n",
       "      <td>0.00</td>\n",
       "      <td>0.00</td>\n",
       "    </tr>\n",
       "    <tr>\n",
       "      <th>397431</th>\n",
       "      <td>True</td>\n",
       "      <td>No_especifica</td>\n",
       "      <td>cell_phones_and_accessories</td>\n",
       "      <td>jul</td>\n",
       "      <td>vie</td>\n",
       "      <td>2014</td>\n",
       "      <td>725.00</td>\n",
       "      <td>129.00</td>\n",
       "      <td>0.66</td>\n",
       "      <td>0.07</td>\n",
       "      <td>0.72</td>\n",
       "      <td>0.21</td>\n",
       "      <td>0.90</td>\n",
       "      <td>1.00</td>\n",
       "      <td>0</td>\n",
       "      <td>0</td>\n",
       "      <td>0</td>\n",
       "      <td>0</td>\n",
       "      <td>0</td>\n",
       "      <td>0</td>\n",
       "      <td>0</td>\n",
       "      <td>2</td>\n",
       "      <td>0</td>\n",
       "      <td>0</td>\n",
       "      <td>0</td>\n",
       "      <td>0</td>\n",
       "      <td>0</td>\n",
       "      <td>4</td>\n",
       "      <td>0</td>\n",
       "      <td>0</td>\n",
       "      <td>0</td>\n",
       "      <td>0</td>\n",
       "      <td>0</td>\n",
       "      <td>0</td>\n",
       "      <td>2</td>\n",
       "      <td>0</td>\n",
       "      <td>0.00</td>\n",
       "      <td>0.00</td>\n",
       "      <td>0.00</td>\n",
       "      <td>0.00</td>\n",
       "      <td>0.00</td>\n",
       "      <td>0.00</td>\n",
       "      <td>0.00</td>\n",
       "      <td>0.30</td>\n",
       "      <td>0.00</td>\n",
       "      <td>0.00</td>\n",
       "      <td>0.00</td>\n",
       "      <td>0.00</td>\n",
       "      <td>0.00</td>\n",
       "      <td>0.85</td>\n",
       "      <td>0.00</td>\n",
       "      <td>0.00</td>\n",
       "      <td>0.00</td>\n",
       "      <td>0.00</td>\n",
       "      <td>0.00</td>\n",
       "      <td>0.00</td>\n",
       "      <td>0.43</td>\n",
       "      <td>0.00</td>\n",
       "    </tr>\n",
       "    <tr>\n",
       "      <th>17881</th>\n",
       "      <td>True</td>\n",
       "      <td>Sí</td>\n",
       "      <td>video_games</td>\n",
       "      <td>mar</td>\n",
       "      <td>lun</td>\n",
       "      <td>2014</td>\n",
       "      <td>112.00</td>\n",
       "      <td>25.00</td>\n",
       "      <td>0.68</td>\n",
       "      <td>0.14</td>\n",
       "      <td>0.72</td>\n",
       "      <td>0.14</td>\n",
       "      <td>0.02</td>\n",
       "      <td>2.00</td>\n",
       "      <td>0</td>\n",
       "      <td>0</td>\n",
       "      <td>0</td>\n",
       "      <td>0</td>\n",
       "      <td>0</td>\n",
       "      <td>0</td>\n",
       "      <td>0</td>\n",
       "      <td>0</td>\n",
       "      <td>1</td>\n",
       "      <td>0</td>\n",
       "      <td>0</td>\n",
       "      <td>0</td>\n",
       "      <td>0</td>\n",
       "      <td>0</td>\n",
       "      <td>1</td>\n",
       "      <td>0</td>\n",
       "      <td>0</td>\n",
       "      <td>0</td>\n",
       "      <td>0</td>\n",
       "      <td>0</td>\n",
       "      <td>1</td>\n",
       "      <td>0</td>\n",
       "      <td>0.00</td>\n",
       "      <td>0.00</td>\n",
       "      <td>0.00</td>\n",
       "      <td>0.00</td>\n",
       "      <td>0.00</td>\n",
       "      <td>0.00</td>\n",
       "      <td>0.00</td>\n",
       "      <td>0.00</td>\n",
       "      <td>0.53</td>\n",
       "      <td>0.00</td>\n",
       "      <td>0.00</td>\n",
       "      <td>0.00</td>\n",
       "      <td>0.00</td>\n",
       "      <td>0.00</td>\n",
       "      <td>0.56</td>\n",
       "      <td>0.00</td>\n",
       "      <td>0.00</td>\n",
       "      <td>0.00</td>\n",
       "      <td>0.00</td>\n",
       "      <td>0.00</td>\n",
       "      <td>0.63</td>\n",
       "      <td>0.00</td>\n",
       "    </tr>\n",
       "    <tr>\n",
       "      <th>157838</th>\n",
       "      <td>True</td>\n",
       "      <td>No_especifica</td>\n",
       "      <td>kindle_store</td>\n",
       "      <td>sep</td>\n",
       "      <td>jue</td>\n",
       "      <td>2013</td>\n",
       "      <td>479.00</td>\n",
       "      <td>93.00</td>\n",
       "      <td>0.57</td>\n",
       "      <td>0.16</td>\n",
       "      <td>0.52</td>\n",
       "      <td>0.32</td>\n",
       "      <td>0.76</td>\n",
       "      <td>3.00</td>\n",
       "      <td>3</td>\n",
       "      <td>0</td>\n",
       "      <td>0</td>\n",
       "      <td>0</td>\n",
       "      <td>0</td>\n",
       "      <td>0</td>\n",
       "      <td>0</td>\n",
       "      <td>0</td>\n",
       "      <td>1</td>\n",
       "      <td>0</td>\n",
       "      <td>0</td>\n",
       "      <td>1</td>\n",
       "      <td>0</td>\n",
       "      <td>0</td>\n",
       "      <td>0</td>\n",
       "      <td>0</td>\n",
       "      <td>0</td>\n",
       "      <td>1</td>\n",
       "      <td>0</td>\n",
       "      <td>0</td>\n",
       "      <td>0</td>\n",
       "      <td>1</td>\n",
       "      <td>0.80</td>\n",
       "      <td>0.00</td>\n",
       "      <td>0.00</td>\n",
       "      <td>0.00</td>\n",
       "      <td>0.00</td>\n",
       "      <td>0.00</td>\n",
       "      <td>0.00</td>\n",
       "      <td>0.00</td>\n",
       "      <td>0.27</td>\n",
       "      <td>0.00</td>\n",
       "      <td>0.00</td>\n",
       "      <td>0.34</td>\n",
       "      <td>0.00</td>\n",
       "      <td>0.00</td>\n",
       "      <td>0.00</td>\n",
       "      <td>0.00</td>\n",
       "      <td>0.00</td>\n",
       "      <td>0.27</td>\n",
       "      <td>0.00</td>\n",
       "      <td>0.00</td>\n",
       "      <td>0.00</td>\n",
       "      <td>0.30</td>\n",
       "    </tr>\n",
       "  </tbody>\n",
       "</table>\n",
       "</div>"
      ],
      "text/plain": [
       "        verified          style                     category  Mes DiaSem  \\\n",
       "51742      False  No_especifica                  video_games  jul    mar   \n",
       "397431      True  No_especifica  cell_phones_and_accessories  jul    vie   \n",
       "17881       True             Sí                  video_games  mar    lun   \n",
       "157838      True  No_especifica                 kindle_store  sep    jue   \n",
       "\n",
       "        Anio  reviewText_long  reviewText_n_words  reviewText_relevant  neg  \\\n",
       "51742   2014           225.00               43.00                 0.57 0.14   \n",
       "397431  2014           725.00              129.00                 0.66 0.07   \n",
       "17881   2014           112.00               25.00                 0.68 0.14   \n",
       "157838  2013           479.00               93.00                 0.57 0.16   \n",
       "\n",
       "        neu  pos  compound  overall  book_cv  case_cv  character_cv  five_cv  \\\n",
       "51742  0.39 0.47      0.85     1.00        0        0             0        0   \n",
       "397431 0.72 0.21      0.90     1.00        0        0             0        0   \n",
       "17881  0.72 0.14      0.02     2.00        0        0             0        0   \n",
       "157838 0.52 0.32      0.76     3.00        3        0             0        0   \n",
       "\n",
       "        game_cv  get_cv  good_cv  great_cv  like_cv  love_cv  movie_cv  \\\n",
       "51742         1       0        0         1        0        0         0   \n",
       "397431        0       0        0         2        0        0         0   \n",
       "17881         0       0        0         0        1        0         0   \n",
       "157838        0       0        0         0        1        0         0   \n",
       "\n",
       "        much_cv  one_cv  phone_cv  read_cv  really_cv  star_cv  story_cv  \\\n",
       "51742         0       0         0        0          0        0         0   \n",
       "397431        0       0         4        0          0        0         0   \n",
       "17881         0       0         0        1          0        0         0   \n",
       "157838        1       0         0        0          0        0         1   \n",
       "\n",
       "        time_cv  well_cv  work_cv  would_cv  book_tv  case_tv  character_tv  \\\n",
       "51742         0        0        0         0     0.00     0.00          0.00   \n",
       "397431        0        0        2         0     0.00     0.00          0.00   \n",
       "17881         0        0        1         0     0.00     0.00          0.00   \n",
       "157838        0        0        0         1     0.80     0.00          0.00   \n",
       "\n",
       "        five_tv  game_tv  get_tv  good_tv  great_tv  like_tv  love_tv  \\\n",
       "51742      0.00     0.82    0.00     0.00      0.57     0.00     0.00   \n",
       "397431     0.00     0.00    0.00     0.00      0.30     0.00     0.00   \n",
       "17881      0.00     0.00    0.00     0.00      0.00     0.53     0.00   \n",
       "157838     0.00     0.00    0.00     0.00      0.00     0.27     0.00   \n",
       "\n",
       "        movie_tv  much_tv  one_tv  phone_tv  read_tv  really_tv  star_tv  \\\n",
       "51742       0.00     0.00    0.00      0.00     0.00       0.00     0.00   \n",
       "397431      0.00     0.00    0.00      0.85     0.00       0.00     0.00   \n",
       "17881       0.00     0.00    0.00      0.00     0.56       0.00     0.00   \n",
       "157838      0.00     0.34    0.00      0.00     0.00       0.00     0.00   \n",
       "\n",
       "        story_tv  time_tv  well_tv  work_tv  would_tv  \n",
       "51742       0.00     0.00     0.00     0.00      0.00  \n",
       "397431      0.00     0.00     0.00     0.43      0.00  \n",
       "17881       0.00     0.00     0.00     0.63      0.00  \n",
       "157838      0.27     0.00     0.00     0.00      0.30  "
      ]
     },
     "execution_count": 10,
     "metadata": {},
     "output_type": "execute_result"
    }
   ],
   "source": [
    "df, words_cv, words_tv = text_vectorizer(df,'reviewText_limpio', max_features = 22)\n",
    "df.drop(columns = ['reviewText_limpio'], inplace = True)\n",
    "df.sample(4)"
   ]
  },
  {
   "cell_type": "markdown",
   "metadata": {},
   "source": [
    "## Modelado"
   ]
  },
  {
   "cell_type": "markdown",
   "metadata": {},
   "source": [
    "### Preprocesamiento"
   ]
  },
  {
   "cell_type": "code",
   "execution_count": 11,
   "metadata": {
    "ExecuteTime": {
     "end_time": "2021-02-01T22:14:42.269790Z",
     "start_time": "2021-02-01T22:14:41.679366Z"
    }
   },
   "outputs": [
    {
     "data": {
      "text/html": [
       "<div>\n",
       "<style scoped>\n",
       "    .dataframe tbody tr th:only-of-type {\n",
       "        vertical-align: middle;\n",
       "    }\n",
       "\n",
       "    .dataframe tbody tr th {\n",
       "        vertical-align: top;\n",
       "    }\n",
       "\n",
       "    .dataframe thead th {\n",
       "        text-align: right;\n",
       "    }\n",
       "</style>\n",
       "<table border=\"1\" class=\"dataframe\">\n",
       "  <thead>\n",
       "    <tr style=\"text-align: right;\">\n",
       "      <th></th>\n",
       "      <th>Anio</th>\n",
       "      <th>reviewText_long</th>\n",
       "      <th>reviewText_n_words</th>\n",
       "      <th>reviewText_relevant</th>\n",
       "      <th>neg</th>\n",
       "      <th>neu</th>\n",
       "      <th>pos</th>\n",
       "      <th>compound</th>\n",
       "    </tr>\n",
       "  </thead>\n",
       "  <tbody>\n",
       "    <tr>\n",
       "      <th>count</th>\n",
       "      <td>555311.00</td>\n",
       "      <td>555311.00</td>\n",
       "      <td>555311.00</td>\n",
       "      <td>555311.00</td>\n",
       "      <td>555311.00</td>\n",
       "      <td>555311.00</td>\n",
       "      <td>555311.00</td>\n",
       "      <td>555311.00</td>\n",
       "    </tr>\n",
       "    <tr>\n",
       "      <th>mean</th>\n",
       "      <td>2013.73</td>\n",
       "      <td>305.45</td>\n",
       "      <td>56.40</td>\n",
       "      <td>0.66</td>\n",
       "      <td>0.06</td>\n",
       "      <td>0.54</td>\n",
       "      <td>0.40</td>\n",
       "      <td>0.65</td>\n",
       "    </tr>\n",
       "    <tr>\n",
       "      <th>std</th>\n",
       "      <td>1.65</td>\n",
       "      <td>345.80</td>\n",
       "      <td>62.64</td>\n",
       "      <td>0.12</td>\n",
       "      <td>0.09</td>\n",
       "      <td>0.18</td>\n",
       "      <td>0.20</td>\n",
       "      <td>0.42</td>\n",
       "    </tr>\n",
       "    <tr>\n",
       "      <th>min</th>\n",
       "      <td>2010.00</td>\n",
       "      <td>5.00</td>\n",
       "      <td>2.00</td>\n",
       "      <td>0.08</td>\n",
       "      <td>0.00</td>\n",
       "      <td>0.00</td>\n",
       "      <td>0.00</td>\n",
       "      <td>-1.00</td>\n",
       "    </tr>\n",
       "    <tr>\n",
       "      <th>25%</th>\n",
       "      <td>2013.00</td>\n",
       "      <td>93.00</td>\n",
       "      <td>17.00</td>\n",
       "      <td>0.57</td>\n",
       "      <td>0.00</td>\n",
       "      <td>0.42</td>\n",
       "      <td>0.27</td>\n",
       "      <td>0.51</td>\n",
       "    </tr>\n",
       "    <tr>\n",
       "      <th>50%</th>\n",
       "      <td>2014.00</td>\n",
       "      <td>180.00</td>\n",
       "      <td>34.00</td>\n",
       "      <td>0.63</td>\n",
       "      <td>0.00</td>\n",
       "      <td>0.53</td>\n",
       "      <td>0.40</td>\n",
       "      <td>0.83</td>\n",
       "    </tr>\n",
       "    <tr>\n",
       "      <th>75%</th>\n",
       "      <td>2015.00</td>\n",
       "      <td>374.00</td>\n",
       "      <td>70.00</td>\n",
       "      <td>0.71</td>\n",
       "      <td>0.10</td>\n",
       "      <td>0.64</td>\n",
       "      <td>0.54</td>\n",
       "      <td>0.94</td>\n",
       "    </tr>\n",
       "    <tr>\n",
       "      <th>max</th>\n",
       "      <td>2018.00</td>\n",
       "      <td>2214.00</td>\n",
       "      <td>340.00</td>\n",
       "      <td>1.00</td>\n",
       "      <td>0.46</td>\n",
       "      <td>1.00</td>\n",
       "      <td>1.00</td>\n",
       "      <td>1.00</td>\n",
       "    </tr>\n",
       "  </tbody>\n",
       "</table>\n",
       "</div>"
      ],
      "text/plain": [
       "           Anio  reviewText_long  reviewText_n_words  reviewText_relevant  \\\n",
       "count 555311.00        555311.00           555311.00            555311.00   \n",
       "mean    2013.73           305.45               56.40                 0.66   \n",
       "std        1.65           345.80               62.64                 0.12   \n",
       "min     2010.00             5.00                2.00                 0.08   \n",
       "25%     2013.00            93.00               17.00                 0.57   \n",
       "50%     2014.00           180.00               34.00                 0.63   \n",
       "75%     2015.00           374.00               70.00                 0.71   \n",
       "max     2018.00          2214.00              340.00                 1.00   \n",
       "\n",
       "            neg       neu       pos  compound  \n",
       "count 555311.00 555311.00 555311.00 555311.00  \n",
       "mean       0.06      0.54      0.40      0.65  \n",
       "std        0.09      0.18      0.20      0.42  \n",
       "min        0.00      0.00      0.00     -1.00  \n",
       "25%        0.00      0.42      0.27      0.51  \n",
       "50%        0.00      0.53      0.40      0.83  \n",
       "75%        0.10      0.64      0.54      0.94  \n",
       "max        0.46      1.00      1.00      1.00  "
      ]
     },
     "execution_count": 11,
     "metadata": {},
     "output_type": "execute_result"
    }
   ],
   "source": [
    "X = df[cat + num].copy()\n",
    "y = df[target].values\n",
    "X.describe()"
   ]
  },
  {
   "cell_type": "code",
   "execution_count": 12,
   "metadata": {
    "ExecuteTime": {
     "end_time": "2021-02-01T22:14:46.615103Z",
     "start_time": "2021-02-01T22:14:42.273248Z"
    }
   },
   "outputs": [
    {
     "data": {
      "text/html": [
       "<div>\n",
       "<style scoped>\n",
       "    .dataframe tbody tr th:only-of-type {\n",
       "        vertical-align: middle;\n",
       "    }\n",
       "\n",
       "    .dataframe tbody tr th {\n",
       "        vertical-align: top;\n",
       "    }\n",
       "\n",
       "    .dataframe thead th {\n",
       "        text-align: right;\n",
       "    }\n",
       "</style>\n",
       "<table border=\"1\" class=\"dataframe\">\n",
       "  <thead>\n",
       "    <tr style=\"text-align: right;\">\n",
       "      <th></th>\n",
       "      <th>0</th>\n",
       "      <th>1</th>\n",
       "      <th>2</th>\n",
       "      <th>3</th>\n",
       "      <th>4</th>\n",
       "      <th>5</th>\n",
       "      <th>6</th>\n",
       "      <th>7</th>\n",
       "      <th>8</th>\n",
       "      <th>9</th>\n",
       "      <th>10</th>\n",
       "      <th>11</th>\n",
       "      <th>12</th>\n",
       "    </tr>\n",
       "  </thead>\n",
       "  <tbody>\n",
       "    <tr>\n",
       "      <th>243224</th>\n",
       "      <td>False</td>\n",
       "      <td>4.24</td>\n",
       "      <td>4.22</td>\n",
       "      <td>4.26</td>\n",
       "      <td>4.27</td>\n",
       "      <td>0.50</td>\n",
       "      <td>0.11</td>\n",
       "      <td>0.12</td>\n",
       "      <td>0.62</td>\n",
       "      <td>0.00</td>\n",
       "      <td>0.56</td>\n",
       "      <td>0.44</td>\n",
       "      <td>0.96</td>\n",
       "    </tr>\n",
       "    <tr>\n",
       "      <th>104403</th>\n",
       "      <td>True</td>\n",
       "      <td>4.26</td>\n",
       "      <td>4.17</td>\n",
       "      <td>4.35</td>\n",
       "      <td>4.33</td>\n",
       "      <td>0.50</td>\n",
       "      <td>0.11</td>\n",
       "      <td>0.13</td>\n",
       "      <td>0.55</td>\n",
       "      <td>0.13</td>\n",
       "      <td>0.36</td>\n",
       "      <td>0.58</td>\n",
       "      <td>0.98</td>\n",
       "    </tr>\n",
       "    <tr>\n",
       "      <th>7979</th>\n",
       "      <td>True</td>\n",
       "      <td>4.54</td>\n",
       "      <td>4.56</td>\n",
       "      <td>4.56</td>\n",
       "      <td>4.57</td>\n",
       "      <td>0.00</td>\n",
       "      <td>0.18</td>\n",
       "      <td>0.22</td>\n",
       "      <td>0.54</td>\n",
       "      <td>0.46</td>\n",
       "      <td>0.56</td>\n",
       "      <td>0.23</td>\n",
       "      <td>0.74</td>\n",
       "    </tr>\n",
       "    <tr>\n",
       "      <th>212364</th>\n",
       "      <td>True</td>\n",
       "      <td>4.23</td>\n",
       "      <td>4.20</td>\n",
       "      <td>4.28</td>\n",
       "      <td>4.27</td>\n",
       "      <td>0.25</td>\n",
       "      <td>0.13</td>\n",
       "      <td>0.16</td>\n",
       "      <td>0.62</td>\n",
       "      <td>0.17</td>\n",
       "      <td>0.45</td>\n",
       "      <td>0.47</td>\n",
       "      <td>0.97</td>\n",
       "    </tr>\n",
       "  </tbody>\n",
       "</table>\n",
       "</div>"
      ],
      "text/plain": [
       "           0    1    2    3    4    5    6    7    8    9    10   11   12\n",
       "243224  False 4.24 4.22 4.26 4.27 0.50 0.11 0.12 0.62 0.00 0.56 0.44 0.96\n",
       "104403   True 4.26 4.17 4.35 4.33 0.50 0.11 0.13 0.55 0.13 0.36 0.58 0.98\n",
       "7979     True 4.54 4.56 4.56 4.57 0.00 0.18 0.22 0.54 0.46 0.56 0.23 0.74\n",
       "212364   True 4.23 4.20 4.28 4.27 0.25 0.13 0.16 0.62 0.17 0.45 0.47 0.97"
      ]
     },
     "execution_count": 12,
     "metadata": {},
     "output_type": "execute_result"
    }
   ],
   "source": [
    "#Encoder para categóricas\n",
    "from category_encoders.cat_boost import CatBoostEncoder\n",
    "encod = CatBoostEncoder()\n",
    "\n",
    "#Escala para numéricas\n",
    "from sklearn.preprocessing import MinMaxScaler\n",
    "mm_x = MinMaxScaler()\n",
    "\n",
    "#Se aplicará transformación para cada tipo de columnas\n",
    "from sklearn.compose import ColumnTransformer\n",
    "prep = ColumnTransformer(transformers=[('OHE', encod, cat),\n",
    "                                       ('Scale', mm_x, num)])\n",
    "\n",
    "Xs = pd.DataFrame(prep.fit_transform(X,y), index = df.index)\n",
    "\n",
    "Xs.sample(4)"
   ]
  },
  {
   "cell_type": "markdown",
   "metadata": {},
   "source": [
    "### Entrenamiento"
   ]
  },
  {
   "cell_type": "code",
   "execution_count": 13,
   "metadata": {
    "ExecuteTime": {
     "end_time": "2021-02-01T22:15:03.741703Z",
     "start_time": "2021-02-01T22:14:46.618813Z"
    }
   },
   "outputs": [
    {
     "data": {
      "text/html": [
       "<div>\n",
       "<style scoped>\n",
       "    .dataframe tbody tr th:only-of-type {\n",
       "        vertical-align: middle;\n",
       "    }\n",
       "\n",
       "    .dataframe tbody tr th {\n",
       "        vertical-align: top;\n",
       "    }\n",
       "\n",
       "    .dataframe thead th {\n",
       "        text-align: right;\n",
       "    }\n",
       "</style>\n",
       "<table border=\"1\" class=\"dataframe\">\n",
       "  <thead>\n",
       "    <tr style=\"text-align: right;\">\n",
       "      <th></th>\n",
       "      <th>Cluster</th>\n",
       "    </tr>\n",
       "    <tr>\n",
       "      <th>index</th>\n",
       "      <th></th>\n",
       "    </tr>\n",
       "  </thead>\n",
       "  <tbody>\n",
       "    <tr>\n",
       "      <th>B</th>\n",
       "      <td>0.37</td>\n",
       "    </tr>\n",
       "    <tr>\n",
       "      <th>D</th>\n",
       "      <td>0.35</td>\n",
       "    </tr>\n",
       "    <tr>\n",
       "      <th>C</th>\n",
       "      <td>0.14</td>\n",
       "    </tr>\n",
       "    <tr>\n",
       "      <th>A</th>\n",
       "      <td>0.14</td>\n",
       "    </tr>\n",
       "  </tbody>\n",
       "</table>\n",
       "</div>"
      ],
      "text/plain": [
       "       Cluster\n",
       "index         \n",
       "B         0.37\n",
       "D         0.35\n",
       "C         0.14\n",
       "A         0.14"
      ]
     },
     "execution_count": 13,
     "metadata": {},
     "output_type": "execute_result"
    }
   ],
   "source": [
    "import string\n",
    "from sklearn.cluster import KMeans\n",
    "n_clusters = 4\n",
    "cluster = KMeans(n_clusters = n_clusters, random_state = 22)\n",
    "\n",
    "dict_cluster = dict(zip(range(n_clusters),string.ascii_uppercase[:n_clusters]))\n",
    "Xs['Cluster'] = X['Cluster'] = df['Cluster'] = pd.DataFrame(cluster.fit_predict(Xs)).replace(dict_cluster)\n",
    "\n",
    "df['Cluster'].value_counts(1).reset_index().set_index('index')"
   ]
  },
  {
   "cell_type": "markdown",
   "metadata": {},
   "source": [
    "### PCA"
   ]
  },
  {
   "cell_type": "code",
   "execution_count": 14,
   "metadata": {
    "ExecuteTime": {
     "end_time": "2021-02-01T22:15:07.797158Z",
     "start_time": "2021-02-01T22:15:03.746994Z"
    }
   },
   "outputs": [
    {
     "data": {
      "text/plain": [
       "array([0.31867591, 0.53148778])"
      ]
     },
     "execution_count": 14,
     "metadata": {},
     "output_type": "execute_result"
    }
   ],
   "source": [
    "from sklearn.decomposition import PCA\n",
    "pca = PCA(n_components = 2)\n",
    "Xp = pd.DataFrame(pca.fit_transform(Xs.iloc[:,:-1]), index = Xs.index, columns=['p1', 'p2'])\n",
    "\n",
    "Xp['Cluster'] = Xs['Cluster'].astype(str)\n",
    "pca.explained_variance_ratio_.cumsum()"
   ]
  },
  {
   "cell_type": "code",
   "execution_count": 15,
   "metadata": {
    "ExecuteTime": {
     "end_time": "2021-02-01T22:15:09.852476Z",
     "start_time": "2021-02-01T22:15:07.800703Z"
    }
   },
   "outputs": [
    {
     "data": {
      "text/plain": [
       "<seaborn.axisgrid.FacetGrid at 0x7fc0da5cb8b0>"
      ]
     },
     "execution_count": 15,
     "metadata": {},
     "output_type": "execute_result"
    },
    {
     "data": {
      "image/png": "[encoded data removed]",
      "text/plain": [
       "<Figure size 403.75x360 with 1 Axes>"
      ]
     },
     "metadata": {
      "needs_background": "light"
     },
     "output_type": "display_data"
    }
   ],
   "source": [
    "import seaborn as sns\n",
    "sns.lmplot(data = Xp.sample(frac = .1),\n",
    "           x = 'p1',\n",
    "           y = 'p2',\n",
    "           fit_reg = False, \n",
    "           hue = 'Cluster')"
   ]
  },
  {
   "cell_type": "code",
   "execution_count": 16,
   "metadata": {
    "ExecuteTime": {
     "end_time": "2021-02-01T22:15:10.093107Z",
     "start_time": "2021-02-01T22:15:09.863433Z"
    },
    "scrolled": false
   },
   "outputs": [
    {
     "data": {
      "text/html": [
       "<div>\n",
       "<style scoped>\n",
       "    .dataframe tbody tr th:only-of-type {\n",
       "        vertical-align: middle;\n",
       "    }\n",
       "\n",
       "    .dataframe tbody tr th {\n",
       "        vertical-align: top;\n",
       "    }\n",
       "\n",
       "    .dataframe thead th {\n",
       "        text-align: right;\n",
       "    }\n",
       "</style>\n",
       "<table border=\"1\" class=\"dataframe\">\n",
       "  <thead>\n",
       "    <tr style=\"text-align: right;\">\n",
       "      <th>Cluster</th>\n",
       "      <th>A</th>\n",
       "      <th>B</th>\n",
       "      <th>C</th>\n",
       "      <th>D</th>\n",
       "    </tr>\n",
       "  </thead>\n",
       "  <tbody>\n",
       "    <tr>\n",
       "      <th>Anio</th>\n",
       "      <td>2014.12</td>\n",
       "      <td>2014.69</td>\n",
       "      <td>2013.04</td>\n",
       "      <td>2012.84</td>\n",
       "    </tr>\n",
       "    <tr>\n",
       "      <th>reviewText_long</th>\n",
       "      <td>227.25</td>\n",
       "      <td>107.51</td>\n",
       "      <td>547.98</td>\n",
       "      <td>444.21</td>\n",
       "    </tr>\n",
       "    <tr>\n",
       "      <th>reviewText_n_words</th>\n",
       "      <td>42.13</td>\n",
       "      <td>19.95</td>\n",
       "      <td>99.56</td>\n",
       "      <td>82.53</td>\n",
       "    </tr>\n",
       "    <tr>\n",
       "      <th>reviewText_relevant</th>\n",
       "      <td>0.65</td>\n",
       "      <td>0.72</td>\n",
       "      <td>0.64</td>\n",
       "      <td>0.60</td>\n",
       "    </tr>\n",
       "    <tr>\n",
       "      <th>neg</th>\n",
       "      <td>0.15</td>\n",
       "      <td>0.02</td>\n",
       "      <td>0.08</td>\n",
       "      <td>0.06</td>\n",
       "    </tr>\n",
       "    <tr>\n",
       "      <th>neu</th>\n",
       "      <td>0.74</td>\n",
       "      <td>0.41</td>\n",
       "      <td>0.56</td>\n",
       "      <td>0.59</td>\n",
       "    </tr>\n",
       "    <tr>\n",
       "      <th>pos</th>\n",
       "      <td>0.12</td>\n",
       "      <td>0.57</td>\n",
       "      <td>0.35</td>\n",
       "      <td>0.35</td>\n",
       "    </tr>\n",
       "    <tr>\n",
       "      <th>compound</th>\n",
       "      <td>-0.12</td>\n",
       "      <td>0.76</td>\n",
       "      <td>0.66</td>\n",
       "      <td>0.83</td>\n",
       "    </tr>\n",
       "  </tbody>\n",
       "</table>\n",
       "</div>"
      ],
      "text/plain": [
       "Cluster                   A       B       C       D\n",
       "Anio                2014.12 2014.69 2013.04 2012.84\n",
       "reviewText_long      227.25  107.51  547.98  444.21\n",
       "reviewText_n_words    42.13   19.95   99.56   82.53\n",
       "reviewText_relevant    0.65    0.72    0.64    0.60\n",
       "neg                    0.15    0.02    0.08    0.06\n",
       "neu                    0.74    0.41    0.56    0.59\n",
       "pos                    0.12    0.57    0.35    0.35\n",
       "compound              -0.12    0.76    0.66    0.83"
      ]
     },
     "execution_count": 16,
     "metadata": {},
     "output_type": "execute_result"
    }
   ],
   "source": [
    "df[num + ['Cluster']].groupby('Cluster')[num].mean().transpose()"
   ]
  },
  {
   "cell_type": "code",
   "execution_count": 17,
   "metadata": {
    "ExecuteTime": {
     "end_time": "2021-02-01T22:15:10.846108Z",
     "start_time": "2021-02-01T22:15:10.099411Z"
    },
    "scrolled": false
   },
   "outputs": [
    {
     "data": {
      "text/html": [
       "<div>\n",
       "<style scoped>\n",
       "    .dataframe tbody tr th:only-of-type {\n",
       "        vertical-align: middle;\n",
       "    }\n",
       "\n",
       "    .dataframe tbody tr th {\n",
       "        vertical-align: top;\n",
       "    }\n",
       "\n",
       "    .dataframe thead tr th {\n",
       "        text-align: left;\n",
       "    }\n",
       "\n",
       "    .dataframe thead tr:last-of-type th {\n",
       "        text-align: right;\n",
       "    }\n",
       "</style>\n",
       "<table border=\"1\" class=\"dataframe\">\n",
       "  <thead>\n",
       "    <tr>\n",
       "      <th></th>\n",
       "      <th>verified</th>\n",
       "      <th>style</th>\n",
       "      <th>category</th>\n",
       "      <th>Mes</th>\n",
       "      <th>DiaSem</th>\n",
       "    </tr>\n",
       "    <tr>\n",
       "      <th></th>\n",
       "      <th>&lt;lambda&gt;</th>\n",
       "      <th>&lt;lambda&gt;</th>\n",
       "      <th>&lt;lambda&gt;</th>\n",
       "      <th>&lt;lambda&gt;</th>\n",
       "      <th>&lt;lambda&gt;</th>\n",
       "    </tr>\n",
       "    <tr>\n",
       "      <th>Cluster</th>\n",
       "      <th></th>\n",
       "      <th></th>\n",
       "      <th></th>\n",
       "      <th></th>\n",
       "      <th></th>\n",
       "    </tr>\n",
       "  </thead>\n",
       "  <tbody>\n",
       "    <tr>\n",
       "      <th>A</th>\n",
       "      <td>True</td>\n",
       "      <td>No_especifica</td>\n",
       "      <td>cell_phones_and_accessories</td>\n",
       "      <td>ene</td>\n",
       "      <td>lun</td>\n",
       "    </tr>\n",
       "    <tr>\n",
       "      <th>B</th>\n",
       "      <td>True</td>\n",
       "      <td>No_especifica</td>\n",
       "      <td>movies_and_tv</td>\n",
       "      <td>ene</td>\n",
       "      <td>lun</td>\n",
       "    </tr>\n",
       "    <tr>\n",
       "      <th>C</th>\n",
       "      <td>False</td>\n",
       "      <td>No_especifica</td>\n",
       "      <td>kindle_store</td>\n",
       "      <td>ago</td>\n",
       "      <td>lun</td>\n",
       "    </tr>\n",
       "    <tr>\n",
       "      <th>D</th>\n",
       "      <td>True</td>\n",
       "      <td>No_especifica</td>\n",
       "      <td>kindle_store</td>\n",
       "      <td>dic</td>\n",
       "      <td>lun</td>\n",
       "    </tr>\n",
       "  </tbody>\n",
       "</table>\n",
       "</div>"
      ],
      "text/plain": [
       "        verified          style                     category      Mes   DiaSem\n",
       "        <lambda>       <lambda>                     <lambda> <lambda> <lambda>\n",
       "Cluster                                                                       \n",
       "A           True  No_especifica  cell_phones_and_accessories      ene      lun\n",
       "B           True  No_especifica                movies_and_tv      ene      lun\n",
       "C          False  No_especifica                 kindle_store      ago      lun\n",
       "D           True  No_especifica                 kindle_store      dic      lun"
      ]
     },
     "execution_count": 17,
     "metadata": {},
     "output_type": "execute_result"
    }
   ],
   "source": [
    "df[cat + ['Cluster']].groupby('Cluster')[cat].agg({lambda x:x.value_counts().index[0]})"
   ]
  },
  {
   "cell_type": "markdown",
   "metadata": {},
   "source": [
    "## Fin"
   ]
  },
  {
   "cell_type": "code",
   "execution_count": 18,
   "metadata": {
    "ExecuteTime": {
     "end_time": "2021-02-01T22:15:42.065578Z",
     "start_time": "2021-02-01T22:15:10.852462Z"
    }
   },
   "outputs": [],
   "source": [
    "#Exportar modelo\n",
    "import pickle\n",
    "with open('modelo_cluster_amazon.pkl', \"wb\") as f:\n",
    "    pickle.dump(cluster, f)\n",
    "    \n",
    "#Exportar DF\n",
    "df.to_csv(liga + 'df_cluster.csv', index = False)"
   ]
  },
  {
   "cell_type": "code",
   "execution_count": 19,
   "metadata": {
    "ExecuteTime": {
     "end_time": "2021-02-01T22:15:42.099394Z",
     "start_time": "2021-02-01T22:15:42.074896Z"
    }
   },
   "outputs": [
    {
     "data": {
      "text/plain": [
       "KMeans(n_clusters=4, random_state=22)"
      ]
     },
     "execution_count": 19,
     "metadata": {},
     "output_type": "execute_result"
    }
   ],
   "source": [
    "#Importar modelo\n",
    "import pickle    \n",
    "with open('modelo_cluster_amazon.pkl', \"rb\") as f:\n",
    "    modelo = pickle.load(f)\n",
    "    \n",
    "modelo"
   ]
  },
  {
   "cell_type": "code",
   "execution_count": 20,
   "metadata": {
    "ExecuteTime": {
     "end_time": "2021-02-01T22:15:42.186612Z",
     "start_time": "2021-02-01T22:15:42.108922Z"
    }
   },
   "outputs": [
    {
     "name": "stdout",
     "output_type": "stream",
     "text": [
      "2 minutos con 20.00 segundos\n"
     ]
    }
   ],
   "source": [
    "#Tiempo total para correr el notebook\n",
    "end = time.time()\n",
    "time_exp(end - start)"
   ]
  },
  {
   "cell_type": "code",
   "execution_count": 21,
   "metadata": {
    "ExecuteTime": {
     "end_time": "2021-02-01T22:15:42.214878Z",
     "start_time": "2021-02-01T22:15:42.191095Z"
    }
   },
   "outputs": [
    {
     "data": {
      "text/html": [
       "\n",
       "                <audio  controls=\"controls\" autoplay=\"autoplay\">\n",
       "                    <source src=\"data:audio/wav;base64,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\" type=\"audio/wav\" />\n",
       "                    Your browser does not support the audio element.\n",
       "                </audio>\n",
       "              "
      ],
      "text/plain": [
       "<IPython.lib.display.Audio object>"
      ]
     },
     "execution_count": 21,
     "metadata": {},
     "output_type": "execute_result"
    }
   ],
   "source": [
    "#Tono para cuando termina el script\n",
    "from IPython.lib.display import Audio\n",
    "import numpy as np\n",
    "\n",
    "framerate = 4410\n",
    "play_time_seconds = 1\n",
    "\n",
    "t = np.linspace(0, play_time_seconds, framerate*play_time_seconds)\n",
    "audio_data = np.sin(5*np.pi*300*t) + np.sin(2*np.pi*240*t)\n",
    "\n",
    "#La siguiente línea suena!\n",
    "Audio(audio_data, rate=framerate, autoplay=True)"
   ]
  }
 ],
 "metadata": {
  "kernelspec": {
   "display_name": "Python 3",
   "language": "python",
   "name": "python3"
  },
  "language_info": {
   "codemirror_mode": {
    "name": "ipython",
    "version": 3
   },
   "file_extension": ".py",
   "mimetype": "text/x-python",
   "name": "python",
   "nbconvert_exporter": "python",
   "pygments_lexer": "ipython3",
   "version": "3.8.5"
  },
  "toc": {
   "base_numbering": 1,
   "nav_menu": {},
   "number_sections": true,
   "sideBar": true,
   "skip_h1_title": true,
   "title_cell": "Table of Contents",
   "title_sidebar": "Contents",
   "toc_cell": false,
   "toc_position": {
    "height": "calc(100% - 180px)",
    "left": "10px",
    "top": "150px",
    "width": "361.594px"
   },
   "toc_section_display": true,
   "toc_window_display": true
  },
  "varInspector": {
   "cols": {
    "lenName": 16,
    "lenType": 16,
    "lenVar": 40
   },
   "kernels_config": {
    "python": {
     "delete_cmd_postfix": "",
     "delete_cmd_prefix": "del ",
     "library": "var_list.py",
     "varRefreshCmd": "print(var_dic_list())"
    },
    "r": {
     "delete_cmd_postfix": ") ",
     "delete_cmd_prefix": "rm(",
     "library": "var_list.r",
     "varRefreshCmd": "cat(var_dic_list()) "
    }
   },
   "types_to_exclude": [
    "module",
    "function",
    "builtin_function_or_method",
    "instance",
    "_Feature"
   ],
   "window_display": false
  }
 },
 "nbformat": 4,
 "nbformat_minor": 4
}
