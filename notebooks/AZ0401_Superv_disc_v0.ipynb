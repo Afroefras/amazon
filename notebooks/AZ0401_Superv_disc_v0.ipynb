{
 "cells": [
  {
   "cell_type": "markdown",
   "metadata": {},
   "source": [
    "# Amazon, modelo supervisado"
   ]
  },
  {
   "cell_type": "markdown",
   "metadata": {},
   "source": [
    "## Importar"
   ]
  },
  {
   "cell_type": "code",
   "execution_count": 1,
   "metadata": {
    "ExecuteTime": {
     "end_time": "2021-02-01T23:50:02.875055Z",
     "start_time": "2021-02-01T23:50:00.120328Z"
    }
   },
   "outputs": [
    {
     "data": {
      "text/plain": [
       "['raw',\n",
       " 'df_sentim.csv',\n",
       " 'sentim.csv',\n",
       " 'df.csv',\n",
       " 'df_cluster.csv',\n",
       " 'csv',\n",
       " 'FitRec']"
      ]
     },
     "execution_count": 1,
     "metadata": {},
     "output_type": "execute_result"
    }
   ],
   "source": [
    "# %load basic\n",
    "import os\n",
    "import time\n",
    "import numpy as np\n",
    "import pandas as pd\n",
    "import matplotlib.pyplot as plt\n",
    "pd.set_option('display.max_columns',200)\n",
    "pd.options.display.float_format = '{:.2f}'.format\n",
    "liga = '/home/ef/Documents/Diplomado/Amazon/data/'\n",
    "start = time.time()\n",
    "os.listdir(liga)"
   ]
  },
  {
   "cell_type": "code",
   "execution_count": 2,
   "metadata": {
    "ExecuteTime": {
     "end_time": "2021-02-01T23:50:11.830881Z",
     "start_time": "2021-02-01T23:50:02.886327Z"
    }
   },
   "outputs": [
    {
     "name": "stdout",
     "output_type": "stream",
     "text": [
      "(111062, 59)\n"
     ]
    },
    {
     "data": {
      "text/html": [
       "<div>\n",
       "<style scoped>\n",
       "    .dataframe tbody tr th:only-of-type {\n",
       "        vertical-align: middle;\n",
       "    }\n",
       "\n",
       "    .dataframe tbody tr th {\n",
       "        vertical-align: top;\n",
       "    }\n",
       "\n",
       "    .dataframe thead th {\n",
       "        text-align: right;\n",
       "    }\n",
       "</style>\n",
       "<table border=\"1\" class=\"dataframe\">\n",
       "  <thead>\n",
       "    <tr style=\"text-align: right;\">\n",
       "      <th></th>\n",
       "      <th>verified</th>\n",
       "      <th>style</th>\n",
       "      <th>category</th>\n",
       "      <th>Mes</th>\n",
       "      <th>DiaSem</th>\n",
       "      <th>Anio</th>\n",
       "      <th>reviewText_long</th>\n",
       "      <th>reviewText_n_words</th>\n",
       "      <th>reviewText_relevant</th>\n",
       "      <th>neg</th>\n",
       "      <th>neu</th>\n",
       "      <th>pos</th>\n",
       "      <th>compound</th>\n",
       "      <th>overall</th>\n",
       "      <th>book_cv</th>\n",
       "      <th>case_cv</th>\n",
       "      <th>character_cv</th>\n",
       "      <th>five_cv</th>\n",
       "      <th>game_cv</th>\n",
       "      <th>get_cv</th>\n",
       "      <th>good_cv</th>\n",
       "      <th>great_cv</th>\n",
       "      <th>like_cv</th>\n",
       "      <th>love_cv</th>\n",
       "      <th>movie_cv</th>\n",
       "      <th>much_cv</th>\n",
       "      <th>one_cv</th>\n",
       "      <th>phone_cv</th>\n",
       "      <th>read_cv</th>\n",
       "      <th>really_cv</th>\n",
       "      <th>star_cv</th>\n",
       "      <th>story_cv</th>\n",
       "      <th>time_cv</th>\n",
       "      <th>well_cv</th>\n",
       "      <th>work_cv</th>\n",
       "      <th>would_cv</th>\n",
       "      <th>book_tv</th>\n",
       "      <th>case_tv</th>\n",
       "      <th>character_tv</th>\n",
       "      <th>five_tv</th>\n",
       "      <th>game_tv</th>\n",
       "      <th>get_tv</th>\n",
       "      <th>good_tv</th>\n",
       "      <th>great_tv</th>\n",
       "      <th>like_tv</th>\n",
       "      <th>love_tv</th>\n",
       "      <th>movie_tv</th>\n",
       "      <th>much_tv</th>\n",
       "      <th>one_tv</th>\n",
       "      <th>phone_tv</th>\n",
       "      <th>read_tv</th>\n",
       "      <th>really_tv</th>\n",
       "      <th>star_tv</th>\n",
       "      <th>story_tv</th>\n",
       "      <th>time_tv</th>\n",
       "      <th>well_tv</th>\n",
       "      <th>work_tv</th>\n",
       "      <th>would_tv</th>\n",
       "      <th>Cluster</th>\n",
       "    </tr>\n",
       "  </thead>\n",
       "  <tbody>\n",
       "    <tr>\n",
       "      <th>21523</th>\n",
       "      <td>True</td>\n",
       "      <td>No_especifica</td>\n",
       "      <td>kindle_store</td>\n",
       "      <td>jul</td>\n",
       "      <td>dom</td>\n",
       "      <td>2012</td>\n",
       "      <td>328.00</td>\n",
       "      <td>61.00</td>\n",
       "      <td>0.59</td>\n",
       "      <td>0.08</td>\n",
       "      <td>0.56</td>\n",
       "      <td>0.36</td>\n",
       "      <td>0.87</td>\n",
       "      <td>4.00</td>\n",
       "      <td>3</td>\n",
       "      <td>0</td>\n",
       "      <td>0</td>\n",
       "      <td>0</td>\n",
       "      <td>0</td>\n",
       "      <td>0</td>\n",
       "      <td>0</td>\n",
       "      <td>0</td>\n",
       "      <td>0</td>\n",
       "      <td>0</td>\n",
       "      <td>0</td>\n",
       "      <td>1</td>\n",
       "      <td>0</td>\n",
       "      <td>0</td>\n",
       "      <td>0</td>\n",
       "      <td>0</td>\n",
       "      <td>1</td>\n",
       "      <td>0</td>\n",
       "      <td>0</td>\n",
       "      <td>0</td>\n",
       "      <td>0</td>\n",
       "      <td>0</td>\n",
       "      <td>0.89</td>\n",
       "      <td>0.00</td>\n",
       "      <td>0.00</td>\n",
       "      <td>0.00</td>\n",
       "      <td>0.00</td>\n",
       "      <td>0.00</td>\n",
       "      <td>0.00</td>\n",
       "      <td>0.00</td>\n",
       "      <td>0.00</td>\n",
       "      <td>0.00</td>\n",
       "      <td>0.00</td>\n",
       "      <td>0.37</td>\n",
       "      <td>0.00</td>\n",
       "      <td>0.00</td>\n",
       "      <td>0.00</td>\n",
       "      <td>0.00</td>\n",
       "      <td>0.27</td>\n",
       "      <td>0.00</td>\n",
       "      <td>0.00</td>\n",
       "      <td>0.00</td>\n",
       "      <td>0.00</td>\n",
       "      <td>0.00</td>\n",
       "      <td>D</td>\n",
       "    </tr>\n",
       "    <tr>\n",
       "      <th>277</th>\n",
       "      <td>True</td>\n",
       "      <td>Sí</td>\n",
       "      <td>cell_phones_and_accessories</td>\n",
       "      <td>feb</td>\n",
       "      <td>jue</td>\n",
       "      <td>2013</td>\n",
       "      <td>423.00</td>\n",
       "      <td>80.00</td>\n",
       "      <td>0.66</td>\n",
       "      <td>0.00</td>\n",
       "      <td>0.59</td>\n",
       "      <td>0.41</td>\n",
       "      <td>0.98</td>\n",
       "      <td>4.00</td>\n",
       "      <td>0</td>\n",
       "      <td>3</td>\n",
       "      <td>0</td>\n",
       "      <td>0</td>\n",
       "      <td>0</td>\n",
       "      <td>0</td>\n",
       "      <td>0</td>\n",
       "      <td>4</td>\n",
       "      <td>1</td>\n",
       "      <td>0</td>\n",
       "      <td>0</td>\n",
       "      <td>0</td>\n",
       "      <td>0</td>\n",
       "      <td>1</td>\n",
       "      <td>0</td>\n",
       "      <td>0</td>\n",
       "      <td>0</td>\n",
       "      <td>0</td>\n",
       "      <td>1</td>\n",
       "      <td>0</td>\n",
       "      <td>0</td>\n",
       "      <td>0</td>\n",
       "      <td>0.00</td>\n",
       "      <td>0.69</td>\n",
       "      <td>0.00</td>\n",
       "      <td>0.00</td>\n",
       "      <td>0.00</td>\n",
       "      <td>0.00</td>\n",
       "      <td>0.00</td>\n",
       "      <td>0.63</td>\n",
       "      <td>0.19</td>\n",
       "      <td>0.00</td>\n",
       "      <td>0.00</td>\n",
       "      <td>0.00</td>\n",
       "      <td>0.00</td>\n",
       "      <td>0.22</td>\n",
       "      <td>0.00</td>\n",
       "      <td>0.00</td>\n",
       "      <td>0.00</td>\n",
       "      <td>0.00</td>\n",
       "      <td>0.20</td>\n",
       "      <td>0.00</td>\n",
       "      <td>0.00</td>\n",
       "      <td>0.00</td>\n",
       "      <td>D</td>\n",
       "    </tr>\n",
       "    <tr>\n",
       "      <th>16856</th>\n",
       "      <td>True</td>\n",
       "      <td>Sí</td>\n",
       "      <td>cell_phones_and_accessories</td>\n",
       "      <td>mar</td>\n",
       "      <td>mie</td>\n",
       "      <td>2010</td>\n",
       "      <td>237.00</td>\n",
       "      <td>42.00</td>\n",
       "      <td>0.69</td>\n",
       "      <td>0.12</td>\n",
       "      <td>0.68</td>\n",
       "      <td>0.20</td>\n",
       "      <td>0.56</td>\n",
       "      <td>4.00</td>\n",
       "      <td>0</td>\n",
       "      <td>0</td>\n",
       "      <td>0</td>\n",
       "      <td>0</td>\n",
       "      <td>0</td>\n",
       "      <td>0</td>\n",
       "      <td>0</td>\n",
       "      <td>1</td>\n",
       "      <td>1</td>\n",
       "      <td>0</td>\n",
       "      <td>0</td>\n",
       "      <td>0</td>\n",
       "      <td>0</td>\n",
       "      <td>0</td>\n",
       "      <td>0</td>\n",
       "      <td>0</td>\n",
       "      <td>0</td>\n",
       "      <td>0</td>\n",
       "      <td>0</td>\n",
       "      <td>0</td>\n",
       "      <td>0</td>\n",
       "      <td>0</td>\n",
       "      <td>0.00</td>\n",
       "      <td>0.00</td>\n",
       "      <td>0.00</td>\n",
       "      <td>0.00</td>\n",
       "      <td>0.00</td>\n",
       "      <td>0.00</td>\n",
       "      <td>0.00</td>\n",
       "      <td>0.64</td>\n",
       "      <td>0.77</td>\n",
       "      <td>0.00</td>\n",
       "      <td>0.00</td>\n",
       "      <td>0.00</td>\n",
       "      <td>0.00</td>\n",
       "      <td>0.00</td>\n",
       "      <td>0.00</td>\n",
       "      <td>0.00</td>\n",
       "      <td>0.00</td>\n",
       "      <td>0.00</td>\n",
       "      <td>0.00</td>\n",
       "      <td>0.00</td>\n",
       "      <td>0.00</td>\n",
       "      <td>0.00</td>\n",
       "      <td>D</td>\n",
       "    </tr>\n",
       "    <tr>\n",
       "      <th>103961</th>\n",
       "      <td>True</td>\n",
       "      <td>Sí</td>\n",
       "      <td>cell_phones_and_accessories</td>\n",
       "      <td>abr</td>\n",
       "      <td>lun</td>\n",
       "      <td>2016</td>\n",
       "      <td>30.00</td>\n",
       "      <td>5.00</td>\n",
       "      <td>0.81</td>\n",
       "      <td>0.00</td>\n",
       "      <td>1.00</td>\n",
       "      <td>0.00</td>\n",
       "      <td>0.00</td>\n",
       "      <td>5.00</td>\n",
       "      <td>0</td>\n",
       "      <td>0</td>\n",
       "      <td>0</td>\n",
       "      <td>1</td>\n",
       "      <td>0</td>\n",
       "      <td>0</td>\n",
       "      <td>0</td>\n",
       "      <td>0</td>\n",
       "      <td>0</td>\n",
       "      <td>0</td>\n",
       "      <td>0</td>\n",
       "      <td>0</td>\n",
       "      <td>0</td>\n",
       "      <td>0</td>\n",
       "      <td>0</td>\n",
       "      <td>0</td>\n",
       "      <td>1</td>\n",
       "      <td>0</td>\n",
       "      <td>0</td>\n",
       "      <td>0</td>\n",
       "      <td>1</td>\n",
       "      <td>0</td>\n",
       "      <td>0.00</td>\n",
       "      <td>0.00</td>\n",
       "      <td>0.00</td>\n",
       "      <td>0.58</td>\n",
       "      <td>0.00</td>\n",
       "      <td>0.00</td>\n",
       "      <td>0.00</td>\n",
       "      <td>0.00</td>\n",
       "      <td>0.00</td>\n",
       "      <td>0.00</td>\n",
       "      <td>0.00</td>\n",
       "      <td>0.00</td>\n",
       "      <td>0.00</td>\n",
       "      <td>0.00</td>\n",
       "      <td>0.00</td>\n",
       "      <td>0.00</td>\n",
       "      <td>0.49</td>\n",
       "      <td>0.00</td>\n",
       "      <td>0.00</td>\n",
       "      <td>0.00</td>\n",
       "      <td>0.65</td>\n",
       "      <td>0.00</td>\n",
       "      <td>A</td>\n",
       "    </tr>\n",
       "  </tbody>\n",
       "</table>\n",
       "</div>"
      ],
      "text/plain": [
       "        verified          style                     category  Mes DiaSem  \\\n",
       "21523       True  No_especifica                 kindle_store  jul    dom   \n",
       "277         True             Sí  cell_phones_and_accessories  feb    jue   \n",
       "16856       True             Sí  cell_phones_and_accessories  mar    mie   \n",
       "103961      True             Sí  cell_phones_and_accessories  abr    lun   \n",
       "\n",
       "        Anio  reviewText_long  reviewText_n_words  reviewText_relevant  neg  \\\n",
       "21523   2012           328.00               61.00                 0.59 0.08   \n",
       "277     2013           423.00               80.00                 0.66 0.00   \n",
       "16856   2010           237.00               42.00                 0.69 0.12   \n",
       "103961  2016            30.00                5.00                 0.81 0.00   \n",
       "\n",
       "        neu  pos  compound  overall  book_cv  case_cv  character_cv  five_cv  \\\n",
       "21523  0.56 0.36      0.87     4.00        3        0             0        0   \n",
       "277    0.59 0.41      0.98     4.00        0        3             0        0   \n",
       "16856  0.68 0.20      0.56     4.00        0        0             0        0   \n",
       "103961 1.00 0.00      0.00     5.00        0        0             0        1   \n",
       "\n",
       "        game_cv  get_cv  good_cv  great_cv  like_cv  love_cv  movie_cv  \\\n",
       "21523         0       0        0         0        0        0         0   \n",
       "277           0       0        0         4        1        0         0   \n",
       "16856         0       0        0         1        1        0         0   \n",
       "103961        0       0        0         0        0        0         0   \n",
       "\n",
       "        much_cv  one_cv  phone_cv  read_cv  really_cv  star_cv  story_cv  \\\n",
       "21523         1       0         0        0          0        1         0   \n",
       "277           0       0         1        0          0        0         0   \n",
       "16856         0       0         0        0          0        0         0   \n",
       "103961        0       0         0        0          0        1         0   \n",
       "\n",
       "        time_cv  well_cv  work_cv  would_cv  book_tv  case_tv  character_tv  \\\n",
       "21523         0        0        0         0     0.89     0.00          0.00   \n",
       "277           1        0        0         0     0.00     0.69          0.00   \n",
       "16856         0        0        0         0     0.00     0.00          0.00   \n",
       "103961        0        0        1         0     0.00     0.00          0.00   \n",
       "\n",
       "        five_tv  game_tv  get_tv  good_tv  great_tv  like_tv  love_tv  \\\n",
       "21523      0.00     0.00    0.00     0.00      0.00     0.00     0.00   \n",
       "277        0.00     0.00    0.00     0.00      0.63     0.19     0.00   \n",
       "16856      0.00     0.00    0.00     0.00      0.64     0.77     0.00   \n",
       "103961     0.58     0.00    0.00     0.00      0.00     0.00     0.00   \n",
       "\n",
       "        movie_tv  much_tv  one_tv  phone_tv  read_tv  really_tv  star_tv  \\\n",
       "21523       0.00     0.37    0.00      0.00     0.00       0.00     0.27   \n",
       "277         0.00     0.00    0.00      0.22     0.00       0.00     0.00   \n",
       "16856       0.00     0.00    0.00      0.00     0.00       0.00     0.00   \n",
       "103961      0.00     0.00    0.00      0.00     0.00       0.00     0.49   \n",
       "\n",
       "        story_tv  time_tv  well_tv  work_tv  would_tv Cluster  \n",
       "21523       0.00     0.00     0.00     0.00      0.00       D  \n",
       "277         0.00     0.20     0.00     0.00      0.00       D  \n",
       "16856       0.00     0.00     0.00     0.00      0.00       D  \n",
       "103961      0.00     0.00     0.00     0.65      0.00       A  "
      ]
     },
     "execution_count": 2,
     "metadata": {},
     "output_type": "execute_result"
    }
   ],
   "source": [
    "df = pd.read_csv(liga + 'df_cluster.csv')\n",
    "df = df.sample(frac = .2).reset_index(drop = True)\n",
    "print(df.shape)\n",
    "df.sample(4)"
   ]
  },
  {
   "cell_type": "markdown",
   "metadata": {},
   "source": [
    "## Funciones"
   ]
  },
  {
   "cell_type": "code",
   "execution_count": 3,
   "metadata": {
    "ExecuteTime": {
     "end_time": "2021-02-01T23:50:11.841781Z",
     "start_time": "2021-02-01T23:50:11.835317Z"
    }
   },
   "outputs": [],
   "source": [
    "import math\n",
    "def time_exp(x):\n",
    "    print(str(int(math.floor(x/60))\n",
    "             ) + \" minutos con \" + '{:.2f}'.format(60*(x/60 - math.floor(x/60))\n",
    "                                                  ) + \" segundos\")"
   ]
  },
  {
   "cell_type": "code",
   "execution_count": 4,
   "metadata": {
    "ExecuteTime": {
     "end_time": "2021-02-01T23:50:11.852207Z",
     "start_time": "2021-02-01T23:50:11.845757Z"
    }
   },
   "outputs": [],
   "source": [
    "#Tono para cuando termina el script\n",
    "from IPython.lib.display import Audio\n",
    "import numpy as np\n",
    "\n",
    "def tono(a = 1000, b = 700, play_time_seconds = 2, framerate = 4410,):\n",
    "    t = np.linspace(0, play_time_seconds, framerate*play_time_seconds)*np.pi\n",
    "    return Audio(np.sin(a*t) + np.sin(b*t), rate = framerate, autoplay=True)"
   ]
  },
  {
   "cell_type": "markdown",
   "metadata": {},
   "source": [
    "## Caso discreto"
   ]
  },
  {
   "cell_type": "code",
   "execution_count": 5,
   "metadata": {
    "ExecuteTime": {
     "end_time": "2021-02-01T23:50:12.014559Z",
     "start_time": "2021-02-01T23:50:11.855417Z"
    }
   },
   "outputs": [
    {
     "data": {
      "text/plain": [
       "1   0.81\n",
       "0   0.19\n",
       "Name: overall, dtype: float64"
      ]
     },
     "execution_count": 5,
     "metadata": {},
     "output_type": "execute_result"
    }
   ],
   "source": [
    "df['overall'] = list(map(lambda x: 1 if x > 3 else 0, df['overall']))\n",
    "df['overall'].value_counts(1)"
   ]
  },
  {
   "cell_type": "markdown",
   "metadata": {},
   "source": [
    "### Preprocesamiento"
   ]
  },
  {
   "cell_type": "code",
   "execution_count": 6,
   "metadata": {
    "ExecuteTime": {
     "end_time": "2021-02-01T23:50:12.827954Z",
     "start_time": "2021-02-01T23:50:12.019711Z"
    }
   },
   "outputs": [],
   "source": [
    "target = 'overall'\n",
    "words = [x for x in df.columns if x.endswith('_tv') or x.endswith('_cv')]\n",
    "num = [x for x in df.describe().columns if x not in words + [target]]\n",
    "cat = [x for x in df.columns if x not in words + num + [target]]\n",
    "\n",
    "df = df[cat + \n",
    "        num + \n",
    "        words + \n",
    "        [target]].copy()\n",
    "X = df.iloc[:,:-1]\n",
    "y = df[target].values"
   ]
  },
  {
   "cell_type": "code",
   "execution_count": 7,
   "metadata": {
    "ExecuteTime": {
     "end_time": "2021-02-01T23:50:15.448880Z",
     "start_time": "2021-02-01T23:50:12.832268Z"
    }
   },
   "outputs": [],
   "source": [
    "from sklearn.model_selection import train_test_split\n",
    "X_train, X_test, y_train, y_test = train_test_split(X, y,\n",
    "                                                    train_size = 0.7, \n",
    "                                                    random_state = 22)"
   ]
  },
  {
   "cell_type": "code",
   "execution_count": 8,
   "metadata": {
    "ExecuteTime": {
     "end_time": "2021-02-01T23:50:15.893113Z",
     "start_time": "2021-02-01T23:50:15.452893Z"
    }
   },
   "outputs": [],
   "source": [
    "#Encoder para categóricas\n",
    "from category_encoders.cat_boost import CatBoostEncoder\n",
    "encod = CatBoostEncoder()\n",
    "\n",
    "#Escala para numéricas\n",
    "from sklearn.preprocessing import MinMaxScaler\n",
    "mm_x = MinMaxScaler()\n",
    "\n",
    "#Se aplicará transformación para cada tipo de columnas\n",
    "from sklearn.compose import ColumnTransformer\n",
    "prep = ColumnTransformer(transformers=[('OHE', encod, cat),\n",
    "                                       ('Scale', mm_x, num)])"
   ]
  },
  {
   "cell_type": "markdown",
   "metadata": {},
   "source": [
    "### Modelo"
   ]
  },
  {
   "cell_type": "code",
   "execution_count": 9,
   "metadata": {
    "ExecuteTime": {
     "end_time": "2021-02-01T23:50:16.139960Z",
     "start_time": "2021-02-01T23:50:15.901946Z"
    }
   },
   "outputs": [],
   "source": [
    "from xgboost.sklearn import XGBClassifier\n",
    "xgb = XGBClassifier()\n",
    "\n",
    "param_xgb = {'learning_rate':[x/100 for x in range(1,111)],\n",
    "             'n_estimators':[x for x in range(1,111)],\n",
    "             'max_depth':[x for x in range(1,11)], \n",
    "             'min_child_weight':[x/10 for x in range(1,111)],\n",
    "             'objective':['count:poisson','multi:softmax'],\n",
    "             'subsample':[x/100 for x in range(1,111)], \n",
    "             'colsample_bytree':[x/100 for x in range(1,111)], \n",
    "            }\n",
    "\n",
    "from sklearn.model_selection import RandomizedSearchCV\n",
    "scoring = 'roc_auc' if len(set(y_train)) == 2 else 'accuracy'\n",
    "search_xgb = RandomizedSearchCV(param_distributions = param_xgb, \n",
    "                                cv = 4, \n",
    "                                n_jobs = -1, \n",
    "                                scoring = scoring, \n",
    "                                estimator = xgb, \n",
    "                                verbose = 5,\n",
    "                                n_iter = 100,\n",
    "                                random_state = 22)"
   ]
  },
  {
   "cell_type": "code",
   "execution_count": 10,
   "metadata": {
    "ExecuteTime": {
     "end_time": "2021-02-01T23:57:43.732001Z",
     "start_time": "2021-02-01T23:50:16.142230Z"
    }
   },
   "outputs": [
    {
     "name": "stdout",
     "output_type": "stream",
     "text": [
      "Fitting 4 folds for each of 100 candidates, totalling 400 fits\n"
     ]
    },
    {
     "name": "stderr",
     "output_type": "stream",
     "text": [
      "[Parallel(n_jobs=-1)]: Using backend LokyBackend with 4 concurrent workers.\n",
      "[Parallel(n_jobs=-1)]: Done  10 tasks      | elapsed:    8.1s\n",
      "[Parallel(n_jobs=-1)]: Done  64 tasks      | elapsed:   50.5s\n",
      "[Parallel(n_jobs=-1)]: Done 154 tasks      | elapsed:  2.0min\n",
      "[Parallel(n_jobs=-1)]: Done 280 tasks      | elapsed:  3.8min\n",
      "[Parallel(n_jobs=-1)]: Done 400 out of 400 | elapsed:  7.3min finished\n"
     ]
    },
    {
     "data": {
      "text/plain": [
       "0.790405116777745"
      ]
     },
     "execution_count": 10,
     "metadata": {},
     "output_type": "execute_result"
    }
   ],
   "source": [
    "from sklearn.pipeline import Pipeline\n",
    "modelo = Pipeline(steps=[('PCA', prep),\n",
    "                         ('XGBoost', search_xgb)])\n",
    "\n",
    "modelo.fit(X_train,y_train).score(X_test,y_test)"
   ]
  },
  {
   "cell_type": "markdown",
   "metadata": {},
   "source": [
    "### Validación"
   ]
  },
  {
   "cell_type": "code",
   "execution_count": 11,
   "metadata": {
    "ExecuteTime": {
     "end_time": "2021-02-01T23:57:45.949635Z",
     "start_time": "2021-02-01T23:57:43.734024Z"
    }
   },
   "outputs": [
    {
     "data": {
      "text/plain": [
       "'Accuracy de 82.52%'"
      ]
     },
     "metadata": {},
     "output_type": "display_data"
    },
    {
     "data": {
      "text/plain": [
       "<AxesSubplot:>"
      ]
     },
     "execution_count": 11,
     "metadata": {},
     "output_type": "execute_result"
    },
    {
     "data": {
      "image/png": "[encoded data removed]",
      "text/plain": [
       "<Figure size 504x504 with 2 Axes>"
      ]
     },
     "metadata": {
      "needs_background": "light"
     },
     "output_type": "display_data"
    }
   ],
   "source": [
    "from sklearn.metrics import confusion_matrix\n",
    "import seaborn as sns\n",
    "cm = pd.DataFrame(confusion_matrix(y_true = y_test,\n",
    "                                   y_pred = modelo.predict(X_test)),\n",
    "                  index = [y_test[index] for index in \n",
    "                           np.unique(y_test, return_index = True)[1]], \n",
    "                  columns = [y_test[index] for index in \n",
    "                             np.unique(y_test, return_index = True)[1]])\n",
    "\n",
    "##Tiene buena acertividad (suma de diagonal en la matriz de confusión)\n",
    "display('Accuracy de {:.2%}'.format(np.asarray(cm).trace()/len(y_test)))\n",
    "\n",
    "fig, ax = plt.subplots(figsize=(7,7)) \n",
    "sns.heatmap(pd.DataFrame([cm[col]/cm[col].sum() for col in cm.columns]).transpose(), \n",
    "            annot = True,\n",
    "            fmt = '.0%',\n",
    "            cmap = 'Blues',\n",
    "            linewidths = 0.5, \n",
    "            ax = ax)"
   ]
  },
  {
   "cell_type": "code",
   "execution_count": 12,
   "metadata": {
    "ExecuteTime": {
     "end_time": "2021-02-01T23:57:46.530290Z",
     "start_time": "2021-02-01T23:57:45.952902Z"
    }
   },
   "outputs": [
    {
     "data": {
      "text/plain": [
       "<AxesSubplot:>"
      ]
     },
     "execution_count": 12,
     "metadata": {},
     "output_type": "execute_result"
    },
    {
     "data": {
      "image/png": "[encoded data removed]",
      "text/plain": [
       "<Figure size 432x288 with 1 Axes>"
      ]
     },
     "metadata": {
      "needs_background": "light"
     },
     "output_type": "display_data"
    }
   ],
   "source": [
    "#Qué variables aportan más al modelo?\n",
    "importance = modelo[1].best_estimator_.get_booster().get_score(importance_type='weight')\n",
    "\n",
    "data = pd.DataFrame(data = list(importance.values()),\n",
    "                    index = [(X.columns)[int(x[1:])] for x in importance.keys()], \n",
    "                    columns = [\"score\"]).sort_values(by = \"score\")\n",
    "data.plot(kind='barh')"
   ]
  },
  {
   "cell_type": "markdown",
   "metadata": {},
   "source": [
    "### Conservar modelo"
   ]
  },
  {
   "cell_type": "code",
   "execution_count": 13,
   "metadata": {
    "ExecuteTime": {
     "end_time": "2021-02-01T23:57:46.557176Z",
     "start_time": "2021-02-01T23:57:46.535016Z"
    }
   },
   "outputs": [],
   "source": [
    "#Exportar modelo\n",
    "import pickle\n",
    "with open('modelo_amazon_discreto.pkl', \"wb\") as f:\n",
    "    pickle.dump(modelo, f)"
   ]
  },
  {
   "cell_type": "code",
   "execution_count": 14,
   "metadata": {
    "ExecuteTime": {
     "end_time": "2021-02-01T23:57:46.578746Z",
     "start_time": "2021-02-01T23:57:46.561016Z"
    }
   },
   "outputs": [],
   "source": [
    "#Importar modelo\n",
    "import pickle    \n",
    "with open('modelo_amazon_discreto.pkl', \"rb\") as f:\n",
    "    modelo = pickle.load(f)"
   ]
  },
  {
   "cell_type": "markdown",
   "metadata": {},
   "source": [
    "## Fin"
   ]
  },
  {
   "cell_type": "code",
   "execution_count": 15,
   "metadata": {
    "ExecuteTime": {
     "end_time": "2021-02-01T23:57:46.698538Z",
     "start_time": "2021-02-01T23:57:46.581770Z"
    }
   },
   "outputs": [
    {
     "name": "stdout",
     "output_type": "stream",
     "text": [
      "7 minutos con 43.72 segundos\n"
     ]
    },
    {
     "data": {
      "text/html": [
       "\n",
       "                <audio  controls=\"controls\" autoplay=\"autoplay\">\n",
       "                    <source src=\"data:audio/wav;base64,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\" type=\"audio/wav\" />\n",
       "                    Your browser does not support the audio element.\n",
       "                </audio>\n",
       "              "
      ],
      "text/plain": [
       "<IPython.lib.display.Audio object>"
      ]
     },
     "execution_count": 15,
     "metadata": {},
     "output_type": "execute_result"
    }
   ],
   "source": [
    "#Tiempo total para correr el notebook\n",
    "end = time.time()\n",
    "time_exp(end - start)\n",
    "tono()"
   ]
  }
 ],
 "metadata": {
  "kernelspec": {
   "display_name": "Python 3",
   "language": "python",
   "name": "python3"
  },
  "language_info": {
   "codemirror_mode": {
    "name": "ipython",
    "version": 3
   },
   "file_extension": ".py",
   "mimetype": "text/x-python",
   "name": "python",
   "nbconvert_exporter": "python",
   "pygments_lexer": "ipython3",
   "version": "3.8.5"
  },
  "toc": {
   "base_numbering": 1,
   "nav_menu": {},
   "number_sections": true,
   "sideBar": true,
   "skip_h1_title": true,
   "title_cell": "Table of Contents",
   "title_sidebar": "Contents",
   "toc_cell": false,
   "toc_position": {
    "height": "calc(100% - 180px)",
    "left": "10px",
    "top": "150px",
    "width": "361.591px"
   },
   "toc_section_display": true,
   "toc_window_display": true
  },
  "varInspector": {
   "cols": {
    "lenName": 16,
    "lenType": 16,
    "lenVar": 40
   },
   "kernels_config": {
    "python": {
     "delete_cmd_postfix": "",
     "delete_cmd_prefix": "del ",
     "library": "var_list.py",
     "varRefreshCmd": "print(var_dic_list())"
    },
    "r": {
     "delete_cmd_postfix": ") ",
     "delete_cmd_prefix": "rm(",
     "library": "var_list.r",
     "varRefreshCmd": "cat(var_dic_list()) "
    }
   },
   "types_to_exclude": [
    "module",
    "function",
    "builtin_function_or_method",
    "instance",
    "_Feature"
   ],
   "window_display": false
  }
 },
 "nbformat": 4,
 "nbformat_minor": 4
}
